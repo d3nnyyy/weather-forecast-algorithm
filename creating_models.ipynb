{
 "cells": [
  {
   "cell_type": "markdown",
   "source": [],
   "metadata": {
    "collapsed": false
   }
  },
  {
   "cell_type": "markdown",
   "source": [
    "# This notebook trains Prophet time series forecasting models for different weather variables using historical hourly data for Kyiv and saves the models for future predictions."
   ],
   "metadata": {
    "collapsed": false
   }
  },
  {
   "cell_type": "code",
   "execution_count": 8,
   "metadata": {
    "collapsed": true
   },
   "outputs": [
    {
     "name": "stdout",
     "output_type": "stream",
     "text": [
      "Requirement already satisfied: prophet in ./venv/lib/python3.10/site-packages (1.1.5)\r\n",
      "Requirement already satisfied: numpy>=1.15.4 in ./venv/lib/python3.10/site-packages (from prophet) (1.24.3)\r\n",
      "Requirement already satisfied: importlib-resources in ./venv/lib/python3.10/site-packages (from prophet) (6.1.1)\r\n",
      "Requirement already satisfied: pandas>=1.0.4 in ./venv/lib/python3.10/site-packages (from prophet) (2.2.0)\r\n",
      "Requirement already satisfied: matplotlib>=2.0.0 in ./venv/lib/python3.10/site-packages (from prophet) (3.8.2)\r\n",
      "Requirement already satisfied: tqdm>=4.36.1 in ./venv/lib/python3.10/site-packages (from prophet) (4.66.1)\r\n",
      "Requirement already satisfied: cmdstanpy>=1.0.4 in ./venv/lib/python3.10/site-packages (from prophet) (1.2.0)\r\n",
      "Requirement already satisfied: holidays>=0.25 in ./venv/lib/python3.10/site-packages (from prophet) (0.41)\r\n",
      "Requirement already satisfied: stanio~=0.3.0 in ./venv/lib/python3.10/site-packages (from cmdstanpy>=1.0.4->prophet) (0.3.0)\r\n",
      "Requirement already satisfied: python-dateutil in ./venv/lib/python3.10/site-packages (from holidays>=0.25->prophet) (2.8.2)\r\n",
      "Requirement already satisfied: pyparsing>=2.3.1 in ./venv/lib/python3.10/site-packages (from matplotlib>=2.0.0->prophet) (3.1.1)\r\n",
      "Requirement already satisfied: kiwisolver>=1.3.1 in ./venv/lib/python3.10/site-packages (from matplotlib>=2.0.0->prophet) (1.4.5)\r\n",
      "Requirement already satisfied: pillow>=8 in ./venv/lib/python3.10/site-packages (from matplotlib>=2.0.0->prophet) (10.2.0)\r\n",
      "Requirement already satisfied: cycler>=0.10 in ./venv/lib/python3.10/site-packages (from matplotlib>=2.0.0->prophet) (0.12.1)\r\n",
      "Requirement already satisfied: contourpy>=1.0.1 in ./venv/lib/python3.10/site-packages (from matplotlib>=2.0.0->prophet) (1.2.0)\r\n",
      "Requirement already satisfied: packaging>=20.0 in ./venv/lib/python3.10/site-packages (from matplotlib>=2.0.0->prophet) (23.2)\r\n",
      "Requirement already satisfied: fonttools>=4.22.0 in ./venv/lib/python3.10/site-packages (from matplotlib>=2.0.0->prophet) (4.47.2)\r\n",
      "Requirement already satisfied: pytz>=2020.1 in ./venv/lib/python3.10/site-packages (from pandas>=1.0.4->prophet) (2023.3.post1)\r\n",
      "Requirement already satisfied: tzdata>=2022.7 in ./venv/lib/python3.10/site-packages (from pandas>=1.0.4->prophet) (2023.4)\r\n",
      "Requirement already satisfied: six>=1.5 in ./venv/lib/python3.10/site-packages (from python-dateutil->holidays>=0.25->prophet) (1.16.0)\r\n",
      "\r\n",
      "\u001B[1m[\u001B[0m\u001B[34;49mnotice\u001B[0m\u001B[1;39;49m]\u001B[0m\u001B[39;49m A new release of pip available: \u001B[0m\u001B[31;49m22.3.1\u001B[0m\u001B[39;49m -> \u001B[0m\u001B[32;49m23.3.2\u001B[0m\r\n",
      "\u001B[1m[\u001B[0m\u001B[34;49mnotice\u001B[0m\u001B[1;39;49m]\u001B[0m\u001B[39;49m To update, run: \u001B[0m\u001B[32;49mpip install --upgrade pip\u001B[0m\r\n"
     ]
    }
   ],
   "source": [
    "!pip install prophet\n",
    "import pandas as pd\n",
    "from prophet import Prophet"
   ]
  },
  {
   "cell_type": "code",
   "execution_count": 9,
   "outputs": [
    {
     "data": {
      "text/plain": "                  date  temperature_2m  relative_humidity_2m  \\\n0  2019-01-01 00:00:00         -2.2425             91.135130   \n1  2019-01-01 01:00:00         -2.2925             91.131615   \n2  2019-01-01 02:00:00         -2.3925             91.807915   \n3  2019-01-01 03:00:00         -2.0925             92.858680   \n4  2019-01-01 04:00:00         -1.6925             93.226450   \n\n   apparent_temperature  precipitation  rain  surface_pressure  cloud_cover  \\\n0             -6.811514            0.1   0.0        1002.21090        100.0   \n1             -6.956277            0.0   0.0        1001.71814        100.0   \n2             -7.015568            0.0   0.0        1001.22095        100.0   \n3             -6.601203            0.1   0.0        1000.56360        100.0   \n4             -6.070883            0.1   0.0        1000.01260        100.0   \n\n   wind_speed_100m  wind_direction_100m  \n0        24.675106            203.19861  \n1        25.537172            201.50150  \n2        25.759504            206.56499  \n3        24.464113            212.98853  \n4        23.400000            216.86998  ",
      "text/html": "<div>\n<style scoped>\n    .dataframe tbody tr th:only-of-type {\n        vertical-align: middle;\n    }\n\n    .dataframe tbody tr th {\n        vertical-align: top;\n    }\n\n    .dataframe thead th {\n        text-align: right;\n    }\n</style>\n<table border=\"1\" class=\"dataframe\">\n  <thead>\n    <tr style=\"text-align: right;\">\n      <th></th>\n      <th>date</th>\n      <th>temperature_2m</th>\n      <th>relative_humidity_2m</th>\n      <th>apparent_temperature</th>\n      <th>precipitation</th>\n      <th>rain</th>\n      <th>surface_pressure</th>\n      <th>cloud_cover</th>\n      <th>wind_speed_100m</th>\n      <th>wind_direction_100m</th>\n    </tr>\n  </thead>\n  <tbody>\n    <tr>\n      <th>0</th>\n      <td>2019-01-01 00:00:00</td>\n      <td>-2.2425</td>\n      <td>91.135130</td>\n      <td>-6.811514</td>\n      <td>0.1</td>\n      <td>0.0</td>\n      <td>1002.21090</td>\n      <td>100.0</td>\n      <td>24.675106</td>\n      <td>203.19861</td>\n    </tr>\n    <tr>\n      <th>1</th>\n      <td>2019-01-01 01:00:00</td>\n      <td>-2.2925</td>\n      <td>91.131615</td>\n      <td>-6.956277</td>\n      <td>0.0</td>\n      <td>0.0</td>\n      <td>1001.71814</td>\n      <td>100.0</td>\n      <td>25.537172</td>\n      <td>201.50150</td>\n    </tr>\n    <tr>\n      <th>2</th>\n      <td>2019-01-01 02:00:00</td>\n      <td>-2.3925</td>\n      <td>91.807915</td>\n      <td>-7.015568</td>\n      <td>0.0</td>\n      <td>0.0</td>\n      <td>1001.22095</td>\n      <td>100.0</td>\n      <td>25.759504</td>\n      <td>206.56499</td>\n    </tr>\n    <tr>\n      <th>3</th>\n      <td>2019-01-01 03:00:00</td>\n      <td>-2.0925</td>\n      <td>92.858680</td>\n      <td>-6.601203</td>\n      <td>0.1</td>\n      <td>0.0</td>\n      <td>1000.56360</td>\n      <td>100.0</td>\n      <td>24.464113</td>\n      <td>212.98853</td>\n    </tr>\n    <tr>\n      <th>4</th>\n      <td>2019-01-01 04:00:00</td>\n      <td>-1.6925</td>\n      <td>93.226450</td>\n      <td>-6.070883</td>\n      <td>0.1</td>\n      <td>0.0</td>\n      <td>1000.01260</td>\n      <td>100.0</td>\n      <td>23.400000</td>\n      <td>216.86998</td>\n    </tr>\n  </tbody>\n</table>\n</div>"
     },
     "execution_count": 9,
     "metadata": {},
     "output_type": "execute_result"
    }
   ],
   "source": [
    "df = pd.read_csv(\"kyiv_hourly.csv\")\n",
    "df.head()"
   ],
   "metadata": {
    "collapsed": false
   }
  },
  {
   "cell_type": "code",
   "execution_count": 10,
   "outputs": [],
   "source": [
    "column_mapping = {\n",
    "    'date': 'ds',\n",
    "    'temperature_2m': 'y_temp_2',\n",
    "    'relative_humidity_2m': 'y_hum_2',\n",
    "    'apparent_temperature': 'y_temp_a',\n",
    "    'precipitation': 'y_precip',\n",
    "    'rain': 'y_rain',\n",
    "    'surface_pressure': 'y_press',\n",
    "    'cloud_cover': 'y_cloud',\n",
    "    'wind_speed_100m': 'y_w_speed',\n",
    "    'wind_direction_100m': 'y_w_dir'\n",
    "}\n",
    "df = df.rename(columns=column_mapping)"
   ],
   "metadata": {
    "collapsed": false
   }
  },
  {
   "cell_type": "code",
   "execution_count": 11,
   "outputs": [
    {
     "name": "stderr",
     "output_type": "stream",
     "text": [
      "14:33:08 - cmdstanpy - INFO - Chain [1] start processing\n",
      "14:33:17 - cmdstanpy - INFO - Chain [1] done processing\n",
      "14:33:19 - cmdstanpy - INFO - Chain [1] start processing\n",
      "14:33:30 - cmdstanpy - INFO - Chain [1] done processing\n",
      "14:33:31 - cmdstanpy - INFO - Chain [1] start processing\n",
      "14:33:40 - cmdstanpy - INFO - Chain [1] done processing\n",
      "14:33:42 - cmdstanpy - INFO - Chain [1] start processing\n",
      "14:33:45 - cmdstanpy - INFO - Chain [1] done processing\n",
      "14:33:47 - cmdstanpy - INFO - Chain [1] start processing\n",
      "14:33:49 - cmdstanpy - INFO - Chain [1] done processing\n",
      "14:33:51 - cmdstanpy - INFO - Chain [1] start processing\n",
      "14:34:00 - cmdstanpy - INFO - Chain [1] done processing\n",
      "14:34:01 - cmdstanpy - INFO - Chain [1] start processing\n",
      "14:34:06 - cmdstanpy - INFO - Chain [1] done processing\n",
      "14:34:08 - cmdstanpy - INFO - Chain [1] start processing\n",
      "14:34:13 - cmdstanpy - INFO - Chain [1] done processing\n",
      "14:34:14 - cmdstanpy - INFO - Chain [1] start processing\n",
      "14:34:20 - cmdstanpy - INFO - Chain [1] done processing\n"
     ]
    }
   ],
   "source": [
    "variables = ['temp_2', 'hum_2', 'temp_a', 'precip', 'rain', 'press', 'cloud', 'w_speed', 'w_dir']\n",
    "models = {}\n",
    "\n",
    "for variable in variables:\n",
    "    column_name = f'y_{variable}'\n",
    "    df_temp = df[['ds', column_name]].rename(columns={column_name: 'y'})\n",
    "    model = Prophet()\n",
    "    model.fit(df_temp)\n",
    "    models[variable] = model"
   ],
   "metadata": {
    "collapsed": false
   }
  },
  {
   "cell_type": "code",
   "execution_count": 12,
   "outputs": [
    {
     "data": {
      "text/plain": "{'temp_2': <prophet.forecaster.Prophet at 0x128495e10>,\n 'hum_2': <prophet.forecaster.Prophet at 0x12889be20>,\n 'temp_a': <prophet.forecaster.Prophet at 0x12880ded0>,\n 'precip': <prophet.forecaster.Prophet at 0x12fc607c0>,\n 'rain': <prophet.forecaster.Prophet at 0x12d95b7f0>,\n 'press': <prophet.forecaster.Prophet at 0x1285133a0>,\n 'cloud': <prophet.forecaster.Prophet at 0x12efb40a0>,\n 'w_speed': <prophet.forecaster.Prophet at 0x12935b940>,\n 'w_dir': <prophet.forecaster.Prophet at 0x12af6b910>}"
     },
     "execution_count": 12,
     "metadata": {},
     "output_type": "execute_result"
    }
   ],
   "source": [
    "models"
   ],
   "metadata": {
    "collapsed": false
   }
  },
  {
   "cell_type": "code",
   "execution_count": 13,
   "outputs": [],
   "source": [
    "import pickle\n",
    "import os\n",
    "\n",
    "models_folder = 'models'\n",
    "os.makedirs(models_folder, exist_ok=True)\n",
    "\n",
    "for variable, model in models.items():\n",
    "    file_path = os.path.join(models_folder, f'{variable}_prophet_model.pkl')\n",
    "    with open(file_path, 'wb') as f:\n",
    "        pickle.dump(model, f)"
   ],
   "metadata": {
    "collapsed": false
   }
  }
 ],
 "metadata": {
  "kernelspec": {
   "display_name": "Python 3",
   "language": "python",
   "name": "python3"
  },
  "language_info": {
   "codemirror_mode": {
    "name": "ipython",
    "version": 2
   },
   "file_extension": ".py",
   "mimetype": "text/x-python",
   "name": "python",
   "nbconvert_exporter": "python",
   "pygments_lexer": "ipython2",
   "version": "2.7.6"
  }
 },
 "nbformat": 4,
 "nbformat_minor": 0
}
