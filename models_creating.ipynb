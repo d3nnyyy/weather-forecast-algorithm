{
 "cells": [
  {
   "cell_type": "markdown",
   "source": [],
   "metadata": {
    "collapsed": false
   }
  },
  {
   "cell_type": "markdown",
   "source": [
    "# This notebook trains Prophet time series forecasting models for different weather variables using historical hourly data for Ukrainian cities and saves the models for future predictions."
   ],
   "metadata": {
    "collapsed": false
   }
  },
  {
   "cell_type": "code",
   "execution_count": 4,
   "metadata": {
    "collapsed": true
   },
   "outputs": [
    {
     "name": "stderr",
     "output_type": "stream",
     "text": [
      "Importing plotly failed. Interactive plots will not work.\n"
     ]
    }
   ],
   "source": [
    "import os\n",
    "import pickle\n",
    "\n",
    "import pandas as pd\n",
    "from prophet import Prophet"
   ]
  },
  {
   "cell_type": "code",
   "execution_count": 15,
   "outputs": [],
   "source": [
    "def load_city_data(city_name):\n",
    "    file_path = f\"data/{city_name}_weather.csv\"\n",
    "    df = pd.read_csv(file_path)\n",
    "\n",
    "    column_mapping = {\n",
    "        'date': 'ds',\n",
    "        'temperature_2m': 'y_temp_2',\n",
    "        'relative_humidity_2m': 'y_hum_2',\n",
    "        'apparent_temperature': 'y_temp_a',\n",
    "        'precipitation': 'y_precip',\n",
    "        'rain': 'y_rain',\n",
    "        'surface_pressure': 'y_press',\n",
    "        'cloud_cover': 'y_cloud',\n",
    "        'wind_speed_100m': 'y_w_speed',\n",
    "        'wind_direction_100m': 'y_w_dir'\n",
    "    }\n",
    "    df = df.rename(columns=column_mapping)\n",
    "\n",
    "    return df"
   ],
   "metadata": {
    "collapsed": false
   }
  },
  {
   "cell_type": "code",
   "execution_count": 16,
   "outputs": [],
   "source": [
    "def load_hyperparameters(model_name):\n",
    "    hyperparameters_df = pd.read_csv(\"data/models_hyperparameters.csv\")\n",
    "    model_params = hyperparameters_df[hyperparameters_df['model'] == model_name].iloc[0]\n",
    "    return model_params['changepoint_prior_scale'], model_params['seasonality_prior_scale']"
   ],
   "metadata": {
    "collapsed": false
   }
  },
  {
   "cell_type": "code",
   "execution_count": 17,
   "outputs": [
    {
     "name": "stdout",
     "output_type": "stream",
     "text": [
      "Directory models already exists\n"
     ]
    }
   ],
   "source": [
    "models_directory = \"models\"\n",
    "if not os.path.exists(models_directory):\n",
    "    os.makedirs(models_directory)\n",
    "    print(f\"Directory {models_directory} created\")\n",
    "else:\n",
    "    print(f\"Directory {models_directory} already exists\")\n",
    "\n",
    "models = {}"
   ],
   "metadata": {
    "collapsed": false
   }
  },
  {
   "cell_type": "code",
   "execution_count": 18,
   "outputs": [
    {
     "data": {
      "text/plain": "0       kyiv\n1       lviv\n2    kharkiv\nName: city, dtype: object"
     },
     "execution_count": 18,
     "metadata": {},
     "output_type": "execute_result"
    }
   ],
   "source": [
    "cities_df = pd.read_csv(\"data/list_of_cities.csv\")\n",
    "cities = cities_df['city'].str.lower()\n",
    "cities.head(3)"
   ],
   "metadata": {
    "collapsed": false
   }
  },
  {
   "cell_type": "code",
   "execution_count": 30,
   "outputs": [
    {
     "name": "stderr",
     "output_type": "stream",
     "text": [
      "05:16:38 - cmdstanpy - INFO - Chain [1] start processing\n",
      "05:16:40 - cmdstanpy - INFO - Chain [1] done processing\n"
     ]
    },
    {
     "name": "stdout",
     "output_type": "stream",
     "text": [
      "Model for temp_2 in kyiv trained and added to the models dictionary.\n"
     ]
    },
    {
     "name": "stderr",
     "output_type": "stream",
     "text": [
      "05:16:40 - cmdstanpy - INFO - Chain [1] start processing\n",
      "05:16:41 - cmdstanpy - INFO - Chain [1] done processing\n"
     ]
    },
    {
     "name": "stdout",
     "output_type": "stream",
     "text": [
      "Model for hum_2 in kyiv trained and added to the models dictionary.\n"
     ]
    },
    {
     "name": "stderr",
     "output_type": "stream",
     "text": [
      "05:16:42 - cmdstanpy - INFO - Chain [1] start processing\n",
      "05:16:48 - cmdstanpy - INFO - Chain [1] done processing\n"
     ]
    },
    {
     "name": "stdout",
     "output_type": "stream",
     "text": [
      "Model for temp_a in kyiv trained and added to the models dictionary.\n"
     ]
    },
    {
     "name": "stderr",
     "output_type": "stream",
     "text": [
      "05:16:49 - cmdstanpy - INFO - Chain [1] start processing\n",
      "05:16:50 - cmdstanpy - INFO - Chain [1] done processing\n"
     ]
    },
    {
     "name": "stdout",
     "output_type": "stream",
     "text": [
      "Model for precip in kyiv trained and added to the models dictionary.\n"
     ]
    },
    {
     "name": "stderr",
     "output_type": "stream",
     "text": [
      "05:16:51 - cmdstanpy - INFO - Chain [1] start processing\n",
      "05:16:52 - cmdstanpy - INFO - Chain [1] done processing\n"
     ]
    },
    {
     "name": "stdout",
     "output_type": "stream",
     "text": [
      "Model for rain in kyiv trained and added to the models dictionary.\n"
     ]
    },
    {
     "name": "stderr",
     "output_type": "stream",
     "text": [
      "05:16:53 - cmdstanpy - INFO - Chain [1] start processing\n",
      "05:16:58 - cmdstanpy - INFO - Chain [1] done processing\n"
     ]
    },
    {
     "name": "stdout",
     "output_type": "stream",
     "text": [
      "Model for press in kyiv trained and added to the models dictionary.\n"
     ]
    },
    {
     "name": "stderr",
     "output_type": "stream",
     "text": [
      "05:16:59 - cmdstanpy - INFO - Chain [1] start processing\n",
      "05:17:01 - cmdstanpy - INFO - Chain [1] done processing\n"
     ]
    },
    {
     "name": "stdout",
     "output_type": "stream",
     "text": [
      "Model for cloud in kyiv trained and added to the models dictionary.\n"
     ]
    },
    {
     "name": "stderr",
     "output_type": "stream",
     "text": [
      "05:17:02 - cmdstanpy - INFO - Chain [1] start processing\n",
      "05:17:05 - cmdstanpy - INFO - Chain [1] done processing\n"
     ]
    },
    {
     "name": "stdout",
     "output_type": "stream",
     "text": [
      "Model for w_speed in kyiv trained and added to the models dictionary.\n"
     ]
    },
    {
     "name": "stderr",
     "output_type": "stream",
     "text": [
      "05:17:06 - cmdstanpy - INFO - Chain [1] start processing\n",
      "05:17:10 - cmdstanpy - INFO - Chain [1] done processing\n"
     ]
    },
    {
     "name": "stdout",
     "output_type": "stream",
     "text": [
      "Model for w_dir in kyiv trained and added to the models dictionary.\n"
     ]
    },
    {
     "name": "stderr",
     "output_type": "stream",
     "text": [
      "05:17:11 - cmdstanpy - INFO - Chain [1] start processing\n",
      "05:17:12 - cmdstanpy - INFO - Chain [1] done processing\n"
     ]
    },
    {
     "name": "stdout",
     "output_type": "stream",
     "text": [
      "Model for temp_2 in lviv trained and added to the models dictionary.\n"
     ]
    },
    {
     "name": "stderr",
     "output_type": "stream",
     "text": [
      "05:17:13 - cmdstanpy - INFO - Chain [1] start processing\n",
      "05:17:14 - cmdstanpy - INFO - Chain [1] done processing\n"
     ]
    },
    {
     "name": "stdout",
     "output_type": "stream",
     "text": [
      "Model for hum_2 in lviv trained and added to the models dictionary.\n"
     ]
    },
    {
     "name": "stderr",
     "output_type": "stream",
     "text": [
      "05:17:15 - cmdstanpy - INFO - Chain [1] start processing\n",
      "05:17:20 - cmdstanpy - INFO - Chain [1] done processing\n"
     ]
    },
    {
     "name": "stdout",
     "output_type": "stream",
     "text": [
      "Model for temp_a in lviv trained and added to the models dictionary.\n"
     ]
    },
    {
     "name": "stderr",
     "output_type": "stream",
     "text": [
      "05:17:21 - cmdstanpy - INFO - Chain [1] start processing\n",
      "05:17:23 - cmdstanpy - INFO - Chain [1] done processing\n"
     ]
    },
    {
     "name": "stdout",
     "output_type": "stream",
     "text": [
      "Model for precip in lviv trained and added to the models dictionary.\n"
     ]
    },
    {
     "name": "stderr",
     "output_type": "stream",
     "text": [
      "05:17:23 - cmdstanpy - INFO - Chain [1] start processing\n",
      "05:17:25 - cmdstanpy - INFO - Chain [1] done processing\n"
     ]
    },
    {
     "name": "stdout",
     "output_type": "stream",
     "text": [
      "Model for rain in lviv trained and added to the models dictionary.\n"
     ]
    },
    {
     "name": "stderr",
     "output_type": "stream",
     "text": [
      "05:17:25 - cmdstanpy - INFO - Chain [1] start processing\n",
      "05:17:29 - cmdstanpy - INFO - Chain [1] done processing\n"
     ]
    },
    {
     "name": "stdout",
     "output_type": "stream",
     "text": [
      "Model for press in lviv trained and added to the models dictionary.\n"
     ]
    },
    {
     "name": "stderr",
     "output_type": "stream",
     "text": [
      "05:17:31 - cmdstanpy - INFO - Chain [1] start processing\n",
      "05:17:33 - cmdstanpy - INFO - Chain [1] done processing\n"
     ]
    },
    {
     "name": "stdout",
     "output_type": "stream",
     "text": [
      "Model for cloud in lviv trained and added to the models dictionary.\n"
     ]
    },
    {
     "name": "stderr",
     "output_type": "stream",
     "text": [
      "05:17:34 - cmdstanpy - INFO - Chain [1] start processing\n",
      "05:17:40 - cmdstanpy - INFO - Chain [1] done processing\n"
     ]
    },
    {
     "name": "stdout",
     "output_type": "stream",
     "text": [
      "Model for w_speed in lviv trained and added to the models dictionary.\n"
     ]
    },
    {
     "name": "stderr",
     "output_type": "stream",
     "text": [
      "05:17:41 - cmdstanpy - INFO - Chain [1] start processing\n",
      "05:17:43 - cmdstanpy - INFO - Chain [1] done processing\n"
     ]
    },
    {
     "name": "stdout",
     "output_type": "stream",
     "text": [
      "Model for w_dir in lviv trained and added to the models dictionary.\n"
     ]
    },
    {
     "name": "stderr",
     "output_type": "stream",
     "text": [
      "05:17:43 - cmdstanpy - INFO - Chain [1] start processing\n",
      "05:17:44 - cmdstanpy - INFO - Chain [1] done processing\n"
     ]
    },
    {
     "name": "stdout",
     "output_type": "stream",
     "text": [
      "Model for temp_2 in kharkiv trained and added to the models dictionary.\n"
     ]
    },
    {
     "name": "stderr",
     "output_type": "stream",
     "text": [
      "05:17:45 - cmdstanpy - INFO - Chain [1] start processing\n",
      "05:17:46 - cmdstanpy - INFO - Chain [1] done processing\n"
     ]
    },
    {
     "name": "stdout",
     "output_type": "stream",
     "text": [
      "Model for hum_2 in kharkiv trained and added to the models dictionary.\n"
     ]
    },
    {
     "name": "stderr",
     "output_type": "stream",
     "text": [
      "05:17:46 - cmdstanpy - INFO - Chain [1] start processing\n",
      "05:17:50 - cmdstanpy - INFO - Chain [1] done processing\n"
     ]
    },
    {
     "name": "stdout",
     "output_type": "stream",
     "text": [
      "Model for temp_a in kharkiv trained and added to the models dictionary.\n"
     ]
    },
    {
     "name": "stderr",
     "output_type": "stream",
     "text": [
      "05:17:51 - cmdstanpy - INFO - Chain [1] start processing\n",
      "05:17:52 - cmdstanpy - INFO - Chain [1] done processing\n"
     ]
    },
    {
     "name": "stdout",
     "output_type": "stream",
     "text": [
      "Model for precip in kharkiv trained and added to the models dictionary.\n"
     ]
    },
    {
     "name": "stderr",
     "output_type": "stream",
     "text": [
      "05:17:53 - cmdstanpy - INFO - Chain [1] start processing\n",
      "05:17:55 - cmdstanpy - INFO - Chain [1] done processing\n"
     ]
    },
    {
     "name": "stdout",
     "output_type": "stream",
     "text": [
      "Model for rain in kharkiv trained and added to the models dictionary.\n"
     ]
    },
    {
     "name": "stderr",
     "output_type": "stream",
     "text": [
      "05:17:56 - cmdstanpy - INFO - Chain [1] start processing\n",
      "05:18:03 - cmdstanpy - INFO - Chain [1] done processing\n"
     ]
    },
    {
     "name": "stdout",
     "output_type": "stream",
     "text": [
      "Model for press in kharkiv trained and added to the models dictionary.\n"
     ]
    },
    {
     "name": "stderr",
     "output_type": "stream",
     "text": [
      "05:18:04 - cmdstanpy - INFO - Chain [1] start processing\n",
      "05:18:06 - cmdstanpy - INFO - Chain [1] done processing\n"
     ]
    },
    {
     "name": "stdout",
     "output_type": "stream",
     "text": [
      "Model for cloud in kharkiv trained and added to the models dictionary.\n"
     ]
    },
    {
     "name": "stderr",
     "output_type": "stream",
     "text": [
      "05:18:07 - cmdstanpy - INFO - Chain [1] start processing\n",
      "05:18:10 - cmdstanpy - INFO - Chain [1] done processing\n"
     ]
    },
    {
     "name": "stdout",
     "output_type": "stream",
     "text": [
      "Model for w_speed in kharkiv trained and added to the models dictionary.\n"
     ]
    },
    {
     "name": "stderr",
     "output_type": "stream",
     "text": [
      "05:18:10 - cmdstanpy - INFO - Chain [1] start processing\n",
      "05:18:13 - cmdstanpy - INFO - Chain [1] done processing\n"
     ]
    },
    {
     "name": "stdout",
     "output_type": "stream",
     "text": [
      "Model for w_dir in kharkiv trained and added to the models dictionary.\n"
     ]
    },
    {
     "name": "stderr",
     "output_type": "stream",
     "text": [
      "05:18:14 - cmdstanpy - INFO - Chain [1] start processing\n",
      "05:18:15 - cmdstanpy - INFO - Chain [1] done processing\n"
     ]
    },
    {
     "name": "stdout",
     "output_type": "stream",
     "text": [
      "Model for temp_2 in vinnytsia trained and added to the models dictionary.\n"
     ]
    },
    {
     "name": "stderr",
     "output_type": "stream",
     "text": [
      "05:18:16 - cmdstanpy - INFO - Chain [1] start processing\n",
      "05:18:17 - cmdstanpy - INFO - Chain [1] done processing\n"
     ]
    },
    {
     "name": "stdout",
     "output_type": "stream",
     "text": [
      "Model for hum_2 in vinnytsia trained and added to the models dictionary.\n"
     ]
    },
    {
     "name": "stderr",
     "output_type": "stream",
     "text": [
      "05:18:17 - cmdstanpy - INFO - Chain [1] start processing\n",
      "05:18:21 - cmdstanpy - INFO - Chain [1] done processing\n"
     ]
    },
    {
     "name": "stdout",
     "output_type": "stream",
     "text": [
      "Model for temp_a in vinnytsia trained and added to the models dictionary.\n"
     ]
    },
    {
     "name": "stderr",
     "output_type": "stream",
     "text": [
      "05:18:22 - cmdstanpy - INFO - Chain [1] start processing\n",
      "05:18:24 - cmdstanpy - INFO - Chain [1] done processing\n"
     ]
    },
    {
     "name": "stdout",
     "output_type": "stream",
     "text": [
      "Model for precip in vinnytsia trained and added to the models dictionary.\n"
     ]
    },
    {
     "name": "stderr",
     "output_type": "stream",
     "text": [
      "05:18:24 - cmdstanpy - INFO - Chain [1] start processing\n",
      "05:18:27 - cmdstanpy - INFO - Chain [1] done processing\n"
     ]
    },
    {
     "name": "stdout",
     "output_type": "stream",
     "text": [
      "Model for rain in vinnytsia trained and added to the models dictionary.\n"
     ]
    },
    {
     "name": "stderr",
     "output_type": "stream",
     "text": [
      "05:18:28 - cmdstanpy - INFO - Chain [1] start processing\n",
      "05:18:33 - cmdstanpy - INFO - Chain [1] done processing\n"
     ]
    },
    {
     "name": "stdout",
     "output_type": "stream",
     "text": [
      "Model for press in vinnytsia trained and added to the models dictionary.\n"
     ]
    },
    {
     "name": "stderr",
     "output_type": "stream",
     "text": [
      "05:18:33 - cmdstanpy - INFO - Chain [1] start processing\n",
      "05:18:36 - cmdstanpy - INFO - Chain [1] done processing\n"
     ]
    },
    {
     "name": "stdout",
     "output_type": "stream",
     "text": [
      "Model for cloud in vinnytsia trained and added to the models dictionary.\n"
     ]
    },
    {
     "name": "stderr",
     "output_type": "stream",
     "text": [
      "05:18:36 - cmdstanpy - INFO - Chain [1] start processing\n",
      "05:18:40 - cmdstanpy - INFO - Chain [1] done processing\n"
     ]
    },
    {
     "name": "stdout",
     "output_type": "stream",
     "text": [
      "Model for w_speed in vinnytsia trained and added to the models dictionary.\n"
     ]
    },
    {
     "name": "stderr",
     "output_type": "stream",
     "text": [
      "05:18:41 - cmdstanpy - INFO - Chain [1] start processing\n",
      "05:18:42 - cmdstanpy - INFO - Chain [1] done processing\n"
     ]
    },
    {
     "name": "stdout",
     "output_type": "stream",
     "text": [
      "Model for w_dir in vinnytsia trained and added to the models dictionary.\n"
     ]
    },
    {
     "name": "stderr",
     "output_type": "stream",
     "text": [
      "05:18:43 - cmdstanpy - INFO - Chain [1] start processing\n",
      "05:18:44 - cmdstanpy - INFO - Chain [1] done processing\n"
     ]
    },
    {
     "name": "stdout",
     "output_type": "stream",
     "text": [
      "Model for temp_2 in chernihiv trained and added to the models dictionary.\n"
     ]
    },
    {
     "name": "stderr",
     "output_type": "stream",
     "text": [
      "05:18:45 - cmdstanpy - INFO - Chain [1] start processing\n",
      "05:18:46 - cmdstanpy - INFO - Chain [1] done processing\n"
     ]
    },
    {
     "name": "stdout",
     "output_type": "stream",
     "text": [
      "Model for hum_2 in chernihiv trained and added to the models dictionary.\n"
     ]
    },
    {
     "name": "stderr",
     "output_type": "stream",
     "text": [
      "05:18:47 - cmdstanpy - INFO - Chain [1] start processing\n",
      "05:18:52 - cmdstanpy - INFO - Chain [1] done processing\n"
     ]
    },
    {
     "name": "stdout",
     "output_type": "stream",
     "text": [
      "Model for temp_a in chernihiv trained and added to the models dictionary.\n"
     ]
    },
    {
     "name": "stderr",
     "output_type": "stream",
     "text": [
      "05:18:53 - cmdstanpy - INFO - Chain [1] start processing\n",
      "05:18:56 - cmdstanpy - INFO - Chain [1] done processing\n"
     ]
    },
    {
     "name": "stdout",
     "output_type": "stream",
     "text": [
      "Model for precip in chernihiv trained and added to the models dictionary.\n"
     ]
    },
    {
     "name": "stderr",
     "output_type": "stream",
     "text": [
      "05:18:57 - cmdstanpy - INFO - Chain [1] start processing\n",
      "05:19:00 - cmdstanpy - INFO - Chain [1] done processing\n"
     ]
    },
    {
     "name": "stdout",
     "output_type": "stream",
     "text": [
      "Model for rain in chernihiv trained and added to the models dictionary.\n"
     ]
    },
    {
     "name": "stderr",
     "output_type": "stream",
     "text": [
      "05:19:01 - cmdstanpy - INFO - Chain [1] start processing\n",
      "05:19:08 - cmdstanpy - INFO - Chain [1] done processing\n"
     ]
    },
    {
     "name": "stdout",
     "output_type": "stream",
     "text": [
      "Model for press in chernihiv trained and added to the models dictionary.\n"
     ]
    },
    {
     "name": "stderr",
     "output_type": "stream",
     "text": [
      "05:19:09 - cmdstanpy - INFO - Chain [1] start processing\n",
      "05:19:11 - cmdstanpy - INFO - Chain [1] done processing\n"
     ]
    },
    {
     "name": "stdout",
     "output_type": "stream",
     "text": [
      "Model for cloud in chernihiv trained and added to the models dictionary.\n"
     ]
    },
    {
     "name": "stderr",
     "output_type": "stream",
     "text": [
      "05:19:12 - cmdstanpy - INFO - Chain [1] start processing\n",
      "05:19:14 - cmdstanpy - INFO - Chain [1] done processing\n"
     ]
    },
    {
     "name": "stdout",
     "output_type": "stream",
     "text": [
      "Model for w_speed in chernihiv trained and added to the models dictionary.\n"
     ]
    },
    {
     "name": "stderr",
     "output_type": "stream",
     "text": [
      "05:19:15 - cmdstanpy - INFO - Chain [1] start processing\n",
      "05:19:18 - cmdstanpy - INFO - Chain [1] done processing\n"
     ]
    },
    {
     "name": "stdout",
     "output_type": "stream",
     "text": [
      "Model for w_dir in chernihiv trained and added to the models dictionary.\n"
     ]
    },
    {
     "name": "stderr",
     "output_type": "stream",
     "text": [
      "05:19:18 - cmdstanpy - INFO - Chain [1] start processing\n",
      "05:19:19 - cmdstanpy - INFO - Chain [1] done processing\n"
     ]
    },
    {
     "name": "stdout",
     "output_type": "stream",
     "text": [
      "Model for temp_2 in donetsk trained and added to the models dictionary.\n"
     ]
    },
    {
     "name": "stderr",
     "output_type": "stream",
     "text": [
      "05:19:20 - cmdstanpy - INFO - Chain [1] start processing\n",
      "05:19:22 - cmdstanpy - INFO - Chain [1] done processing\n"
     ]
    },
    {
     "name": "stdout",
     "output_type": "stream",
     "text": [
      "Model for hum_2 in donetsk trained and added to the models dictionary.\n"
     ]
    },
    {
     "name": "stderr",
     "output_type": "stream",
     "text": [
      "05:19:23 - cmdstanpy - INFO - Chain [1] start processing\n",
      "05:19:27 - cmdstanpy - INFO - Chain [1] done processing\n"
     ]
    },
    {
     "name": "stdout",
     "output_type": "stream",
     "text": [
      "Model for temp_a in donetsk trained and added to the models dictionary.\n"
     ]
    },
    {
     "name": "stderr",
     "output_type": "stream",
     "text": [
      "05:19:28 - cmdstanpy - INFO - Chain [1] start processing\n",
      "05:19:29 - cmdstanpy - INFO - Chain [1] done processing\n"
     ]
    },
    {
     "name": "stdout",
     "output_type": "stream",
     "text": [
      "Model for precip in donetsk trained and added to the models dictionary.\n"
     ]
    },
    {
     "name": "stderr",
     "output_type": "stream",
     "text": [
      "05:19:30 - cmdstanpy - INFO - Chain [1] start processing\n",
      "05:19:31 - cmdstanpy - INFO - Chain [1] done processing\n"
     ]
    },
    {
     "name": "stdout",
     "output_type": "stream",
     "text": [
      "Model for rain in donetsk trained and added to the models dictionary.\n"
     ]
    },
    {
     "name": "stderr",
     "output_type": "stream",
     "text": [
      "05:19:31 - cmdstanpy - INFO - Chain [1] start processing\n",
      "05:19:38 - cmdstanpy - INFO - Chain [1] done processing\n"
     ]
    },
    {
     "name": "stdout",
     "output_type": "stream",
     "text": [
      "Model for press in donetsk trained and added to the models dictionary.\n"
     ]
    },
    {
     "name": "stderr",
     "output_type": "stream",
     "text": [
      "05:19:39 - cmdstanpy - INFO - Chain [1] start processing\n",
      "05:19:42 - cmdstanpy - INFO - Chain [1] done processing\n"
     ]
    },
    {
     "name": "stdout",
     "output_type": "stream",
     "text": [
      "Model for cloud in donetsk trained and added to the models dictionary.\n"
     ]
    },
    {
     "name": "stderr",
     "output_type": "stream",
     "text": [
      "05:19:43 - cmdstanpy - INFO - Chain [1] start processing\n",
      "05:19:45 - cmdstanpy - INFO - Chain [1] done processing\n"
     ]
    },
    {
     "name": "stdout",
     "output_type": "stream",
     "text": [
      "Model for w_speed in donetsk trained and added to the models dictionary.\n"
     ]
    },
    {
     "name": "stderr",
     "output_type": "stream",
     "text": [
      "05:19:46 - cmdstanpy - INFO - Chain [1] start processing\n",
      "05:19:48 - cmdstanpy - INFO - Chain [1] done processing\n"
     ]
    },
    {
     "name": "stdout",
     "output_type": "stream",
     "text": [
      "Model for w_dir in donetsk trained and added to the models dictionary.\n"
     ]
    },
    {
     "name": "stderr",
     "output_type": "stream",
     "text": [
      "05:19:48 - cmdstanpy - INFO - Chain [1] start processing\n",
      "05:19:49 - cmdstanpy - INFO - Chain [1] done processing\n"
     ]
    },
    {
     "name": "stdout",
     "output_type": "stream",
     "text": [
      "Model for temp_2 in luhansk trained and added to the models dictionary.\n"
     ]
    },
    {
     "name": "stderr",
     "output_type": "stream",
     "text": [
      "05:19:50 - cmdstanpy - INFO - Chain [1] start processing\n",
      "05:19:51 - cmdstanpy - INFO - Chain [1] done processing\n"
     ]
    },
    {
     "name": "stdout",
     "output_type": "stream",
     "text": [
      "Model for hum_2 in luhansk trained and added to the models dictionary.\n"
     ]
    },
    {
     "name": "stderr",
     "output_type": "stream",
     "text": [
      "05:19:51 - cmdstanpy - INFO - Chain [1] start processing\n",
      "05:19:59 - cmdstanpy - INFO - Chain [1] done processing\n"
     ]
    },
    {
     "name": "stdout",
     "output_type": "stream",
     "text": [
      "Model for temp_a in luhansk trained and added to the models dictionary.\n"
     ]
    },
    {
     "name": "stderr",
     "output_type": "stream",
     "text": [
      "05:19:59 - cmdstanpy - INFO - Chain [1] start processing\n",
      "05:20:01 - cmdstanpy - INFO - Chain [1] done processing\n"
     ]
    },
    {
     "name": "stdout",
     "output_type": "stream",
     "text": [
      "Model for precip in luhansk trained and added to the models dictionary.\n"
     ]
    },
    {
     "name": "stderr",
     "output_type": "stream",
     "text": [
      "05:20:02 - cmdstanpy - INFO - Chain [1] start processing\n",
      "05:20:03 - cmdstanpy - INFO - Chain [1] done processing\n"
     ]
    },
    {
     "name": "stdout",
     "output_type": "stream",
     "text": [
      "Model for rain in luhansk trained and added to the models dictionary.\n"
     ]
    },
    {
     "name": "stderr",
     "output_type": "stream",
     "text": [
      "05:20:04 - cmdstanpy - INFO - Chain [1] start processing\n",
      "05:20:09 - cmdstanpy - INFO - Chain [1] done processing\n"
     ]
    },
    {
     "name": "stdout",
     "output_type": "stream",
     "text": [
      "Model for press in luhansk trained and added to the models dictionary.\n"
     ]
    },
    {
     "name": "stderr",
     "output_type": "stream",
     "text": [
      "05:20:10 - cmdstanpy - INFO - Chain [1] start processing\n",
      "05:20:11 - cmdstanpy - INFO - Chain [1] done processing\n"
     ]
    },
    {
     "name": "stdout",
     "output_type": "stream",
     "text": [
      "Model for cloud in luhansk trained and added to the models dictionary.\n"
     ]
    },
    {
     "name": "stderr",
     "output_type": "stream",
     "text": [
      "05:20:12 - cmdstanpy - INFO - Chain [1] start processing\n",
      "05:20:14 - cmdstanpy - INFO - Chain [1] done processing\n"
     ]
    },
    {
     "name": "stdout",
     "output_type": "stream",
     "text": [
      "Model for w_speed in luhansk trained and added to the models dictionary.\n"
     ]
    },
    {
     "name": "stderr",
     "output_type": "stream",
     "text": [
      "05:20:15 - cmdstanpy - INFO - Chain [1] start processing\n",
      "05:20:17 - cmdstanpy - INFO - Chain [1] done processing\n"
     ]
    },
    {
     "name": "stdout",
     "output_type": "stream",
     "text": [
      "Model for w_dir in luhansk trained and added to the models dictionary.\n"
     ]
    },
    {
     "name": "stderr",
     "output_type": "stream",
     "text": [
      "05:20:17 - cmdstanpy - INFO - Chain [1] start processing\n",
      "05:20:18 - cmdstanpy - INFO - Chain [1] done processing\n"
     ]
    },
    {
     "name": "stdout",
     "output_type": "stream",
     "text": [
      "Model for temp_2 in sumy trained and added to the models dictionary.\n"
     ]
    },
    {
     "name": "stderr",
     "output_type": "stream",
     "text": [
      "05:20:19 - cmdstanpy - INFO - Chain [1] start processing\n",
      "05:20:19 - cmdstanpy - INFO - Chain [1] done processing\n"
     ]
    },
    {
     "name": "stdout",
     "output_type": "stream",
     "text": [
      "Model for hum_2 in sumy trained and added to the models dictionary.\n"
     ]
    },
    {
     "name": "stderr",
     "output_type": "stream",
     "text": [
      "05:20:20 - cmdstanpy - INFO - Chain [1] start processing\n",
      "05:20:28 - cmdstanpy - INFO - Chain [1] done processing\n"
     ]
    },
    {
     "name": "stdout",
     "output_type": "stream",
     "text": [
      "Model for temp_a in sumy trained and added to the models dictionary.\n"
     ]
    },
    {
     "name": "stderr",
     "output_type": "stream",
     "text": [
      "05:20:28 - cmdstanpy - INFO - Chain [1] start processing\n",
      "05:20:31 - cmdstanpy - INFO - Chain [1] done processing\n"
     ]
    },
    {
     "name": "stdout",
     "output_type": "stream",
     "text": [
      "Model for precip in sumy trained and added to the models dictionary.\n"
     ]
    },
    {
     "name": "stderr",
     "output_type": "stream",
     "text": [
      "05:20:31 - cmdstanpy - INFO - Chain [1] start processing\n",
      "05:20:35 - cmdstanpy - INFO - Chain [1] done processing\n"
     ]
    },
    {
     "name": "stdout",
     "output_type": "stream",
     "text": [
      "Model for rain in sumy trained and added to the models dictionary.\n"
     ]
    },
    {
     "name": "stderr",
     "output_type": "stream",
     "text": [
      "05:20:36 - cmdstanpy - INFO - Chain [1] start processing\n",
      "05:20:42 - cmdstanpy - INFO - Chain [1] done processing\n"
     ]
    },
    {
     "name": "stdout",
     "output_type": "stream",
     "text": [
      "Model for press in sumy trained and added to the models dictionary.\n"
     ]
    },
    {
     "name": "stderr",
     "output_type": "stream",
     "text": [
      "05:20:43 - cmdstanpy - INFO - Chain [1] start processing\n",
      "05:20:45 - cmdstanpy - INFO - Chain [1] done processing\n"
     ]
    },
    {
     "name": "stdout",
     "output_type": "stream",
     "text": [
      "Model for cloud in sumy trained and added to the models dictionary.\n"
     ]
    },
    {
     "name": "stderr",
     "output_type": "stream",
     "text": [
      "05:20:46 - cmdstanpy - INFO - Chain [1] start processing\n",
      "05:20:51 - cmdstanpy - INFO - Chain [1] done processing\n"
     ]
    },
    {
     "name": "stdout",
     "output_type": "stream",
     "text": [
      "Model for w_speed in sumy trained and added to the models dictionary.\n"
     ]
    },
    {
     "name": "stderr",
     "output_type": "stream",
     "text": [
      "05:20:52 - cmdstanpy - INFO - Chain [1] start processing\n",
      "05:20:54 - cmdstanpy - INFO - Chain [1] done processing\n"
     ]
    },
    {
     "name": "stdout",
     "output_type": "stream",
     "text": [
      "Model for w_dir in sumy trained and added to the models dictionary.\n"
     ]
    },
    {
     "name": "stderr",
     "output_type": "stream",
     "text": [
      "05:20:54 - cmdstanpy - INFO - Chain [1] start processing\n",
      "05:20:55 - cmdstanpy - INFO - Chain [1] done processing\n"
     ]
    },
    {
     "name": "stdout",
     "output_type": "stream",
     "text": [
      "Model for temp_2 in dnipro trained and added to the models dictionary.\n"
     ]
    },
    {
     "name": "stderr",
     "output_type": "stream",
     "text": [
      "05:20:56 - cmdstanpy - INFO - Chain [1] start processing\n",
      "05:20:57 - cmdstanpy - INFO - Chain [1] done processing\n"
     ]
    },
    {
     "name": "stdout",
     "output_type": "stream",
     "text": [
      "Model for hum_2 in dnipro trained and added to the models dictionary.\n"
     ]
    },
    {
     "name": "stderr",
     "output_type": "stream",
     "text": [
      "05:20:57 - cmdstanpy - INFO - Chain [1] start processing\n",
      "05:21:02 - cmdstanpy - INFO - Chain [1] done processing\n"
     ]
    },
    {
     "name": "stdout",
     "output_type": "stream",
     "text": [
      "Model for temp_a in dnipro trained and added to the models dictionary.\n"
     ]
    },
    {
     "name": "stderr",
     "output_type": "stream",
     "text": [
      "05:21:03 - cmdstanpy - INFO - Chain [1] start processing\n",
      "05:21:04 - cmdstanpy - INFO - Chain [1] done processing\n"
     ]
    },
    {
     "name": "stdout",
     "output_type": "stream",
     "text": [
      "Model for precip in dnipro trained and added to the models dictionary.\n"
     ]
    },
    {
     "name": "stderr",
     "output_type": "stream",
     "text": [
      "05:21:05 - cmdstanpy - INFO - Chain [1] start processing\n",
      "05:21:06 - cmdstanpy - INFO - Chain [1] done processing\n"
     ]
    },
    {
     "name": "stdout",
     "output_type": "stream",
     "text": [
      "Model for rain in dnipro trained and added to the models dictionary.\n"
     ]
    },
    {
     "name": "stderr",
     "output_type": "stream",
     "text": [
      "05:21:06 - cmdstanpy - INFO - Chain [1] start processing\n",
      "05:21:12 - cmdstanpy - INFO - Chain [1] done processing\n"
     ]
    },
    {
     "name": "stdout",
     "output_type": "stream",
     "text": [
      "Model for press in dnipro trained and added to the models dictionary.\n"
     ]
    },
    {
     "name": "stderr",
     "output_type": "stream",
     "text": [
      "05:21:12 - cmdstanpy - INFO - Chain [1] start processing\n",
      "05:21:16 - cmdstanpy - INFO - Chain [1] done processing\n"
     ]
    },
    {
     "name": "stdout",
     "output_type": "stream",
     "text": [
      "Model for cloud in dnipro trained and added to the models dictionary.\n"
     ]
    },
    {
     "name": "stderr",
     "output_type": "stream",
     "text": [
      "05:21:16 - cmdstanpy - INFO - Chain [1] start processing\n",
      "05:21:20 - cmdstanpy - INFO - Chain [1] done processing\n"
     ]
    },
    {
     "name": "stdout",
     "output_type": "stream",
     "text": [
      "Model for w_speed in dnipro trained and added to the models dictionary.\n"
     ]
    },
    {
     "name": "stderr",
     "output_type": "stream",
     "text": [
      "05:21:21 - cmdstanpy - INFO - Chain [1] start processing\n",
      "05:21:23 - cmdstanpy - INFO - Chain [1] done processing\n"
     ]
    },
    {
     "name": "stdout",
     "output_type": "stream",
     "text": [
      "Model for w_dir in dnipro trained and added to the models dictionary.\n"
     ]
    },
    {
     "name": "stderr",
     "output_type": "stream",
     "text": [
      "05:21:23 - cmdstanpy - INFO - Chain [1] start processing\n",
      "05:21:24 - cmdstanpy - INFO - Chain [1] done processing\n"
     ]
    },
    {
     "name": "stdout",
     "output_type": "stream",
     "text": [
      "Model for temp_2 in poltava trained and added to the models dictionary.\n"
     ]
    },
    {
     "name": "stderr",
     "output_type": "stream",
     "text": [
      "05:21:25 - cmdstanpy - INFO - Chain [1] start processing\n",
      "05:21:26 - cmdstanpy - INFO - Chain [1] done processing\n"
     ]
    },
    {
     "name": "stdout",
     "output_type": "stream",
     "text": [
      "Model for hum_2 in poltava trained and added to the models dictionary.\n"
     ]
    },
    {
     "name": "stderr",
     "output_type": "stream",
     "text": [
      "05:21:26 - cmdstanpy - INFO - Chain [1] start processing\n",
      "05:21:31 - cmdstanpy - INFO - Chain [1] done processing\n"
     ]
    },
    {
     "name": "stdout",
     "output_type": "stream",
     "text": [
      "Model for temp_a in poltava trained and added to the models dictionary.\n"
     ]
    },
    {
     "name": "stderr",
     "output_type": "stream",
     "text": [
      "05:21:32 - cmdstanpy - INFO - Chain [1] start processing\n",
      "05:21:34 - cmdstanpy - INFO - Chain [1] done processing\n"
     ]
    },
    {
     "name": "stdout",
     "output_type": "stream",
     "text": [
      "Model for precip in poltava trained and added to the models dictionary.\n"
     ]
    },
    {
     "name": "stderr",
     "output_type": "stream",
     "text": [
      "05:21:34 - cmdstanpy - INFO - Chain [1] start processing\n",
      "05:21:35 - cmdstanpy - INFO - Chain [1] done processing\n"
     ]
    },
    {
     "name": "stdout",
     "output_type": "stream",
     "text": [
      "Model for rain in poltava trained and added to the models dictionary.\n"
     ]
    },
    {
     "name": "stderr",
     "output_type": "stream",
     "text": [
      "05:21:36 - cmdstanpy - INFO - Chain [1] start processing\n",
      "05:21:43 - cmdstanpy - INFO - Chain [1] done processing\n"
     ]
    },
    {
     "name": "stdout",
     "output_type": "stream",
     "text": [
      "Model for press in poltava trained and added to the models dictionary.\n"
     ]
    },
    {
     "name": "stderr",
     "output_type": "stream",
     "text": [
      "05:21:43 - cmdstanpy - INFO - Chain [1] start processing\n",
      "05:21:46 - cmdstanpy - INFO - Chain [1] done processing\n"
     ]
    },
    {
     "name": "stdout",
     "output_type": "stream",
     "text": [
      "Model for cloud in poltava trained and added to the models dictionary.\n"
     ]
    },
    {
     "name": "stderr",
     "output_type": "stream",
     "text": [
      "05:21:47 - cmdstanpy - INFO - Chain [1] start processing\n",
      "05:21:50 - cmdstanpy - INFO - Chain [1] done processing\n"
     ]
    },
    {
     "name": "stdout",
     "output_type": "stream",
     "text": [
      "Model for w_speed in poltava trained and added to the models dictionary.\n"
     ]
    },
    {
     "name": "stderr",
     "output_type": "stream",
     "text": [
      "05:21:51 - cmdstanpy - INFO - Chain [1] start processing\n",
      "05:21:54 - cmdstanpy - INFO - Chain [1] done processing\n"
     ]
    },
    {
     "name": "stdout",
     "output_type": "stream",
     "text": [
      "Model for w_dir in poltava trained and added to the models dictionary.\n"
     ]
    },
    {
     "name": "stderr",
     "output_type": "stream",
     "text": [
      "05:21:55 - cmdstanpy - INFO - Chain [1] start processing\n",
      "05:21:55 - cmdstanpy - INFO - Chain [1] done processing\n"
     ]
    },
    {
     "name": "stdout",
     "output_type": "stream",
     "text": [
      "Model for temp_2 in zaporizhzhia trained and added to the models dictionary.\n"
     ]
    },
    {
     "name": "stderr",
     "output_type": "stream",
     "text": [
      "05:21:56 - cmdstanpy - INFO - Chain [1] start processing\n",
      "05:21:57 - cmdstanpy - INFO - Chain [1] done processing\n"
     ]
    },
    {
     "name": "stdout",
     "output_type": "stream",
     "text": [
      "Model for hum_2 in zaporizhzhia trained and added to the models dictionary.\n"
     ]
    },
    {
     "name": "stderr",
     "output_type": "stream",
     "text": [
      "05:21:58 - cmdstanpy - INFO - Chain [1] start processing\n",
      "05:22:02 - cmdstanpy - INFO - Chain [1] done processing\n"
     ]
    },
    {
     "name": "stdout",
     "output_type": "stream",
     "text": [
      "Model for temp_a in zaporizhzhia trained and added to the models dictionary.\n"
     ]
    },
    {
     "name": "stderr",
     "output_type": "stream",
     "text": [
      "05:22:03 - cmdstanpy - INFO - Chain [1] start processing\n",
      "05:22:04 - cmdstanpy - INFO - Chain [1] done processing\n"
     ]
    },
    {
     "name": "stdout",
     "output_type": "stream",
     "text": [
      "Model for precip in zaporizhzhia trained and added to the models dictionary.\n"
     ]
    },
    {
     "name": "stderr",
     "output_type": "stream",
     "text": [
      "05:22:05 - cmdstanpy - INFO - Chain [1] start processing\n",
      "05:22:06 - cmdstanpy - INFO - Chain [1] done processing\n"
     ]
    },
    {
     "name": "stdout",
     "output_type": "stream",
     "text": [
      "Model for rain in zaporizhzhia trained and added to the models dictionary.\n"
     ]
    },
    {
     "name": "stderr",
     "output_type": "stream",
     "text": [
      "05:22:07 - cmdstanpy - INFO - Chain [1] start processing\n",
      "05:22:14 - cmdstanpy - INFO - Chain [1] done processing\n"
     ]
    },
    {
     "name": "stdout",
     "output_type": "stream",
     "text": [
      "Model for press in zaporizhzhia trained and added to the models dictionary.\n"
     ]
    },
    {
     "name": "stderr",
     "output_type": "stream",
     "text": [
      "05:22:14 - cmdstanpy - INFO - Chain [1] start processing\n",
      "05:22:17 - cmdstanpy - INFO - Chain [1] done processing\n"
     ]
    },
    {
     "name": "stdout",
     "output_type": "stream",
     "text": [
      "Model for cloud in zaporizhzhia trained and added to the models dictionary.\n"
     ]
    },
    {
     "name": "stderr",
     "output_type": "stream",
     "text": [
      "05:22:18 - cmdstanpy - INFO - Chain [1] start processing\n",
      "05:22:20 - cmdstanpy - INFO - Chain [1] done processing\n"
     ]
    },
    {
     "name": "stdout",
     "output_type": "stream",
     "text": [
      "Model for w_speed in zaporizhzhia trained and added to the models dictionary.\n"
     ]
    },
    {
     "name": "stderr",
     "output_type": "stream",
     "text": [
      "05:22:21 - cmdstanpy - INFO - Chain [1] start processing\n",
      "05:22:23 - cmdstanpy - INFO - Chain [1] done processing\n"
     ]
    },
    {
     "name": "stdout",
     "output_type": "stream",
     "text": [
      "Model for w_dir in zaporizhzhia trained and added to the models dictionary.\n"
     ]
    },
    {
     "name": "stderr",
     "output_type": "stream",
     "text": [
      "05:22:24 - cmdstanpy - INFO - Chain [1] start processing\n",
      "05:22:25 - cmdstanpy - INFO - Chain [1] done processing\n"
     ]
    },
    {
     "name": "stdout",
     "output_type": "stream",
     "text": [
      "Model for temp_2 in kherson trained and added to the models dictionary.\n"
     ]
    },
    {
     "name": "stderr",
     "output_type": "stream",
     "text": [
      "05:22:26 - cmdstanpy - INFO - Chain [1] start processing\n",
      "05:22:27 - cmdstanpy - INFO - Chain [1] done processing\n"
     ]
    },
    {
     "name": "stdout",
     "output_type": "stream",
     "text": [
      "Model for hum_2 in kherson trained and added to the models dictionary.\n"
     ]
    },
    {
     "name": "stderr",
     "output_type": "stream",
     "text": [
      "05:22:28 - cmdstanpy - INFO - Chain [1] start processing\n",
      "05:22:32 - cmdstanpy - INFO - Chain [1] done processing\n"
     ]
    },
    {
     "name": "stdout",
     "output_type": "stream",
     "text": [
      "Model for temp_a in kherson trained and added to the models dictionary.\n"
     ]
    },
    {
     "name": "stderr",
     "output_type": "stream",
     "text": [
      "05:22:33 - cmdstanpy - INFO - Chain [1] start processing\n",
      "05:22:34 - cmdstanpy - INFO - Chain [1] done processing\n"
     ]
    },
    {
     "name": "stdout",
     "output_type": "stream",
     "text": [
      "Model for precip in kherson trained and added to the models dictionary.\n"
     ]
    },
    {
     "name": "stderr",
     "output_type": "stream",
     "text": [
      "05:22:35 - cmdstanpy - INFO - Chain [1] start processing\n",
      "05:22:37 - cmdstanpy - INFO - Chain [1] done processing\n"
     ]
    },
    {
     "name": "stdout",
     "output_type": "stream",
     "text": [
      "Model for rain in kherson trained and added to the models dictionary.\n"
     ]
    },
    {
     "name": "stderr",
     "output_type": "stream",
     "text": [
      "05:22:38 - cmdstanpy - INFO - Chain [1] start processing\n",
      "05:22:41 - cmdstanpy - INFO - Chain [1] done processing\n"
     ]
    },
    {
     "name": "stdout",
     "output_type": "stream",
     "text": [
      "Model for press in kherson trained and added to the models dictionary.\n"
     ]
    },
    {
     "name": "stderr",
     "output_type": "stream",
     "text": [
      "05:22:42 - cmdstanpy - INFO - Chain [1] start processing\n",
      "05:22:44 - cmdstanpy - INFO - Chain [1] done processing\n"
     ]
    },
    {
     "name": "stdout",
     "output_type": "stream",
     "text": [
      "Model for cloud in kherson trained and added to the models dictionary.\n"
     ]
    },
    {
     "name": "stderr",
     "output_type": "stream",
     "text": [
      "05:22:44 - cmdstanpy - INFO - Chain [1] start processing\n",
      "05:22:46 - cmdstanpy - INFO - Chain [1] done processing\n"
     ]
    },
    {
     "name": "stdout",
     "output_type": "stream",
     "text": [
      "Model for w_speed in kherson trained and added to the models dictionary.\n"
     ]
    },
    {
     "name": "stderr",
     "output_type": "stream",
     "text": [
      "05:22:47 - cmdstanpy - INFO - Chain [1] start processing\n",
      "05:22:49 - cmdstanpy - INFO - Chain [1] done processing\n"
     ]
    },
    {
     "name": "stdout",
     "output_type": "stream",
     "text": [
      "Model for w_dir in kherson trained and added to the models dictionary.\n"
     ]
    },
    {
     "name": "stderr",
     "output_type": "stream",
     "text": [
      "05:22:50 - cmdstanpy - INFO - Chain [1] start processing\n",
      "05:22:51 - cmdstanpy - INFO - Chain [1] done processing\n"
     ]
    },
    {
     "name": "stdout",
     "output_type": "stream",
     "text": [
      "Model for temp_2 in mykolaiv trained and added to the models dictionary.\n"
     ]
    },
    {
     "name": "stderr",
     "output_type": "stream",
     "text": [
      "05:22:52 - cmdstanpy - INFO - Chain [1] start processing\n",
      "05:22:53 - cmdstanpy - INFO - Chain [1] done processing\n"
     ]
    },
    {
     "name": "stdout",
     "output_type": "stream",
     "text": [
      "Model for hum_2 in mykolaiv trained and added to the models dictionary.\n"
     ]
    },
    {
     "name": "stderr",
     "output_type": "stream",
     "text": [
      "05:22:54 - cmdstanpy - INFO - Chain [1] start processing\n",
      "05:22:58 - cmdstanpy - INFO - Chain [1] done processing\n"
     ]
    },
    {
     "name": "stdout",
     "output_type": "stream",
     "text": [
      "Model for temp_a in mykolaiv trained and added to the models dictionary.\n"
     ]
    },
    {
     "name": "stderr",
     "output_type": "stream",
     "text": [
      "05:22:59 - cmdstanpy - INFO - Chain [1] start processing\n",
      "05:23:00 - cmdstanpy - INFO - Chain [1] done processing\n"
     ]
    },
    {
     "name": "stdout",
     "output_type": "stream",
     "text": [
      "Model for precip in mykolaiv trained and added to the models dictionary.\n"
     ]
    },
    {
     "name": "stderr",
     "output_type": "stream",
     "text": [
      "05:23:01 - cmdstanpy - INFO - Chain [1] start processing\n",
      "05:23:02 - cmdstanpy - INFO - Chain [1] done processing\n"
     ]
    },
    {
     "name": "stdout",
     "output_type": "stream",
     "text": [
      "Model for rain in mykolaiv trained and added to the models dictionary.\n"
     ]
    },
    {
     "name": "stderr",
     "output_type": "stream",
     "text": [
      "05:23:03 - cmdstanpy - INFO - Chain [1] start processing\n",
      "05:23:09 - cmdstanpy - INFO - Chain [1] done processing\n"
     ]
    },
    {
     "name": "stdout",
     "output_type": "stream",
     "text": [
      "Model for press in mykolaiv trained and added to the models dictionary.\n"
     ]
    },
    {
     "name": "stderr",
     "output_type": "stream",
     "text": [
      "05:23:10 - cmdstanpy - INFO - Chain [1] start processing\n",
      "05:23:12 - cmdstanpy - INFO - Chain [1] done processing\n"
     ]
    },
    {
     "name": "stdout",
     "output_type": "stream",
     "text": [
      "Model for cloud in mykolaiv trained and added to the models dictionary.\n"
     ]
    },
    {
     "name": "stderr",
     "output_type": "stream",
     "text": [
      "05:23:13 - cmdstanpy - INFO - Chain [1] start processing\n",
      "05:23:15 - cmdstanpy - INFO - Chain [1] done processing\n"
     ]
    },
    {
     "name": "stdout",
     "output_type": "stream",
     "text": [
      "Model for w_speed in mykolaiv trained and added to the models dictionary.\n"
     ]
    },
    {
     "name": "stderr",
     "output_type": "stream",
     "text": [
      "05:23:16 - cmdstanpy - INFO - Chain [1] start processing\n",
      "05:23:18 - cmdstanpy - INFO - Chain [1] done processing\n"
     ]
    },
    {
     "name": "stdout",
     "output_type": "stream",
     "text": [
      "Model for w_dir in mykolaiv trained and added to the models dictionary.\n"
     ]
    },
    {
     "name": "stderr",
     "output_type": "stream",
     "text": [
      "05:23:19 - cmdstanpy - INFO - Chain [1] start processing\n",
      "05:23:20 - cmdstanpy - INFO - Chain [1] done processing\n"
     ]
    },
    {
     "name": "stdout",
     "output_type": "stream",
     "text": [
      "Model for temp_2 in odesa trained and added to the models dictionary.\n"
     ]
    },
    {
     "name": "stderr",
     "output_type": "stream",
     "text": [
      "05:23:21 - cmdstanpy - INFO - Chain [1] start processing\n",
      "05:23:22 - cmdstanpy - INFO - Chain [1] done processing\n"
     ]
    },
    {
     "name": "stdout",
     "output_type": "stream",
     "text": [
      "Model for hum_2 in odesa trained and added to the models dictionary.\n"
     ]
    },
    {
     "name": "stderr",
     "output_type": "stream",
     "text": [
      "05:23:23 - cmdstanpy - INFO - Chain [1] start processing\n",
      "05:23:29 - cmdstanpy - INFO - Chain [1] done processing\n"
     ]
    },
    {
     "name": "stdout",
     "output_type": "stream",
     "text": [
      "Model for temp_a in odesa trained and added to the models dictionary.\n"
     ]
    },
    {
     "name": "stderr",
     "output_type": "stream",
     "text": [
      "05:23:29 - cmdstanpy - INFO - Chain [1] start processing\n",
      "05:23:31 - cmdstanpy - INFO - Chain [1] done processing\n"
     ]
    },
    {
     "name": "stdout",
     "output_type": "stream",
     "text": [
      "Model for precip in odesa trained and added to the models dictionary.\n"
     ]
    },
    {
     "name": "stderr",
     "output_type": "stream",
     "text": [
      "05:23:32 - cmdstanpy - INFO - Chain [1] start processing\n",
      "05:23:34 - cmdstanpy - INFO - Chain [1] done processing\n"
     ]
    },
    {
     "name": "stdout",
     "output_type": "stream",
     "text": [
      "Model for rain in odesa trained and added to the models dictionary.\n"
     ]
    },
    {
     "name": "stderr",
     "output_type": "stream",
     "text": [
      "05:23:35 - cmdstanpy - INFO - Chain [1] start processing\n",
      "05:23:42 - cmdstanpy - INFO - Chain [1] done processing\n"
     ]
    },
    {
     "name": "stdout",
     "output_type": "stream",
     "text": [
      "Model for press in odesa trained and added to the models dictionary.\n"
     ]
    },
    {
     "name": "stderr",
     "output_type": "stream",
     "text": [
      "05:23:43 - cmdstanpy - INFO - Chain [1] start processing\n",
      "05:23:44 - cmdstanpy - INFO - Chain [1] done processing\n"
     ]
    },
    {
     "name": "stdout",
     "output_type": "stream",
     "text": [
      "Model for cloud in odesa trained and added to the models dictionary.\n"
     ]
    },
    {
     "name": "stderr",
     "output_type": "stream",
     "text": [
      "05:23:45 - cmdstanpy - INFO - Chain [1] start processing\n",
      "05:23:48 - cmdstanpy - INFO - Chain [1] done processing\n"
     ]
    },
    {
     "name": "stdout",
     "output_type": "stream",
     "text": [
      "Model for w_speed in odesa trained and added to the models dictionary.\n"
     ]
    },
    {
     "name": "stderr",
     "output_type": "stream",
     "text": [
      "05:23:49 - cmdstanpy - INFO - Chain [1] start processing\n",
      "05:23:52 - cmdstanpy - INFO - Chain [1] done processing\n"
     ]
    },
    {
     "name": "stdout",
     "output_type": "stream",
     "text": [
      "Model for w_dir in odesa trained and added to the models dictionary.\n"
     ]
    },
    {
     "name": "stderr",
     "output_type": "stream",
     "text": [
      "05:23:53 - cmdstanpy - INFO - Chain [1] start processing\n",
      "05:23:54 - cmdstanpy - INFO - Chain [1] done processing\n"
     ]
    },
    {
     "name": "stdout",
     "output_type": "stream",
     "text": [
      "Model for temp_2 in cherkasy trained and added to the models dictionary.\n"
     ]
    },
    {
     "name": "stderr",
     "output_type": "stream",
     "text": [
      "05:23:55 - cmdstanpy - INFO - Chain [1] start processing\n",
      "05:23:56 - cmdstanpy - INFO - Chain [1] done processing\n"
     ]
    },
    {
     "name": "stdout",
     "output_type": "stream",
     "text": [
      "Model for hum_2 in cherkasy trained and added to the models dictionary.\n"
     ]
    },
    {
     "name": "stderr",
     "output_type": "stream",
     "text": [
      "05:23:56 - cmdstanpy - INFO - Chain [1] start processing\n",
      "05:24:04 - cmdstanpy - INFO - Chain [1] done processing\n"
     ]
    },
    {
     "name": "stdout",
     "output_type": "stream",
     "text": [
      "Model for temp_a in cherkasy trained and added to the models dictionary.\n"
     ]
    },
    {
     "name": "stderr",
     "output_type": "stream",
     "text": [
      "05:24:04 - cmdstanpy - INFO - Chain [1] start processing\n",
      "05:24:07 - cmdstanpy - INFO - Chain [1] done processing\n"
     ]
    },
    {
     "name": "stdout",
     "output_type": "stream",
     "text": [
      "Model for precip in cherkasy trained and added to the models dictionary.\n"
     ]
    },
    {
     "name": "stderr",
     "output_type": "stream",
     "text": [
      "05:24:08 - cmdstanpy - INFO - Chain [1] start processing\n",
      "05:24:09 - cmdstanpy - INFO - Chain [1] done processing\n"
     ]
    },
    {
     "name": "stdout",
     "output_type": "stream",
     "text": [
      "Model for rain in cherkasy trained and added to the models dictionary.\n"
     ]
    },
    {
     "name": "stderr",
     "output_type": "stream",
     "text": [
      "05:24:10 - cmdstanpy - INFO - Chain [1] start processing\n",
      "05:24:14 - cmdstanpy - INFO - Chain [1] done processing\n"
     ]
    },
    {
     "name": "stdout",
     "output_type": "stream",
     "text": [
      "Model for press in cherkasy trained and added to the models dictionary.\n"
     ]
    },
    {
     "name": "stderr",
     "output_type": "stream",
     "text": [
      "05:24:15 - cmdstanpy - INFO - Chain [1] start processing\n",
      "05:24:17 - cmdstanpy - INFO - Chain [1] done processing\n"
     ]
    },
    {
     "name": "stdout",
     "output_type": "stream",
     "text": [
      "Model for cloud in cherkasy trained and added to the models dictionary.\n"
     ]
    },
    {
     "name": "stderr",
     "output_type": "stream",
     "text": [
      "05:24:18 - cmdstanpy - INFO - Chain [1] start processing\n",
      "05:24:22 - cmdstanpy - INFO - Chain [1] done processing\n"
     ]
    },
    {
     "name": "stdout",
     "output_type": "stream",
     "text": [
      "Model for w_speed in cherkasy trained and added to the models dictionary.\n"
     ]
    },
    {
     "name": "stderr",
     "output_type": "stream",
     "text": [
      "05:24:23 - cmdstanpy - INFO - Chain [1] start processing\n",
      "05:24:25 - cmdstanpy - INFO - Chain [1] done processing\n"
     ]
    },
    {
     "name": "stdout",
     "output_type": "stream",
     "text": [
      "Model for w_dir in cherkasy trained and added to the models dictionary.\n"
     ]
    },
    {
     "name": "stderr",
     "output_type": "stream",
     "text": [
      "05:24:25 - cmdstanpy - INFO - Chain [1] start processing\n",
      "05:24:27 - cmdstanpy - INFO - Chain [1] done processing\n"
     ]
    },
    {
     "name": "stdout",
     "output_type": "stream",
     "text": [
      "Model for temp_2 in sevastopol trained and added to the models dictionary.\n"
     ]
    },
    {
     "name": "stderr",
     "output_type": "stream",
     "text": [
      "05:24:27 - cmdstanpy - INFO - Chain [1] start processing\n",
      "05:24:29 - cmdstanpy - INFO - Chain [1] done processing\n"
     ]
    },
    {
     "name": "stdout",
     "output_type": "stream",
     "text": [
      "Model for hum_2 in sevastopol trained and added to the models dictionary.\n"
     ]
    },
    {
     "name": "stderr",
     "output_type": "stream",
     "text": [
      "05:24:29 - cmdstanpy - INFO - Chain [1] start processing\n",
      "05:24:37 - cmdstanpy - INFO - Chain [1] done processing\n"
     ]
    },
    {
     "name": "stdout",
     "output_type": "stream",
     "text": [
      "Model for temp_a in sevastopol trained and added to the models dictionary.\n"
     ]
    },
    {
     "name": "stderr",
     "output_type": "stream",
     "text": [
      "05:24:38 - cmdstanpy - INFO - Chain [1] start processing\n",
      "05:24:39 - cmdstanpy - INFO - Chain [1] done processing\n"
     ]
    },
    {
     "name": "stdout",
     "output_type": "stream",
     "text": [
      "Model for precip in sevastopol trained and added to the models dictionary.\n"
     ]
    },
    {
     "name": "stderr",
     "output_type": "stream",
     "text": [
      "05:24:40 - cmdstanpy - INFO - Chain [1] start processing\n",
      "05:24:42 - cmdstanpy - INFO - Chain [1] done processing\n"
     ]
    },
    {
     "name": "stdout",
     "output_type": "stream",
     "text": [
      "Model for rain in sevastopol trained and added to the models dictionary.\n"
     ]
    },
    {
     "name": "stderr",
     "output_type": "stream",
     "text": [
      "05:24:43 - cmdstanpy - INFO - Chain [1] start processing\n",
      "05:24:48 - cmdstanpy - INFO - Chain [1] done processing\n"
     ]
    },
    {
     "name": "stdout",
     "output_type": "stream",
     "text": [
      "Model for press in sevastopol trained and added to the models dictionary.\n"
     ]
    },
    {
     "name": "stderr",
     "output_type": "stream",
     "text": [
      "05:24:48 - cmdstanpy - INFO - Chain [1] start processing\n",
      "05:24:49 - cmdstanpy - INFO - Chain [1] done processing\n"
     ]
    },
    {
     "name": "stdout",
     "output_type": "stream",
     "text": [
      "Model for cloud in sevastopol trained and added to the models dictionary.\n"
     ]
    },
    {
     "name": "stderr",
     "output_type": "stream",
     "text": [
      "05:24:50 - cmdstanpy - INFO - Chain [1] start processing\n",
      "05:24:53 - cmdstanpy - INFO - Chain [1] done processing\n"
     ]
    },
    {
     "name": "stdout",
     "output_type": "stream",
     "text": [
      "Model for w_speed in sevastopol trained and added to the models dictionary.\n"
     ]
    },
    {
     "name": "stderr",
     "output_type": "stream",
     "text": [
      "05:24:54 - cmdstanpy - INFO - Chain [1] start processing\n",
      "05:24:55 - cmdstanpy - INFO - Chain [1] done processing\n"
     ]
    },
    {
     "name": "stdout",
     "output_type": "stream",
     "text": [
      "Model for w_dir in sevastopol trained and added to the models dictionary.\n"
     ]
    },
    {
     "name": "stderr",
     "output_type": "stream",
     "text": [
      "05:24:56 - cmdstanpy - INFO - Chain [1] start processing\n",
      "05:24:59 - cmdstanpy - INFO - Chain [1] done processing\n"
     ]
    },
    {
     "name": "stdout",
     "output_type": "stream",
     "text": [
      "Model for temp_2 in ternopil trained and added to the models dictionary.\n"
     ]
    },
    {
     "name": "stderr",
     "output_type": "stream",
     "text": [
      "05:24:59 - cmdstanpy - INFO - Chain [1] start processing\n",
      "05:25:00 - cmdstanpy - INFO - Chain [1] done processing\n"
     ]
    },
    {
     "name": "stdout",
     "output_type": "stream",
     "text": [
      "Model for hum_2 in ternopil trained and added to the models dictionary.\n"
     ]
    },
    {
     "name": "stderr",
     "output_type": "stream",
     "text": [
      "05:25:01 - cmdstanpy - INFO - Chain [1] start processing\n",
      "05:25:05 - cmdstanpy - INFO - Chain [1] done processing\n"
     ]
    },
    {
     "name": "stdout",
     "output_type": "stream",
     "text": [
      "Model for temp_a in ternopil trained and added to the models dictionary.\n"
     ]
    },
    {
     "name": "stderr",
     "output_type": "stream",
     "text": [
      "05:25:06 - cmdstanpy - INFO - Chain [1] start processing\n",
      "05:25:07 - cmdstanpy - INFO - Chain [1] done processing\n"
     ]
    },
    {
     "name": "stdout",
     "output_type": "stream",
     "text": [
      "Model for precip in ternopil trained and added to the models dictionary.\n"
     ]
    },
    {
     "name": "stderr",
     "output_type": "stream",
     "text": [
      "05:25:07 - cmdstanpy - INFO - Chain [1] start processing\n",
      "05:25:08 - cmdstanpy - INFO - Chain [1] done processing\n"
     ]
    },
    {
     "name": "stdout",
     "output_type": "stream",
     "text": [
      "Model for rain in ternopil trained and added to the models dictionary.\n"
     ]
    },
    {
     "name": "stderr",
     "output_type": "stream",
     "text": [
      "05:25:09 - cmdstanpy - INFO - Chain [1] start processing\n",
      "05:25:14 - cmdstanpy - INFO - Chain [1] done processing\n"
     ]
    },
    {
     "name": "stdout",
     "output_type": "stream",
     "text": [
      "Model for press in ternopil trained and added to the models dictionary.\n"
     ]
    },
    {
     "name": "stderr",
     "output_type": "stream",
     "text": [
      "05:25:15 - cmdstanpy - INFO - Chain [1] start processing\n",
      "05:25:16 - cmdstanpy - INFO - Chain [1] done processing\n"
     ]
    },
    {
     "name": "stdout",
     "output_type": "stream",
     "text": [
      "Model for cloud in ternopil trained and added to the models dictionary.\n"
     ]
    },
    {
     "name": "stderr",
     "output_type": "stream",
     "text": [
      "05:25:17 - cmdstanpy - INFO - Chain [1] start processing\n",
      "05:25:22 - cmdstanpy - INFO - Chain [1] done processing\n"
     ]
    },
    {
     "name": "stdout",
     "output_type": "stream",
     "text": [
      "Model for w_speed in ternopil trained and added to the models dictionary.\n"
     ]
    },
    {
     "name": "stderr",
     "output_type": "stream",
     "text": [
      "05:25:23 - cmdstanpy - INFO - Chain [1] start processing\n",
      "05:25:25 - cmdstanpy - INFO - Chain [1] done processing\n"
     ]
    },
    {
     "name": "stdout",
     "output_type": "stream",
     "text": [
      "Model for w_dir in ternopil trained and added to the models dictionary.\n"
     ]
    },
    {
     "name": "stderr",
     "output_type": "stream",
     "text": [
      "05:25:26 - cmdstanpy - INFO - Chain [1] start processing\n",
      "05:25:28 - cmdstanpy - INFO - Chain [1] done processing\n"
     ]
    },
    {
     "name": "stdout",
     "output_type": "stream",
     "text": [
      "Model for temp_2 in zhytomyr trained and added to the models dictionary.\n"
     ]
    },
    {
     "name": "stderr",
     "output_type": "stream",
     "text": [
      "05:25:28 - cmdstanpy - INFO - Chain [1] start processing\n",
      "05:25:30 - cmdstanpy - INFO - Chain [1] done processing\n"
     ]
    },
    {
     "name": "stdout",
     "output_type": "stream",
     "text": [
      "Model for hum_2 in zhytomyr trained and added to the models dictionary.\n"
     ]
    },
    {
     "name": "stderr",
     "output_type": "stream",
     "text": [
      "05:25:30 - cmdstanpy - INFO - Chain [1] start processing\n",
      "05:25:35 - cmdstanpy - INFO - Chain [1] done processing\n"
     ]
    },
    {
     "name": "stdout",
     "output_type": "stream",
     "text": [
      "Model for temp_a in zhytomyr trained and added to the models dictionary.\n"
     ]
    },
    {
     "name": "stderr",
     "output_type": "stream",
     "text": [
      "05:25:36 - cmdstanpy - INFO - Chain [1] start processing\n",
      "05:25:39 - cmdstanpy - INFO - Chain [1] done processing\n"
     ]
    },
    {
     "name": "stdout",
     "output_type": "stream",
     "text": [
      "Model for precip in zhytomyr trained and added to the models dictionary.\n"
     ]
    },
    {
     "name": "stderr",
     "output_type": "stream",
     "text": [
      "05:25:40 - cmdstanpy - INFO - Chain [1] start processing\n",
      "05:25:43 - cmdstanpy - INFO - Chain [1] done processing\n"
     ]
    },
    {
     "name": "stdout",
     "output_type": "stream",
     "text": [
      "Model for rain in zhytomyr trained and added to the models dictionary.\n"
     ]
    },
    {
     "name": "stderr",
     "output_type": "stream",
     "text": [
      "05:25:44 - cmdstanpy - INFO - Chain [1] start processing\n",
      "05:25:53 - cmdstanpy - INFO - Chain [1] done processing\n"
     ]
    },
    {
     "name": "stdout",
     "output_type": "stream",
     "text": [
      "Model for press in zhytomyr trained and added to the models dictionary.\n"
     ]
    },
    {
     "name": "stderr",
     "output_type": "stream",
     "text": [
      "05:25:53 - cmdstanpy - INFO - Chain [1] start processing\n",
      "05:25:55 - cmdstanpy - INFO - Chain [1] done processing\n"
     ]
    },
    {
     "name": "stdout",
     "output_type": "stream",
     "text": [
      "Model for cloud in zhytomyr trained and added to the models dictionary.\n"
     ]
    },
    {
     "name": "stderr",
     "output_type": "stream",
     "text": [
      "05:25:56 - cmdstanpy - INFO - Chain [1] start processing\n",
      "05:26:00 - cmdstanpy - INFO - Chain [1] done processing\n"
     ]
    },
    {
     "name": "stdout",
     "output_type": "stream",
     "text": [
      "Model for w_speed in zhytomyr trained and added to the models dictionary.\n"
     ]
    },
    {
     "name": "stderr",
     "output_type": "stream",
     "text": [
      "05:26:01 - cmdstanpy - INFO - Chain [1] start processing\n",
      "05:26:03 - cmdstanpy - INFO - Chain [1] done processing\n"
     ]
    },
    {
     "name": "stdout",
     "output_type": "stream",
     "text": [
      "Model for w_dir in zhytomyr trained and added to the models dictionary.\n"
     ]
    },
    {
     "name": "stderr",
     "output_type": "stream",
     "text": [
      "05:26:04 - cmdstanpy - INFO - Chain [1] start processing\n",
      "05:26:06 - cmdstanpy - INFO - Chain [1] done processing\n"
     ]
    },
    {
     "name": "stdout",
     "output_type": "stream",
     "text": [
      "Model for temp_2 in rivne trained and added to the models dictionary.\n"
     ]
    },
    {
     "name": "stderr",
     "output_type": "stream",
     "text": [
      "05:26:07 - cmdstanpy - INFO - Chain [1] start processing\n",
      "05:26:08 - cmdstanpy - INFO - Chain [1] done processing\n"
     ]
    },
    {
     "name": "stdout",
     "output_type": "stream",
     "text": [
      "Model for hum_2 in rivne trained and added to the models dictionary.\n"
     ]
    },
    {
     "name": "stderr",
     "output_type": "stream",
     "text": [
      "05:26:09 - cmdstanpy - INFO - Chain [1] start processing\n",
      "05:26:14 - cmdstanpy - INFO - Chain [1] done processing\n"
     ]
    },
    {
     "name": "stdout",
     "output_type": "stream",
     "text": [
      "Model for temp_a in rivne trained and added to the models dictionary.\n"
     ]
    },
    {
     "name": "stderr",
     "output_type": "stream",
     "text": [
      "05:26:15 - cmdstanpy - INFO - Chain [1] start processing\n",
      "05:26:18 - cmdstanpy - INFO - Chain [1] done processing\n"
     ]
    },
    {
     "name": "stdout",
     "output_type": "stream",
     "text": [
      "Model for precip in rivne trained and added to the models dictionary.\n"
     ]
    },
    {
     "name": "stderr",
     "output_type": "stream",
     "text": [
      "05:26:19 - cmdstanpy - INFO - Chain [1] start processing\n",
      "05:26:24 - cmdstanpy - INFO - Chain [1] done processing\n"
     ]
    },
    {
     "name": "stdout",
     "output_type": "stream",
     "text": [
      "Model for rain in rivne trained and added to the models dictionary.\n"
     ]
    },
    {
     "name": "stderr",
     "output_type": "stream",
     "text": [
      "05:26:25 - cmdstanpy - INFO - Chain [1] start processing\n",
      "05:26:31 - cmdstanpy - INFO - Chain [1] done processing\n"
     ]
    },
    {
     "name": "stdout",
     "output_type": "stream",
     "text": [
      "Model for press in rivne trained and added to the models dictionary.\n"
     ]
    },
    {
     "name": "stderr",
     "output_type": "stream",
     "text": [
      "05:26:32 - cmdstanpy - INFO - Chain [1] start processing\n",
      "05:26:33 - cmdstanpy - INFO - Chain [1] done processing\n"
     ]
    },
    {
     "name": "stdout",
     "output_type": "stream",
     "text": [
      "Model for cloud in rivne trained and added to the models dictionary.\n"
     ]
    },
    {
     "name": "stderr",
     "output_type": "stream",
     "text": [
      "05:26:34 - cmdstanpy - INFO - Chain [1] start processing\n",
      "05:26:39 - cmdstanpy - INFO - Chain [1] done processing\n"
     ]
    },
    {
     "name": "stdout",
     "output_type": "stream",
     "text": [
      "Model for w_speed in rivne trained and added to the models dictionary.\n"
     ]
    },
    {
     "name": "stderr",
     "output_type": "stream",
     "text": [
      "05:26:40 - cmdstanpy - INFO - Chain [1] start processing\n",
      "05:26:43 - cmdstanpy - INFO - Chain [1] done processing\n"
     ]
    },
    {
     "name": "stdout",
     "output_type": "stream",
     "text": [
      "Model for w_dir in rivne trained and added to the models dictionary.\n"
     ]
    },
    {
     "name": "stderr",
     "output_type": "stream",
     "text": [
      "05:26:43 - cmdstanpy - INFO - Chain [1] start processing\n",
      "05:26:46 - cmdstanpy - INFO - Chain [1] done processing\n"
     ]
    },
    {
     "name": "stdout",
     "output_type": "stream",
     "text": [
      "Model for temp_2 in lutsk trained and added to the models dictionary.\n"
     ]
    },
    {
     "name": "stderr",
     "output_type": "stream",
     "text": [
      "05:26:46 - cmdstanpy - INFO - Chain [1] start processing\n",
      "05:26:48 - cmdstanpy - INFO - Chain [1] done processing\n"
     ]
    },
    {
     "name": "stdout",
     "output_type": "stream",
     "text": [
      "Model for hum_2 in lutsk trained and added to the models dictionary.\n"
     ]
    },
    {
     "name": "stderr",
     "output_type": "stream",
     "text": [
      "05:26:49 - cmdstanpy - INFO - Chain [1] start processing\n",
      "05:26:53 - cmdstanpy - INFO - Chain [1] done processing\n"
     ]
    },
    {
     "name": "stdout",
     "output_type": "stream",
     "text": [
      "Model for temp_a in lutsk trained and added to the models dictionary.\n"
     ]
    },
    {
     "name": "stderr",
     "output_type": "stream",
     "text": [
      "05:26:54 - cmdstanpy - INFO - Chain [1] start processing\n",
      "05:26:57 - cmdstanpy - INFO - Chain [1] done processing\n"
     ]
    },
    {
     "name": "stdout",
     "output_type": "stream",
     "text": [
      "Model for precip in lutsk trained and added to the models dictionary.\n"
     ]
    },
    {
     "name": "stderr",
     "output_type": "stream",
     "text": [
      "05:26:58 - cmdstanpy - INFO - Chain [1] start processing\n",
      "05:27:01 - cmdstanpy - INFO - Chain [1] done processing\n"
     ]
    },
    {
     "name": "stdout",
     "output_type": "stream",
     "text": [
      "Model for rain in lutsk trained and added to the models dictionary.\n"
     ]
    },
    {
     "name": "stderr",
     "output_type": "stream",
     "text": [
      "05:27:01 - cmdstanpy - INFO - Chain [1] start processing\n",
      "05:27:06 - cmdstanpy - INFO - Chain [1] done processing\n"
     ]
    },
    {
     "name": "stdout",
     "output_type": "stream",
     "text": [
      "Model for press in lutsk trained and added to the models dictionary.\n"
     ]
    },
    {
     "name": "stderr",
     "output_type": "stream",
     "text": [
      "05:27:07 - cmdstanpy - INFO - Chain [1] start processing\n",
      "05:27:09 - cmdstanpy - INFO - Chain [1] done processing\n"
     ]
    },
    {
     "name": "stdout",
     "output_type": "stream",
     "text": [
      "Model for cloud in lutsk trained and added to the models dictionary.\n"
     ]
    },
    {
     "name": "stderr",
     "output_type": "stream",
     "text": [
      "05:27:10 - cmdstanpy - INFO - Chain [1] start processing\n",
      "05:27:14 - cmdstanpy - INFO - Chain [1] done processing\n"
     ]
    },
    {
     "name": "stdout",
     "output_type": "stream",
     "text": [
      "Model for w_speed in lutsk trained and added to the models dictionary.\n"
     ]
    },
    {
     "name": "stderr",
     "output_type": "stream",
     "text": [
      "05:27:15 - cmdstanpy - INFO - Chain [1] start processing\n",
      "05:27:18 - cmdstanpy - INFO - Chain [1] done processing\n"
     ]
    },
    {
     "name": "stdout",
     "output_type": "stream",
     "text": [
      "Model for w_dir in lutsk trained and added to the models dictionary.\n"
     ]
    },
    {
     "name": "stderr",
     "output_type": "stream",
     "text": [
      "05:27:18 - cmdstanpy - INFO - Chain [1] start processing\n",
      "05:27:20 - cmdstanpy - INFO - Chain [1] done processing\n"
     ]
    },
    {
     "name": "stdout",
     "output_type": "stream",
     "text": [
      "Model for temp_2 in khmelnytskyi trained and added to the models dictionary.\n"
     ]
    },
    {
     "name": "stderr",
     "output_type": "stream",
     "text": [
      "05:27:21 - cmdstanpy - INFO - Chain [1] start processing\n",
      "05:27:22 - cmdstanpy - INFO - Chain [1] done processing\n"
     ]
    },
    {
     "name": "stdout",
     "output_type": "stream",
     "text": [
      "Model for hum_2 in khmelnytskyi trained and added to the models dictionary.\n"
     ]
    },
    {
     "name": "stderr",
     "output_type": "stream",
     "text": [
      "05:27:22 - cmdstanpy - INFO - Chain [1] start processing\n",
      "05:27:27 - cmdstanpy - INFO - Chain [1] done processing\n"
     ]
    },
    {
     "name": "stdout",
     "output_type": "stream",
     "text": [
      "Model for temp_a in khmelnytskyi trained and added to the models dictionary.\n"
     ]
    },
    {
     "name": "stderr",
     "output_type": "stream",
     "text": [
      "05:27:28 - cmdstanpy - INFO - Chain [1] start processing\n",
      "05:27:29 - cmdstanpy - INFO - Chain [1] done processing\n"
     ]
    },
    {
     "name": "stdout",
     "output_type": "stream",
     "text": [
      "Model for precip in khmelnytskyi trained and added to the models dictionary.\n"
     ]
    },
    {
     "name": "stderr",
     "output_type": "stream",
     "text": [
      "05:27:30 - cmdstanpy - INFO - Chain [1] start processing\n",
      "05:27:33 - cmdstanpy - INFO - Chain [1] done processing\n"
     ]
    },
    {
     "name": "stdout",
     "output_type": "stream",
     "text": [
      "Model for rain in khmelnytskyi trained and added to the models dictionary.\n"
     ]
    },
    {
     "name": "stderr",
     "output_type": "stream",
     "text": [
      "05:27:34 - cmdstanpy - INFO - Chain [1] start processing\n",
      "05:27:39 - cmdstanpy - INFO - Chain [1] done processing\n"
     ]
    },
    {
     "name": "stdout",
     "output_type": "stream",
     "text": [
      "Model for press in khmelnytskyi trained and added to the models dictionary.\n"
     ]
    },
    {
     "name": "stderr",
     "output_type": "stream",
     "text": [
      "05:27:39 - cmdstanpy - INFO - Chain [1] start processing\n",
      "05:27:42 - cmdstanpy - INFO - Chain [1] done processing\n"
     ]
    },
    {
     "name": "stdout",
     "output_type": "stream",
     "text": [
      "Model for cloud in khmelnytskyi trained and added to the models dictionary.\n"
     ]
    },
    {
     "name": "stderr",
     "output_type": "stream",
     "text": [
      "05:27:42 - cmdstanpy - INFO - Chain [1] start processing\n",
      "05:27:47 - cmdstanpy - INFO - Chain [1] done processing\n"
     ]
    },
    {
     "name": "stdout",
     "output_type": "stream",
     "text": [
      "Model for w_speed in khmelnytskyi trained and added to the models dictionary.\n"
     ]
    },
    {
     "name": "stderr",
     "output_type": "stream",
     "text": [
      "05:27:48 - cmdstanpy - INFO - Chain [1] start processing\n",
      "05:27:51 - cmdstanpy - INFO - Chain [1] done processing\n"
     ]
    },
    {
     "name": "stdout",
     "output_type": "stream",
     "text": [
      "Model for w_dir in khmelnytskyi trained and added to the models dictionary.\n"
     ]
    },
    {
     "name": "stderr",
     "output_type": "stream",
     "text": [
      "05:27:52 - cmdstanpy - INFO - Chain [1] start processing\n",
      "05:27:52 - cmdstanpy - INFO - Chain [1] done processing\n"
     ]
    },
    {
     "name": "stdout",
     "output_type": "stream",
     "text": [
      "Model for temp_2 in chernivtsi trained and added to the models dictionary.\n"
     ]
    },
    {
     "name": "stderr",
     "output_type": "stream",
     "text": [
      "05:27:53 - cmdstanpy - INFO - Chain [1] start processing\n",
      "05:27:54 - cmdstanpy - INFO - Chain [1] done processing\n"
     ]
    },
    {
     "name": "stdout",
     "output_type": "stream",
     "text": [
      "Model for hum_2 in chernivtsi trained and added to the models dictionary.\n"
     ]
    },
    {
     "name": "stderr",
     "output_type": "stream",
     "text": [
      "05:27:55 - cmdstanpy - INFO - Chain [1] start processing\n",
      "05:28:02 - cmdstanpy - INFO - Chain [1] done processing\n"
     ]
    },
    {
     "name": "stdout",
     "output_type": "stream",
     "text": [
      "Model for temp_a in chernivtsi trained and added to the models dictionary.\n"
     ]
    },
    {
     "name": "stderr",
     "output_type": "stream",
     "text": [
      "05:28:04 - cmdstanpy - INFO - Chain [1] start processing\n",
      "05:28:05 - cmdstanpy - INFO - Chain [1] done processing\n"
     ]
    },
    {
     "name": "stdout",
     "output_type": "stream",
     "text": [
      "Model for precip in chernivtsi trained and added to the models dictionary.\n"
     ]
    },
    {
     "name": "stderr",
     "output_type": "stream",
     "text": [
      "05:28:06 - cmdstanpy - INFO - Chain [1] start processing\n",
      "05:28:07 - cmdstanpy - INFO - Chain [1] done processing\n"
     ]
    },
    {
     "name": "stdout",
     "output_type": "stream",
     "text": [
      "Model for rain in chernivtsi trained and added to the models dictionary.\n"
     ]
    },
    {
     "name": "stderr",
     "output_type": "stream",
     "text": [
      "05:28:07 - cmdstanpy - INFO - Chain [1] start processing\n",
      "05:28:13 - cmdstanpy - INFO - Chain [1] done processing\n"
     ]
    },
    {
     "name": "stdout",
     "output_type": "stream",
     "text": [
      "Model for press in chernivtsi trained and added to the models dictionary.\n"
     ]
    },
    {
     "name": "stderr",
     "output_type": "stream",
     "text": [
      "05:28:14 - cmdstanpy - INFO - Chain [1] start processing\n",
      "05:28:16 - cmdstanpy - INFO - Chain [1] done processing\n"
     ]
    },
    {
     "name": "stdout",
     "output_type": "stream",
     "text": [
      "Model for cloud in chernivtsi trained and added to the models dictionary.\n"
     ]
    },
    {
     "name": "stderr",
     "output_type": "stream",
     "text": [
      "05:28:17 - cmdstanpy - INFO - Chain [1] start processing\n",
      "05:28:20 - cmdstanpy - INFO - Chain [1] done processing\n"
     ]
    },
    {
     "name": "stdout",
     "output_type": "stream",
     "text": [
      "Model for w_speed in chernivtsi trained and added to the models dictionary.\n"
     ]
    },
    {
     "name": "stderr",
     "output_type": "stream",
     "text": [
      "05:28:21 - cmdstanpy - INFO - Chain [1] start processing\n",
      "05:28:22 - cmdstanpy - INFO - Chain [1] done processing\n"
     ]
    },
    {
     "name": "stdout",
     "output_type": "stream",
     "text": [
      "Model for w_dir in chernivtsi trained and added to the models dictionary.\n"
     ]
    },
    {
     "name": "stderr",
     "output_type": "stream",
     "text": [
      "05:28:23 - cmdstanpy - INFO - Chain [1] start processing\n",
      "05:28:24 - cmdstanpy - INFO - Chain [1] done processing\n"
     ]
    },
    {
     "name": "stdout",
     "output_type": "stream",
     "text": [
      "Model for temp_2 in ivano-frankivsk trained and added to the models dictionary.\n"
     ]
    },
    {
     "name": "stderr",
     "output_type": "stream",
     "text": [
      "05:28:24 - cmdstanpy - INFO - Chain [1] start processing\n",
      "05:28:26 - cmdstanpy - INFO - Chain [1] done processing\n"
     ]
    },
    {
     "name": "stdout",
     "output_type": "stream",
     "text": [
      "Model for hum_2 in ivano-frankivsk trained and added to the models dictionary.\n"
     ]
    },
    {
     "name": "stderr",
     "output_type": "stream",
     "text": [
      "05:28:27 - cmdstanpy - INFO - Chain [1] start processing\n",
      "05:28:31 - cmdstanpy - INFO - Chain [1] done processing\n"
     ]
    },
    {
     "name": "stdout",
     "output_type": "stream",
     "text": [
      "Model for temp_a in ivano-frankivsk trained and added to the models dictionary.\n"
     ]
    },
    {
     "name": "stderr",
     "output_type": "stream",
     "text": [
      "05:28:32 - cmdstanpy - INFO - Chain [1] start processing\n",
      "05:28:34 - cmdstanpy - INFO - Chain [1] done processing\n"
     ]
    },
    {
     "name": "stdout",
     "output_type": "stream",
     "text": [
      "Model for precip in ivano-frankivsk trained and added to the models dictionary.\n"
     ]
    },
    {
     "name": "stderr",
     "output_type": "stream",
     "text": [
      "05:28:35 - cmdstanpy - INFO - Chain [1] start processing\n",
      "05:28:36 - cmdstanpy - INFO - Chain [1] done processing\n"
     ]
    },
    {
     "name": "stdout",
     "output_type": "stream",
     "text": [
      "Model for rain in ivano-frankivsk trained and added to the models dictionary.\n"
     ]
    },
    {
     "name": "stderr",
     "output_type": "stream",
     "text": [
      "05:28:37 - cmdstanpy - INFO - Chain [1] start processing\n",
      "05:28:42 - cmdstanpy - INFO - Chain [1] done processing\n"
     ]
    },
    {
     "name": "stdout",
     "output_type": "stream",
     "text": [
      "Model for press in ivano-frankivsk trained and added to the models dictionary.\n"
     ]
    },
    {
     "name": "stderr",
     "output_type": "stream",
     "text": [
      "05:28:43 - cmdstanpy - INFO - Chain [1] start processing\n",
      "05:28:46 - cmdstanpy - INFO - Chain [1] done processing\n"
     ]
    },
    {
     "name": "stdout",
     "output_type": "stream",
     "text": [
      "Model for cloud in ivano-frankivsk trained and added to the models dictionary.\n"
     ]
    },
    {
     "name": "stderr",
     "output_type": "stream",
     "text": [
      "05:28:46 - cmdstanpy - INFO - Chain [1] start processing\n",
      "05:28:50 - cmdstanpy - INFO - Chain [1] done processing\n"
     ]
    },
    {
     "name": "stdout",
     "output_type": "stream",
     "text": [
      "Model for w_speed in ivano-frankivsk trained and added to the models dictionary.\n"
     ]
    },
    {
     "name": "stderr",
     "output_type": "stream",
     "text": [
      "05:28:51 - cmdstanpy - INFO - Chain [1] start processing\n",
      "05:28:53 - cmdstanpy - INFO - Chain [1] done processing\n"
     ]
    },
    {
     "name": "stdout",
     "output_type": "stream",
     "text": [
      "Model for w_dir in ivano-frankivsk trained and added to the models dictionary.\n"
     ]
    },
    {
     "name": "stderr",
     "output_type": "stream",
     "text": [
      "05:28:53 - cmdstanpy - INFO - Chain [1] start processing\n",
      "05:28:55 - cmdstanpy - INFO - Chain [1] done processing\n"
     ]
    },
    {
     "name": "stdout",
     "output_type": "stream",
     "text": [
      "Model for temp_2 in uzhhorod trained and added to the models dictionary.\n"
     ]
    },
    {
     "name": "stderr",
     "output_type": "stream",
     "text": [
      "05:28:56 - cmdstanpy - INFO - Chain [1] start processing\n",
      "05:28:58 - cmdstanpy - INFO - Chain [1] done processing\n"
     ]
    },
    {
     "name": "stdout",
     "output_type": "stream",
     "text": [
      "Model for hum_2 in uzhhorod trained and added to the models dictionary.\n"
     ]
    },
    {
     "name": "stderr",
     "output_type": "stream",
     "text": [
      "05:28:59 - cmdstanpy - INFO - Chain [1] start processing\n",
      "05:29:04 - cmdstanpy - INFO - Chain [1] done processing\n"
     ]
    },
    {
     "name": "stdout",
     "output_type": "stream",
     "text": [
      "Model for temp_a in uzhhorod trained and added to the models dictionary.\n"
     ]
    },
    {
     "name": "stderr",
     "output_type": "stream",
     "text": [
      "05:29:05 - cmdstanpy - INFO - Chain [1] start processing\n",
      "05:29:09 - cmdstanpy - INFO - Chain [1] done processing\n"
     ]
    },
    {
     "name": "stdout",
     "output_type": "stream",
     "text": [
      "Model for precip in uzhhorod trained and added to the models dictionary.\n"
     ]
    },
    {
     "name": "stderr",
     "output_type": "stream",
     "text": [
      "05:29:10 - cmdstanpy - INFO - Chain [1] start processing\n",
      "05:29:12 - cmdstanpy - INFO - Chain [1] done processing\n"
     ]
    },
    {
     "name": "stdout",
     "output_type": "stream",
     "text": [
      "Model for rain in uzhhorod trained and added to the models dictionary.\n"
     ]
    },
    {
     "name": "stderr",
     "output_type": "stream",
     "text": [
      "05:29:13 - cmdstanpy - INFO - Chain [1] start processing\n",
      "05:29:17 - cmdstanpy - INFO - Chain [1] done processing\n"
     ]
    },
    {
     "name": "stdout",
     "output_type": "stream",
     "text": [
      "Model for press in uzhhorod trained and added to the models dictionary.\n"
     ]
    },
    {
     "name": "stderr",
     "output_type": "stream",
     "text": [
      "05:29:18 - cmdstanpy - INFO - Chain [1] start processing\n",
      "05:29:21 - cmdstanpy - INFO - Chain [1] done processing\n"
     ]
    },
    {
     "name": "stdout",
     "output_type": "stream",
     "text": [
      "Model for cloud in uzhhorod trained and added to the models dictionary.\n"
     ]
    },
    {
     "name": "stderr",
     "output_type": "stream",
     "text": [
      "05:29:21 - cmdstanpy - INFO - Chain [1] start processing\n",
      "05:29:24 - cmdstanpy - INFO - Chain [1] done processing\n"
     ]
    },
    {
     "name": "stdout",
     "output_type": "stream",
     "text": [
      "Model for w_speed in uzhhorod trained and added to the models dictionary.\n"
     ]
    },
    {
     "name": "stderr",
     "output_type": "stream",
     "text": [
      "05:29:25 - cmdstanpy - INFO - Chain [1] start processing\n",
      "05:29:26 - cmdstanpy - INFO - Chain [1] done processing\n"
     ]
    },
    {
     "name": "stdout",
     "output_type": "stream",
     "text": [
      "Model for w_dir in uzhhorod trained and added to the models dictionary.\n"
     ]
    }
   ],
   "source": [
    "for city_name in cities:\n",
    "    # Load data for the current city\n",
    "    df = load_city_data(city_name)\n",
    "\n",
    "    # Initialize the dictionary for the current city\n",
    "    city_models = {}\n",
    "\n",
    "    # Iterate through each variable\n",
    "    variables = ['temp_2', 'hum_2', 'temp_a', 'precip', 'rain', 'press', 'cloud', 'w_speed', 'w_dir']\n",
    "    for variable in variables:\n",
    "\n",
    "        if variable in city_models:\n",
    "            print(f\"Model for {variable} in {city_name} already exists in the models dictionary. Skipping.\")\n",
    "            continue\n",
    "\n",
    "        # Prepare data\n",
    "        column_name = f'y_{variable}'\n",
    "        df_temp = df[['ds', column_name]].rename(columns={column_name: 'y'})\n",
    "\n",
    "        # Feature engineering: Adding lag variables\n",
    "        for i in range(1, 6):\n",
    "            df_temp[f'y_{variable}_lag_{i}'] = df_temp['y'].shift(i)\n",
    "\n",
    "        # Drop rows with NaN values after adding lag variables\n",
    "        df_temp = df_temp.dropna()\n",
    "\n",
    "        # Load hyperparameters for the current model\n",
    "        changepoint_prior_scale, seasonality_prior_scale = load_hyperparameters(variable)\n",
    "\n",
    "        # Create and train the model with hyperparameters\n",
    "        model = Prophet(changepoint_prior_scale=changepoint_prior_scale,\n",
    "                        seasonality_prior_scale=seasonality_prior_scale)\n",
    "        model.fit(df_temp)\n",
    "        city_models[variable] = model\n",
    "\n",
    "        print(f\"Model for {variable} in {city_name} trained and added to the models dictionary.\")\n",
    "    models[city_name] = city_models\n"
   ],
   "metadata": {
    "collapsed": false
   }
  },
  {
   "cell_type": "code",
   "execution_count": 42,
   "outputs": [
    {
     "data": {
      "text/plain": "{'kyiv': {'temp_2': <prophet.forecaster.Prophet at 0x14c224490>,\n  'hum_2': <prophet.forecaster.Prophet at 0x295addf30>,\n  'temp_a': <prophet.forecaster.Prophet at 0x1748b5300>,\n  'precip': <prophet.forecaster.Prophet at 0x295c0e230>,\n  'rain': <prophet.forecaster.Prophet at 0x295a4a470>,\n  'press': <prophet.forecaster.Prophet at 0x295c3efb0>,\n  'cloud': <prophet.forecaster.Prophet at 0x1751dace0>,\n  'w_speed': <prophet.forecaster.Prophet at 0x295c3f970>,\n  'w_dir': <prophet.forecaster.Prophet at 0x295985c30>},\n 'lviv': {'temp_2': <prophet.forecaster.Prophet at 0x295c0e770>,\n  'hum_2': <prophet.forecaster.Prophet at 0x295adc970>,\n  'temp_a': <prophet.forecaster.Prophet at 0x295bdbc70>,\n  'precip': <prophet.forecaster.Prophet at 0x295bd9e70>,\n  'rain': <prophet.forecaster.Prophet at 0x295a7a470>,\n  'press': <prophet.forecaster.Prophet at 0x29315d570>,\n  'cloud': <prophet.forecaster.Prophet at 0x29315fee0>,\n  'w_speed': <prophet.forecaster.Prophet at 0x1580a9150>,\n  'w_dir': <prophet.forecaster.Prophet at 0x1580aa830>},\n 'kharkiv': {'temp_2': <prophet.forecaster.Prophet at 0x14c408490>,\n  'hum_2': <prophet.forecaster.Prophet at 0x14bf0c310>,\n  'temp_a': <prophet.forecaster.Prophet at 0x14c40ae30>,\n  'precip': <prophet.forecaster.Prophet at 0x1580a8a30>,\n  'rain': <prophet.forecaster.Prophet at 0x158112020>,\n  'press': <prophet.forecaster.Prophet at 0x158111e40>,\n  'cloud': <prophet.forecaster.Prophet at 0x1581132b0>,\n  'w_speed': <prophet.forecaster.Prophet at 0x293273dc0>,\n  'w_dir': <prophet.forecaster.Prophet at 0x293273970>},\n 'vinnytsia': {'temp_2': <prophet.forecaster.Prophet at 0x14c40abc0>,\n  'hum_2': <prophet.forecaster.Prophet at 0x158113ee0>,\n  'temp_a': <prophet.forecaster.Prophet at 0x174a9a7a0>,\n  'precip': <prophet.forecaster.Prophet at 0x174a4bfa0>,\n  'rain': <prophet.forecaster.Prophet at 0x174a4bb50>,\n  'press': <prophet.forecaster.Prophet at 0x174a4bdf0>,\n  'cloud': <prophet.forecaster.Prophet at 0x1743e3550>,\n  'w_speed': <prophet.forecaster.Prophet at 0x1743e36d0>,\n  'w_dir': <prophet.forecaster.Prophet at 0x1743e1b40>},\n 'chernihiv': {'temp_2': <prophet.forecaster.Prophet at 0x14bf0c520>,\n  'hum_2': <prophet.forecaster.Prophet at 0x174a99a20>,\n  'temp_a': <prophet.forecaster.Prophet at 0x174a9a9b0>,\n  'precip': <prophet.forecaster.Prophet at 0x158aa76d0>,\n  'rain': <prophet.forecaster.Prophet at 0x1743e3790>,\n  'press': <prophet.forecaster.Prophet at 0x175f3d4b0>,\n  'cloud': <prophet.forecaster.Prophet at 0x175f3f490>,\n  'w_speed': <prophet.forecaster.Prophet at 0x175f3fb80>,\n  'w_dir': <prophet.forecaster.Prophet at 0x175cc9b10>},\n 'donetsk': {'temp_2': <prophet.forecaster.Prophet at 0x174a9b8e0>,\n  'hum_2': <prophet.forecaster.Prophet at 0x293297940>,\n  'temp_a': <prophet.forecaster.Prophet at 0x175cebcd0>,\n  'precip': <prophet.forecaster.Prophet at 0x175ceae90>,\n  'rain': <prophet.forecaster.Prophet at 0x175ceba00>,\n  'press': <prophet.forecaster.Prophet at 0x175cefb50>,\n  'cloud': <prophet.forecaster.Prophet at 0x175cedd80>,\n  'w_speed': <prophet.forecaster.Prophet at 0x175cec580>,\n  'w_dir': <prophet.forecaster.Prophet at 0x2930f4d00>},\n 'luhansk': {'temp_2': <prophet.forecaster.Prophet at 0x175ce8040>,\n  'hum_2': <prophet.forecaster.Prophet at 0x172a28100>,\n  'temp_a': <prophet.forecaster.Prophet at 0x14c00c850>,\n  'precip': <prophet.forecaster.Prophet at 0x168578910>,\n  'rain': <prophet.forecaster.Prophet at 0x14c225780>,\n  'press': <prophet.forecaster.Prophet at 0x172654c40>,\n  'cloud': <prophet.forecaster.Prophet at 0x172656e00>,\n  'w_speed': <prophet.forecaster.Prophet at 0x2932ff9a0>,\n  'w_dir': <prophet.forecaster.Prophet at 0x2932ffe80>},\n 'sumy': {'temp_2': <prophet.forecaster.Prophet at 0x172c31240>,\n  'hum_2': <prophet.forecaster.Prophet at 0x2932fde40>,\n  'temp_a': <prophet.forecaster.Prophet at 0x293323d00>,\n  'precip': <prophet.forecaster.Prophet at 0x293340fd0>,\n  'rain': <prophet.forecaster.Prophet at 0x293342b30>,\n  'press': <prophet.forecaster.Prophet at 0x293343280>,\n  'cloud': <prophet.forecaster.Prophet at 0x293365360>,\n  'w_speed': <prophet.forecaster.Prophet at 0x293366ce0>,\n  'w_dir': <prophet.forecaster.Prophet at 0x2933672e0>},\n 'dnipro': {'temp_2': <prophet.forecaster.Prophet at 0x172a29000>,\n  'hum_2': <prophet.forecaster.Prophet at 0x293323430>,\n  'temp_a': <prophet.forecaster.Prophet at 0x15804ab30>,\n  'precip': <prophet.forecaster.Prophet at 0x1754ccfd0>,\n  'rain': <prophet.forecaster.Prophet at 0x1754cc670>,\n  'press': <prophet.forecaster.Prophet at 0x293365540>,\n  'cloud': <prophet.forecaster.Prophet at 0x2933a99c0>,\n  'w_speed': <prophet.forecaster.Prophet at 0x2933abc70>,\n  'w_dir': <prophet.forecaster.Prophet at 0x2933ccf70>},\n 'poltava': {'temp_2': <prophet.forecaster.Prophet at 0x2932ff1c0>,\n  'hum_2': <prophet.forecaster.Prophet at 0x14be52ef0>,\n  'temp_a': <prophet.forecaster.Prophet at 0x293499f60>,\n  'precip': <prophet.forecaster.Prophet at 0x293499ae0>,\n  'rain': <prophet.forecaster.Prophet at 0x293499240>,\n  'press': <prophet.forecaster.Prophet at 0x2934e4fd0>,\n  'cloud': <prophet.forecaster.Prophet at 0x2934e4f10>,\n  'w_speed': <prophet.forecaster.Prophet at 0x2934e59f0>,\n  'w_dir': <prophet.forecaster.Prophet at 0x2935f5060>},\n 'zaporizhzhia': {'temp_2': <prophet.forecaster.Prophet at 0x2934991b0>,\n  'hum_2': <prophet.forecaster.Prophet at 0x2933ce9b0>,\n  'temp_a': <prophet.forecaster.Prophet at 0x1748b54e0>,\n  'precip': <prophet.forecaster.Prophet at 0x1580318a0>,\n  'rain': <prophet.forecaster.Prophet at 0x2935f7fa0>,\n  'press': <prophet.forecaster.Prophet at 0x1580322f0>,\n  'cloud': <prophet.forecaster.Prophet at 0x175ab6140>,\n  'w_speed': <prophet.forecaster.Prophet at 0x175ab5cf0>,\n  'w_dir': <prophet.forecaster.Prophet at 0x14c8a42e0>},\n 'kherson': {'temp_2': <prophet.forecaster.Prophet at 0x14ffdfeb0>,\n  'hum_2': <prophet.forecaster.Prophet at 0x1748b4d30>,\n  'temp_a': <prophet.forecaster.Prophet at 0x295986f20>,\n  'precip': <prophet.forecaster.Prophet at 0x2959875e0>,\n  'rain': <prophet.forecaster.Prophet at 0x2959b3cd0>,\n  'press': <prophet.forecaster.Prophet at 0x2959b0b20>,\n  'cloud': <prophet.forecaster.Prophet at 0x2959e66e0>,\n  'w_speed': <prophet.forecaster.Prophet at 0x2959e4d00>,\n  'w_dir': <prophet.forecaster.Prophet at 0x295a49a20>},\n 'mykolaiv': {'temp_2': <prophet.forecaster.Prophet at 0x295984fa0>,\n  'hum_2': <prophet.forecaster.Prophet at 0x29591db10>,\n  'temp_a': <prophet.forecaster.Prophet at 0x295a79ba0>,\n  'precip': <prophet.forecaster.Prophet at 0x295adf0a0>,\n  'rain': <prophet.forecaster.Prophet at 0x295ade020>,\n  'press': <prophet.forecaster.Prophet at 0x295adffd0>,\n  'cloud': <prophet.forecaster.Prophet at 0x295b13820>,\n  'w_speed': <prophet.forecaster.Prophet at 0x29591d3c0>,\n  'w_dir': <prophet.forecaster.Prophet at 0x295b46e90>},\n 'odesa': {'temp_2': <prophet.forecaster.Prophet at 0x295985090>,\n  'hum_2': <prophet.forecaster.Prophet at 0x295a79240>,\n  'temp_a': <prophet.forecaster.Prophet at 0x295ba7550>,\n  'precip': <prophet.forecaster.Prophet at 0x295bd9fc0>,\n  'rain': <prophet.forecaster.Prophet at 0x295bdb550>,\n  'press': <prophet.forecaster.Prophet at 0x295c0fc10>,\n  'cloud': <prophet.forecaster.Prophet at 0x295c0f940>,\n  'w_speed': <prophet.forecaster.Prophet at 0x295c0f1c0>,\n  'w_dir': <prophet.forecaster.Prophet at 0x295c3df90>},\n 'cherkasy': {'temp_2': <prophet.forecaster.Prophet at 0x295a4bdc0>,\n  'hum_2': <prophet.forecaster.Prophet at 0x295b45f60>,\n  'temp_a': <prophet.forecaster.Prophet at 0x295c6fe80>,\n  'precip': <prophet.forecaster.Prophet at 0x2928706a0>,\n  'rain': <prophet.forecaster.Prophet at 0x292873430>,\n  'press': <prophet.forecaster.Prophet at 0x292873280>,\n  'cloud': <prophet.forecaster.Prophet at 0x17524a050>,\n  'w_speed': <prophet.forecaster.Prophet at 0x175248970>,\n  'w_dir': <prophet.forecaster.Prophet at 0x175a4c670>},\n 'sevastopol': {'temp_2': <prophet.forecaster.Prophet at 0x295b47550>,\n  'hum_2': <prophet.forecaster.Prophet at 0x295c3efe0>,\n  'temp_a': <prophet.forecaster.Prophet at 0x1749864d0>,\n  'precip': <prophet.forecaster.Prophet at 0x158c0d4e0>,\n  'rain': <prophet.forecaster.Prophet at 0x1751d9090>,\n  'press': <prophet.forecaster.Prophet at 0x1751d8250>,\n  'cloud': <prophet.forecaster.Prophet at 0x29311bf70>,\n  'w_speed': <prophet.forecaster.Prophet at 0x1752f1750>,\n  'w_dir': <prophet.forecaster.Prophet at 0x29311b070>},\n 'ternopil': {'temp_2': <prophet.forecaster.Prophet at 0x158c0ca00>,\n  'hum_2': <prophet.forecaster.Prophet at 0x175a4cdf0>,\n  'temp_a': <prophet.forecaster.Prophet at 0x175a4f370>,\n  'precip': <prophet.forecaster.Prophet at 0x29549c310>,\n  'rain': <prophet.forecaster.Prophet at 0x29549d6f0>,\n  'press': <prophet.forecaster.Prophet at 0x29549dab0>,\n  'cloud': <prophet.forecaster.Prophet at 0x292bb7340>,\n  'w_speed': <prophet.forecaster.Prophet at 0x292bb4880>,\n  'w_dir': <prophet.forecaster.Prophet at 0x292bb6890>},\n 'zhytomyr': {'temp_2': <prophet.forecaster.Prophet at 0x158c0cbb0>,\n  'hum_2': <prophet.forecaster.Prophet at 0x292bc50f0>,\n  'temp_a': <prophet.forecaster.Prophet at 0x292c11db0>,\n  'precip': <prophet.forecaster.Prophet at 0x292c11000>,\n  'rain': <prophet.forecaster.Prophet at 0x292c12050>,\n  'press': <prophet.forecaster.Prophet at 0x292c22c50>,\n  'cloud': <prophet.forecaster.Prophet at 0x292c21b70>,\n  'w_speed': <prophet.forecaster.Prophet at 0x292c231f0>,\n  'w_dir': <prophet.forecaster.Prophet at 0x292b83f70>},\n 'rivne': {'temp_2': <prophet.forecaster.Prophet at 0x292c13a30>,\n  'hum_2': <prophet.forecaster.Prophet at 0x292bc7010>,\n  'temp_a': <prophet.forecaster.Prophet at 0x158c8ea40>,\n  'precip': <prophet.forecaster.Prophet at 0x158c8ead0>,\n  'rain': <prophet.forecaster.Prophet at 0x158c8f7f0>,\n  'press': <prophet.forecaster.Prophet at 0x158c8df30>,\n  'cloud': <prophet.forecaster.Prophet at 0x2967cf9a0>,\n  'w_speed': <prophet.forecaster.Prophet at 0x2967cffd0>,\n  'w_dir': <prophet.forecaster.Prophet at 0x2967ccac0>},\n 'lutsk': {'temp_2': <prophet.forecaster.Prophet at 0x292c13640>,\n  'hum_2': <prophet.forecaster.Prophet at 0x292b80610>,\n  'temp_a': <prophet.forecaster.Prophet at 0x296173370>,\n  'precip': <prophet.forecaster.Prophet at 0x2962081f0>,\n  'rain': <prophet.forecaster.Prophet at 0x2962084c0>,\n  'press': <prophet.forecaster.Prophet at 0x2961b5db0>,\n  'cloud': <prophet.forecaster.Prophet at 0x2961b7d30>,\n  'w_speed': <prophet.forecaster.Prophet at 0x295f16680>,\n  'w_dir': <prophet.forecaster.Prophet at 0x295f178b0>},\n 'khmelnytskyi': {'temp_2': <prophet.forecaster.Prophet at 0x292b828f0>,\n  'hum_2': <prophet.forecaster.Prophet at 0x296173ac0>,\n  'temp_a': <prophet.forecaster.Prophet at 0x295f45120>,\n  'precip': <prophet.forecaster.Prophet at 0x295f476d0>,\n  'rain': <prophet.forecaster.Prophet at 0x295f9c970>,\n  'press': <prophet.forecaster.Prophet at 0x295f9e950>,\n  'cloud': <prophet.forecaster.Prophet at 0x295fced10>,\n  'w_speed': <prophet.forecaster.Prophet at 0x295fcfe80>,\n  'w_dir': <prophet.forecaster.Prophet at 0x295fced70>},\n 'chernivtsi': {'temp_2': <prophet.forecaster.Prophet at 0x2961732e0>,\n  'hum_2': <prophet.forecaster.Prophet at 0x295f47c40>,\n  'temp_a': <prophet.forecaster.Prophet at 0x295f45090>,\n  'precip': <prophet.forecaster.Prophet at 0x2960570a0>,\n  'rain': <prophet.forecaster.Prophet at 0x296057d90>,\n  'press': <prophet.forecaster.Prophet at 0x2960ac340>,\n  'cloud': <prophet.forecaster.Prophet at 0x2960ac3d0>,\n  'w_speed': <prophet.forecaster.Prophet at 0x2960af160>,\n  'w_dir': <prophet.forecaster.Prophet at 0x29642b220>},\n 'ivano-frankivsk': {'temp_2': <prophet.forecaster.Prophet at 0x295f47af0>,\n  'hum_2': <prophet.forecaster.Prophet at 0x296027670>,\n  'temp_a': <prophet.forecaster.Prophet at 0x29d5eef50>,\n  'precip': <prophet.forecaster.Prophet at 0x29d5eed40>,\n  'rain': <prophet.forecaster.Prophet at 0x29d5edab0>,\n  'press': <prophet.forecaster.Prophet at 0x291c676d0>,\n  'cloud': <prophet.forecaster.Prophet at 0x291c67130>,\n  'w_speed': <prophet.forecaster.Prophet at 0x291c677c0>,\n  'w_dir': <prophet.forecaster.Prophet at 0x281b5a080>},\n 'uzhhorod': {'temp_2': <prophet.forecaster.Prophet at 0x296027b50>,\n  'hum_2': <prophet.forecaster.Prophet at 0x281b5a1d0>,\n  'temp_a': <prophet.forecaster.Prophet at 0x280e46800>,\n  'precip': <prophet.forecaster.Prophet at 0x280e47ac0>,\n  'rain': <prophet.forecaster.Prophet at 0x2803ad1e0>,\n  'press': <prophet.forecaster.Prophet at 0x2803adb70>,\n  'cloud': <prophet.forecaster.Prophet at 0x2803adff0>,\n  'w_speed': <prophet.forecaster.Prophet at 0x1694ff6a0>,\n  'w_dir': <prophet.forecaster.Prophet at 0x1694fed70>}}"
     },
     "execution_count": 42,
     "metadata": {},
     "output_type": "execute_result"
    }
   ],
   "source": [
    "models"
   ],
   "metadata": {
    "collapsed": false
   }
  },
  {
   "cell_type": "code",
   "execution_count": 46,
   "outputs": [
    {
     "name": "stdout",
     "output_type": "stream",
     "text": [
      "Model for temp_2 in kyiv saved to models/kyiv/temp_2.pkl\n",
      "Model for hum_2 in kyiv saved to models/kyiv/hum_2.pkl\n",
      "Model for temp_a in kyiv saved to models/kyiv/temp_a.pkl\n",
      "Model for precip in kyiv saved to models/kyiv/precip.pkl\n",
      "Model for rain in kyiv saved to models/kyiv/rain.pkl\n",
      "Model for press in kyiv saved to models/kyiv/press.pkl\n",
      "Model for cloud in kyiv saved to models/kyiv/cloud.pkl\n",
      "Model for w_speed in kyiv saved to models/kyiv/w_speed.pkl\n",
      "Model for w_dir in kyiv saved to models/kyiv/w_dir.pkl\n",
      "Model for temp_2 in lviv saved to models/lviv/temp_2.pkl\n",
      "Model for hum_2 in lviv saved to models/lviv/hum_2.pkl\n",
      "Model for temp_a in lviv saved to models/lviv/temp_a.pkl\n",
      "Model for precip in lviv saved to models/lviv/precip.pkl\n",
      "Model for rain in lviv saved to models/lviv/rain.pkl\n",
      "Model for press in lviv saved to models/lviv/press.pkl\n",
      "Model for cloud in lviv saved to models/lviv/cloud.pkl\n",
      "Model for w_speed in lviv saved to models/lviv/w_speed.pkl\n",
      "Model for w_dir in lviv saved to models/lviv/w_dir.pkl\n",
      "Model for temp_2 in kharkiv saved to models/kharkiv/temp_2.pkl\n",
      "Model for hum_2 in kharkiv saved to models/kharkiv/hum_2.pkl\n",
      "Model for temp_a in kharkiv saved to models/kharkiv/temp_a.pkl\n",
      "Model for precip in kharkiv saved to models/kharkiv/precip.pkl\n",
      "Model for rain in kharkiv saved to models/kharkiv/rain.pkl\n",
      "Model for press in kharkiv saved to models/kharkiv/press.pkl\n",
      "Model for cloud in kharkiv saved to models/kharkiv/cloud.pkl\n",
      "Model for w_speed in kharkiv saved to models/kharkiv/w_speed.pkl\n",
      "Model for w_dir in kharkiv saved to models/kharkiv/w_dir.pkl\n",
      "Model for temp_2 in vinnytsia saved to models/vinnytsia/temp_2.pkl\n",
      "Model for hum_2 in vinnytsia saved to models/vinnytsia/hum_2.pkl\n",
      "Model for temp_a in vinnytsia saved to models/vinnytsia/temp_a.pkl\n",
      "Model for precip in vinnytsia saved to models/vinnytsia/precip.pkl\n",
      "Model for rain in vinnytsia saved to models/vinnytsia/rain.pkl\n",
      "Model for press in vinnytsia saved to models/vinnytsia/press.pkl\n",
      "Model for cloud in vinnytsia saved to models/vinnytsia/cloud.pkl\n",
      "Model for w_speed in vinnytsia saved to models/vinnytsia/w_speed.pkl\n",
      "Model for w_dir in vinnytsia saved to models/vinnytsia/w_dir.pkl\n",
      "Model for temp_2 in chernihiv saved to models/chernihiv/temp_2.pkl\n",
      "Model for hum_2 in chernihiv saved to models/chernihiv/hum_2.pkl\n",
      "Model for temp_a in chernihiv saved to models/chernihiv/temp_a.pkl\n",
      "Model for precip in chernihiv saved to models/chernihiv/precip.pkl\n",
      "Model for rain in chernihiv saved to models/chernihiv/rain.pkl\n",
      "Model for press in chernihiv saved to models/chernihiv/press.pkl\n",
      "Model for cloud in chernihiv saved to models/chernihiv/cloud.pkl\n",
      "Model for w_speed in chernihiv saved to models/chernihiv/w_speed.pkl\n",
      "Model for w_dir in chernihiv saved to models/chernihiv/w_dir.pkl\n",
      "Model for temp_2 in donetsk saved to models/donetsk/temp_2.pkl\n",
      "Model for hum_2 in donetsk saved to models/donetsk/hum_2.pkl\n",
      "Model for temp_a in donetsk saved to models/donetsk/temp_a.pkl\n",
      "Model for precip in donetsk saved to models/donetsk/precip.pkl\n",
      "Model for rain in donetsk saved to models/donetsk/rain.pkl\n",
      "Model for press in donetsk saved to models/donetsk/press.pkl\n",
      "Model for cloud in donetsk saved to models/donetsk/cloud.pkl\n",
      "Model for w_speed in donetsk saved to models/donetsk/w_speed.pkl\n",
      "Model for w_dir in donetsk saved to models/donetsk/w_dir.pkl\n",
      "Model for temp_2 in luhansk saved to models/luhansk/temp_2.pkl\n",
      "Model for hum_2 in luhansk saved to models/luhansk/hum_2.pkl\n",
      "Model for temp_a in luhansk saved to models/luhansk/temp_a.pkl\n",
      "Model for precip in luhansk saved to models/luhansk/precip.pkl\n",
      "Model for rain in luhansk saved to models/luhansk/rain.pkl\n",
      "Model for press in luhansk saved to models/luhansk/press.pkl\n",
      "Model for cloud in luhansk saved to models/luhansk/cloud.pkl\n",
      "Model for w_speed in luhansk saved to models/luhansk/w_speed.pkl\n",
      "Model for w_dir in luhansk saved to models/luhansk/w_dir.pkl\n",
      "Model for temp_2 in sumy saved to models/sumy/temp_2.pkl\n",
      "Model for hum_2 in sumy saved to models/sumy/hum_2.pkl\n",
      "Model for temp_a in sumy saved to models/sumy/temp_a.pkl\n",
      "Model for precip in sumy saved to models/sumy/precip.pkl\n",
      "Model for rain in sumy saved to models/sumy/rain.pkl\n",
      "Model for press in sumy saved to models/sumy/press.pkl\n",
      "Model for cloud in sumy saved to models/sumy/cloud.pkl\n",
      "Model for w_speed in sumy saved to models/sumy/w_speed.pkl\n",
      "Model for w_dir in sumy saved to models/sumy/w_dir.pkl\n",
      "Model for temp_2 in dnipro saved to models/dnipro/temp_2.pkl\n",
      "Model for hum_2 in dnipro saved to models/dnipro/hum_2.pkl\n",
      "Model for temp_a in dnipro saved to models/dnipro/temp_a.pkl\n",
      "Model for precip in dnipro saved to models/dnipro/precip.pkl\n",
      "Model for rain in dnipro saved to models/dnipro/rain.pkl\n",
      "Model for press in dnipro saved to models/dnipro/press.pkl\n",
      "Model for cloud in dnipro saved to models/dnipro/cloud.pkl\n",
      "Model for w_speed in dnipro saved to models/dnipro/w_speed.pkl\n",
      "Model for w_dir in dnipro saved to models/dnipro/w_dir.pkl\n",
      "Model for temp_2 in poltava saved to models/poltava/temp_2.pkl\n",
      "Model for hum_2 in poltava saved to models/poltava/hum_2.pkl\n",
      "Model for temp_a in poltava saved to models/poltava/temp_a.pkl\n",
      "Model for precip in poltava saved to models/poltava/precip.pkl\n",
      "Model for rain in poltava saved to models/poltava/rain.pkl\n",
      "Model for press in poltava saved to models/poltava/press.pkl\n",
      "Model for cloud in poltava saved to models/poltava/cloud.pkl\n",
      "Model for w_speed in poltava saved to models/poltava/w_speed.pkl\n",
      "Model for w_dir in poltava saved to models/poltava/w_dir.pkl\n",
      "Model for temp_2 in zaporizhzhia saved to models/zaporizhzhia/temp_2.pkl\n",
      "Model for hum_2 in zaporizhzhia saved to models/zaporizhzhia/hum_2.pkl\n",
      "Model for temp_a in zaporizhzhia saved to models/zaporizhzhia/temp_a.pkl\n",
      "Model for precip in zaporizhzhia saved to models/zaporizhzhia/precip.pkl\n",
      "Model for rain in zaporizhzhia saved to models/zaporizhzhia/rain.pkl\n",
      "Model for press in zaporizhzhia saved to models/zaporizhzhia/press.pkl\n",
      "Model for cloud in zaporizhzhia saved to models/zaporizhzhia/cloud.pkl\n",
      "Model for w_speed in zaporizhzhia saved to models/zaporizhzhia/w_speed.pkl\n",
      "Model for w_dir in zaporizhzhia saved to models/zaporizhzhia/w_dir.pkl\n",
      "Model for temp_2 in kherson saved to models/kherson/temp_2.pkl\n",
      "Model for hum_2 in kherson saved to models/kherson/hum_2.pkl\n",
      "Model for temp_a in kherson saved to models/kherson/temp_a.pkl\n",
      "Model for precip in kherson saved to models/kherson/precip.pkl\n",
      "Model for rain in kherson saved to models/kherson/rain.pkl\n",
      "Model for press in kherson saved to models/kherson/press.pkl\n",
      "Model for cloud in kherson saved to models/kherson/cloud.pkl\n",
      "Model for w_speed in kherson saved to models/kherson/w_speed.pkl\n",
      "Model for w_dir in kherson saved to models/kherson/w_dir.pkl\n",
      "Model for temp_2 in mykolaiv saved to models/mykolaiv/temp_2.pkl\n",
      "Model for hum_2 in mykolaiv saved to models/mykolaiv/hum_2.pkl\n",
      "Model for temp_a in mykolaiv saved to models/mykolaiv/temp_a.pkl\n",
      "Model for precip in mykolaiv saved to models/mykolaiv/precip.pkl\n",
      "Model for rain in mykolaiv saved to models/mykolaiv/rain.pkl\n",
      "Model for press in mykolaiv saved to models/mykolaiv/press.pkl\n",
      "Model for cloud in mykolaiv saved to models/mykolaiv/cloud.pkl\n",
      "Model for w_speed in mykolaiv saved to models/mykolaiv/w_speed.pkl\n",
      "Model for w_dir in mykolaiv saved to models/mykolaiv/w_dir.pkl\n",
      "Model for temp_2 in odesa saved to models/odesa/temp_2.pkl\n",
      "Model for hum_2 in odesa saved to models/odesa/hum_2.pkl\n",
      "Model for temp_a in odesa saved to models/odesa/temp_a.pkl\n",
      "Model for precip in odesa saved to models/odesa/precip.pkl\n",
      "Model for rain in odesa saved to models/odesa/rain.pkl\n",
      "Model for press in odesa saved to models/odesa/press.pkl\n",
      "Model for cloud in odesa saved to models/odesa/cloud.pkl\n",
      "Model for w_speed in odesa saved to models/odesa/w_speed.pkl\n",
      "Model for w_dir in odesa saved to models/odesa/w_dir.pkl\n",
      "Model for temp_2 in cherkasy saved to models/cherkasy/temp_2.pkl\n",
      "Model for hum_2 in cherkasy saved to models/cherkasy/hum_2.pkl\n",
      "Model for temp_a in cherkasy saved to models/cherkasy/temp_a.pkl\n",
      "Model for precip in cherkasy saved to models/cherkasy/precip.pkl\n",
      "Model for rain in cherkasy saved to models/cherkasy/rain.pkl\n",
      "Model for press in cherkasy saved to models/cherkasy/press.pkl\n",
      "Model for cloud in cherkasy saved to models/cherkasy/cloud.pkl\n",
      "Model for w_speed in cherkasy saved to models/cherkasy/w_speed.pkl\n",
      "Model for w_dir in cherkasy saved to models/cherkasy/w_dir.pkl\n",
      "Model for temp_2 in sevastopol saved to models/sevastopol/temp_2.pkl\n",
      "Model for hum_2 in sevastopol saved to models/sevastopol/hum_2.pkl\n",
      "Model for temp_a in sevastopol saved to models/sevastopol/temp_a.pkl\n",
      "Model for precip in sevastopol saved to models/sevastopol/precip.pkl\n",
      "Model for rain in sevastopol saved to models/sevastopol/rain.pkl\n",
      "Model for press in sevastopol saved to models/sevastopol/press.pkl\n",
      "Model for cloud in sevastopol saved to models/sevastopol/cloud.pkl\n",
      "Model for w_speed in sevastopol saved to models/sevastopol/w_speed.pkl\n",
      "Model for w_dir in sevastopol saved to models/sevastopol/w_dir.pkl\n",
      "Model for temp_2 in ternopil saved to models/ternopil/temp_2.pkl\n",
      "Model for hum_2 in ternopil saved to models/ternopil/hum_2.pkl\n",
      "Model for temp_a in ternopil saved to models/ternopil/temp_a.pkl\n",
      "Model for precip in ternopil saved to models/ternopil/precip.pkl\n",
      "Model for rain in ternopil saved to models/ternopil/rain.pkl\n",
      "Model for press in ternopil saved to models/ternopil/press.pkl\n",
      "Model for cloud in ternopil saved to models/ternopil/cloud.pkl\n",
      "Model for w_speed in ternopil saved to models/ternopil/w_speed.pkl\n",
      "Model for w_dir in ternopil saved to models/ternopil/w_dir.pkl\n",
      "Model for temp_2 in zhytomyr saved to models/zhytomyr/temp_2.pkl\n",
      "Model for hum_2 in zhytomyr saved to models/zhytomyr/hum_2.pkl\n",
      "Model for temp_a in zhytomyr saved to models/zhytomyr/temp_a.pkl\n",
      "Model for precip in zhytomyr saved to models/zhytomyr/precip.pkl\n",
      "Model for rain in zhytomyr saved to models/zhytomyr/rain.pkl\n",
      "Model for press in zhytomyr saved to models/zhytomyr/press.pkl\n",
      "Model for cloud in zhytomyr saved to models/zhytomyr/cloud.pkl\n",
      "Model for w_speed in zhytomyr saved to models/zhytomyr/w_speed.pkl\n",
      "Model for w_dir in zhytomyr saved to models/zhytomyr/w_dir.pkl\n",
      "Model for temp_2 in rivne saved to models/rivne/temp_2.pkl\n",
      "Model for hum_2 in rivne saved to models/rivne/hum_2.pkl\n",
      "Model for temp_a in rivne saved to models/rivne/temp_a.pkl\n",
      "Model for precip in rivne saved to models/rivne/precip.pkl\n",
      "Model for rain in rivne saved to models/rivne/rain.pkl\n",
      "Model for press in rivne saved to models/rivne/press.pkl\n",
      "Model for cloud in rivne saved to models/rivne/cloud.pkl\n",
      "Model for w_speed in rivne saved to models/rivne/w_speed.pkl\n",
      "Model for w_dir in rivne saved to models/rivne/w_dir.pkl\n",
      "Model for temp_2 in lutsk saved to models/lutsk/temp_2.pkl\n",
      "Model for hum_2 in lutsk saved to models/lutsk/hum_2.pkl\n",
      "Model for temp_a in lutsk saved to models/lutsk/temp_a.pkl\n",
      "Model for precip in lutsk saved to models/lutsk/precip.pkl\n",
      "Model for rain in lutsk saved to models/lutsk/rain.pkl\n",
      "Model for press in lutsk saved to models/lutsk/press.pkl\n",
      "Model for cloud in lutsk saved to models/lutsk/cloud.pkl\n",
      "Model for w_speed in lutsk saved to models/lutsk/w_speed.pkl\n",
      "Model for w_dir in lutsk saved to models/lutsk/w_dir.pkl\n",
      "Model for temp_2 in khmelnytskyi saved to models/khmelnytskyi/temp_2.pkl\n",
      "Model for hum_2 in khmelnytskyi saved to models/khmelnytskyi/hum_2.pkl\n",
      "Model for temp_a in khmelnytskyi saved to models/khmelnytskyi/temp_a.pkl\n",
      "Model for precip in khmelnytskyi saved to models/khmelnytskyi/precip.pkl\n",
      "Model for rain in khmelnytskyi saved to models/khmelnytskyi/rain.pkl\n",
      "Model for press in khmelnytskyi saved to models/khmelnytskyi/press.pkl\n",
      "Model for cloud in khmelnytskyi saved to models/khmelnytskyi/cloud.pkl\n",
      "Model for w_speed in khmelnytskyi saved to models/khmelnytskyi/w_speed.pkl\n",
      "Model for w_dir in khmelnytskyi saved to models/khmelnytskyi/w_dir.pkl\n",
      "Model for temp_2 in chernivtsi saved to models/chernivtsi/temp_2.pkl\n",
      "Model for hum_2 in chernivtsi saved to models/chernivtsi/hum_2.pkl\n",
      "Model for temp_a in chernivtsi saved to models/chernivtsi/temp_a.pkl\n",
      "Model for precip in chernivtsi saved to models/chernivtsi/precip.pkl\n",
      "Model for rain in chernivtsi saved to models/chernivtsi/rain.pkl\n",
      "Model for press in chernivtsi saved to models/chernivtsi/press.pkl\n",
      "Model for cloud in chernivtsi saved to models/chernivtsi/cloud.pkl\n",
      "Model for w_speed in chernivtsi saved to models/chernivtsi/w_speed.pkl\n",
      "Model for w_dir in chernivtsi saved to models/chernivtsi/w_dir.pkl\n",
      "Model for temp_2 in ivano-frankivsk saved to models/ivano-frankivsk/temp_2.pkl\n",
      "Model for hum_2 in ivano-frankivsk saved to models/ivano-frankivsk/hum_2.pkl\n",
      "Model for temp_a in ivano-frankivsk saved to models/ivano-frankivsk/temp_a.pkl\n",
      "Model for precip in ivano-frankivsk saved to models/ivano-frankivsk/precip.pkl\n",
      "Model for rain in ivano-frankivsk saved to models/ivano-frankivsk/rain.pkl\n",
      "Model for press in ivano-frankivsk saved to models/ivano-frankivsk/press.pkl\n",
      "Model for cloud in ivano-frankivsk saved to models/ivano-frankivsk/cloud.pkl\n",
      "Model for w_speed in ivano-frankivsk saved to models/ivano-frankivsk/w_speed.pkl\n",
      "Model for w_dir in ivano-frankivsk saved to models/ivano-frankivsk/w_dir.pkl\n",
      "Model for temp_2 in uzhhorod saved to models/uzhhorod/temp_2.pkl\n",
      "Model for hum_2 in uzhhorod saved to models/uzhhorod/hum_2.pkl\n",
      "Model for temp_a in uzhhorod saved to models/uzhhorod/temp_a.pkl\n",
      "Model for precip in uzhhorod saved to models/uzhhorod/precip.pkl\n",
      "Model for rain in uzhhorod saved to models/uzhhorod/rain.pkl\n",
      "Model for press in uzhhorod saved to models/uzhhorod/press.pkl\n",
      "Model for cloud in uzhhorod saved to models/uzhhorod/cloud.pkl\n",
      "Model for w_speed in uzhhorod saved to models/uzhhorod/w_speed.pkl\n",
      "Model for w_dir in uzhhorod saved to models/uzhhorod/w_dir.pkl\n"
     ]
    }
   ],
   "source": [
    "import pickle\n",
    "\n",
    "for city_name, variables in models.items():\n",
    "    model_directory_city = os.path.join(models_directory, city_name)\n",
    "    if not os.path.exists(model_directory_city):\n",
    "        os.makedirs(model_directory_city)\n",
    "        print(f\"Directory {model_directory_city} created\")\n",
    "\n",
    "    for variable, model in variables.items():\n",
    "        model_filename = os.path.join(model_directory_city, f\"{variable}.pkl\")\n",
    "        if not os.path.exists(model_filename):\n",
    "            with open(model_filename, 'wb') as f:\n",
    "                pickle.dump(model, f)\n",
    "            print(f\"Model for {variable} in {city_name} saved to {model_filename}\")"
   ],
   "metadata": {
    "collapsed": false
   }
  },
  {
   "cell_type": "code",
   "execution_count": 28,
   "outputs": [
    {
     "data": {
      "text/plain": "<Figure size 1400x700 with 1 Axes>",
      "image/png": "[encoded data removed]"
     },
     "metadata": {},
     "output_type": "display_data"
    }
   ],
   "source": [
    "import matplotlib.pyplot as plt\n",
    "\n",
    "# Choose a variable to visualize (e.g., temperature_2m)\n",
    "variable_to_visualize = 'temp_2'\n",
    "\n",
    "# Extract the trained model for the selected variable\n",
    "selected_model = models['kyiv']['temp_2']\n",
    "\n",
    "# Extract the testing set for the selected variable\n",
    "column_name = f'y_{variable_to_visualize}'\n",
    "df_temp = df[['ds', column_name]].rename(columns={column_name: 'y'})\n",
    "for i in range(1, 6):\n",
    "    df_temp[f'y_{variable_to_visualize}_lag_{i}'] = df_temp['y'].shift(i)\n",
    "df_temp = df_temp.dropna()\n",
    "train_size = int(len(df_temp) * 0.8)\n",
    "test = df_temp.iloc[train_size:]\n",
    "\n",
    "# Make predictions on the entire dataset (train + test)\n",
    "forecast = selected_model.predict(df_temp.drop('y', axis=1))\n",
    "\n",
    "# Plotting\n",
    "plt.figure(figsize=(14, 7))\n",
    "\n",
    "# Plotting the observed values\n",
    "plt.plot(df_temp['ds'], df_temp['y'], label='Observed', color='blue')\n",
    "\n",
    "# Plotting the predicted values on the test set\n",
    "plt.plot(test['ds'], forecast['yhat'][train_size:], label='Predicted', color='red')\n",
    "\n",
    "# Highlighting the training/test split\n",
    "plt.axvline(test['ds'].iloc[0], color='black', linestyle='--', linewidth=2, label='Train/Test Split')\n",
    "\n",
    "# Adding labels and title\n",
    "plt.xlabel('Date')\n",
    "plt.ylabel('Temperature (Celsius)')  # Change the label based on the selected variable\n",
    "plt.title(f'Prophet Model - {variable_to_visualize} Prediction')\n",
    "\n",
    "# Adding legend\n",
    "plt.legend()\n",
    "\n",
    "# Show the plot\n",
    "plt.show()\n"
   ],
   "metadata": {
    "collapsed": false
   }
  },
  {
   "cell_type": "code",
   "execution_count": 29,
   "outputs": [
    {
     "data": {
      "text/plain": "<Figure size 1400x700 with 1 Axes>",
      "image/png": "[encoded data removed]"
     },
     "metadata": {},
     "output_type": "display_data"
    }
   ],
   "source": [
    "import pandas as pd\n",
    "import matplotlib.pyplot as plt\n",
    "\n",
    "\n",
    "def plot_actual_vs_predicted(start_date, periods, variable='temp_2'):\n",
    "    # Convert start_date to Timestamp\n",
    "    start_date = pd.to_datetime(start_date)\n",
    "\n",
    "    # Calculate end_date based on start_date and periods\n",
    "    end_date = start_date + pd.DateOffset(hours=periods)\n",
    "\n",
    "    # Filter data within the specified interval\n",
    "    df_interval = df[(df['ds'] >= start_date) & (df['ds'] < end_date)]\n",
    "\n",
    "    # Extract the trained model for the selected variable\n",
    "    selected_model = models['kyiv']['temp_2']\n",
    "\n",
    "\n",
    "    # Prepare data for the selected interval\n",
    "    column_name = f'y_{variable}'\n",
    "    df_temp = df_interval[['ds', column_name]].rename(columns={column_name: 'y'})\n",
    "    for i in range(1, 6):\n",
    "        df_temp[f'y_{variable}_lag_{i}'] = df_temp['y'].shift(i)\n",
    "    df_temp = df_temp.dropna()\n",
    "    train_size = int(len(df_temp) * 0.8)\n",
    "    test = df_temp.iloc[train_size:]\n",
    "\n",
    "    # Make predictions on the entire dataset (train + test)\n",
    "    forecast = selected_model.predict(pd.concat([df_temp.drop('y', axis=1).iloc[0:1], df_temp.drop('y', axis=1)]))\n",
    "\n",
    "    # Plotting\n",
    "    plt.figure(figsize=(14, 7))\n",
    "\n",
    "    # Plotting the observed values\n",
    "    plt.plot(df_temp['ds'], df_temp['y'], label='Observed', color='blue')\n",
    "\n",
    "    # Plotting the predicted values on the entire dataset\n",
    "    plt.plot(df_temp['ds'], forecast['yhat'][:len(df_temp)], label='Predicted', color='red')\n",
    "\n",
    "    # Adding labels and title\n",
    "    plt.xlabel('Date')\n",
    "    plt.ylabel(f'{variable.capitalize()}')  # Change the label based on the selected variable\n",
    "    plt.title(f'Prophet Model - {variable.capitalize()} Prediction within {start_date} to {end_date}')\n",
    "\n",
    "    # Adding legend\n",
    "    plt.legend()\n",
    "\n",
    "    # Show the plot\n",
    "    plt.show()\n",
    "\n",
    "\n",
    "df['ds'] = pd.to_datetime(df['ds'])\n",
    "\n",
    "start_date = '2023-09-01 00:00:00'\n",
    "periods = 24 * 31 * 3\n",
    "plot_actual_vs_predicted(start_date, periods, variable='temp_2')\n"
   ],
   "metadata": {
    "collapsed": false
   }
  }
 ],
 "metadata": {
  "kernelspec": {
   "display_name": "Python 3",
   "language": "python",
   "name": "python3"
  },
  "language_info": {
   "codemirror_mode": {
    "name": "ipython",
    "version": 2
   },
   "file_extension": ".py",
   "mimetype": "text/x-python",
   "name": "python",
   "nbconvert_exporter": "python",
   "pygments_lexer": "ipython2",
   "version": "2.7.6"
  }
 },
 "nbformat": 4,
 "nbformat_minor": 0
}
