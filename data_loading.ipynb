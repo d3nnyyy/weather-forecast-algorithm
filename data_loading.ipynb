{
 "cells": [
  {
   "cell_type": "markdown",
   "source": [
    "# This Jupyter notebook demonstrates the process of retrieving weather data using the Open-Meteo API and processing it for a specific location"
   ],
   "metadata": {
    "collapsed": false
   }
  },
  {
   "cell_type": "code",
   "execution_count": 1,
   "outputs": [
    {
     "name": "stdout",
     "output_type": "stream",
     "text": [
      "Collecting openmeteo-requests\r\n",
      "  Downloading openmeteo_requests-1.1.0-py3-none-any.whl (5.5 kB)\r\n",
      "Collecting openmeteo-sdk>=1.4.0\r\n",
      "  Downloading openmeteo_sdk-1.7.2-py3-none-any.whl (12 kB)\r\n",
      "Requirement already satisfied: requests in ./venv/lib/python3.10/site-packages (from openmeteo-requests) (2.31.0)\r\n",
      "Requirement already satisfied: flatbuffers>=23.0.0 in ./venv/lib/python3.10/site-packages (from openmeteo-sdk>=1.4.0->openmeteo-requests) (23.5.26)\r\n",
      "Requirement already satisfied: idna<4,>=2.5 in ./venv/lib/python3.10/site-packages (from requests->openmeteo-requests) (3.6)\r\n",
      "Requirement already satisfied: certifi>=2017.4.17 in ./venv/lib/python3.10/site-packages (from requests->openmeteo-requests) (2023.11.17)\r\n",
      "Requirement already satisfied: charset-normalizer<4,>=2 in ./venv/lib/python3.10/site-packages (from requests->openmeteo-requests) (3.3.2)\r\n",
      "Requirement already satisfied: urllib3<3,>=1.21.1 in ./venv/lib/python3.10/site-packages (from requests->openmeteo-requests) (2.1.0)\r\n",
      "Installing collected packages: openmeteo-sdk, openmeteo-requests\r\n",
      "Successfully installed openmeteo-requests-1.1.0 openmeteo-sdk-1.7.2\r\n",
      "\r\n",
      "\u001B[1m[\u001B[0m\u001B[34;49mnotice\u001B[0m\u001B[1;39;49m]\u001B[0m\u001B[39;49m A new release of pip available: \u001B[0m\u001B[31;49m22.3.1\u001B[0m\u001B[39;49m -> \u001B[0m\u001B[32;49m23.3.2\u001B[0m\r\n",
      "\u001B[1m[\u001B[0m\u001B[34;49mnotice\u001B[0m\u001B[1;39;49m]\u001B[0m\u001B[39;49m To update, run: \u001B[0m\u001B[32;49mpip install --upgrade pip\u001B[0m\r\n",
      "Collecting requests-cache\r\n",
      "  Downloading requests_cache-1.1.1-py3-none-any.whl (60 kB)\r\n",
      "\u001B[2K     \u001B[90m━━━━━━━━━━━━━━━━━━━━━━━━━━━━━━━━━━━━━━━━\u001B[0m \u001B[32m60.3/60.3 kB\u001B[0m \u001B[31m1.1 MB/s\u001B[0m eta \u001B[36m0:00:00\u001B[0mta \u001B[36m0:00:01\u001B[0m\r\n",
      "\u001B[?25hCollecting retry-requests\r\n",
      "  Downloading retry_requests-2.0.0-py3-none-any.whl (15 kB)\r\n",
      "Collecting url-normalize>=1.4\r\n",
      "  Downloading url_normalize-1.4.3-py2.py3-none-any.whl (6.8 kB)\r\n",
      "Requirement already satisfied: urllib3>=1.25.5 in ./venv/lib/python3.10/site-packages (from requests-cache) (2.1.0)\r\n",
      "Collecting cattrs>=22.2\r\n",
      "  Downloading cattrs-23.2.3-py3-none-any.whl (57 kB)\r\n",
      "\u001B[2K     \u001B[90m━━━━━━━━━━━━━━━━━━━━━━━━━━━━━━━━━━━━━━━━\u001B[0m \u001B[32m57.5/57.5 kB\u001B[0m \u001B[31m3.7 MB/s\u001B[0m eta \u001B[36m0:00:00\u001B[0m\r\n",
      "\u001B[?25hRequirement already satisfied: attrs>=21.2 in ./venv/lib/python3.10/site-packages (from requests-cache) (23.2.0)\r\n",
      "Requirement already satisfied: platformdirs>=2.5 in ./venv/lib/python3.10/site-packages (from requests-cache) (4.1.0)\r\n",
      "Requirement already satisfied: requests>=2.22 in ./venv/lib/python3.10/site-packages (from requests-cache) (2.31.0)\r\n",
      "Requirement already satisfied: typing-extensions!=4.6.3,>=4.1.0 in ./venv/lib/python3.10/site-packages (from cattrs>=22.2->requests-cache) (4.5.0)\r\n",
      "Requirement already satisfied: exceptiongroup>=1.1.1 in ./venv/lib/python3.10/site-packages (from cattrs>=22.2->requests-cache) (1.2.0)\r\n",
      "Requirement already satisfied: certifi>=2017.4.17 in ./venv/lib/python3.10/site-packages (from requests>=2.22->requests-cache) (2023.11.17)\r\n",
      "Requirement already satisfied: charset-normalizer<4,>=2 in ./venv/lib/python3.10/site-packages (from requests>=2.22->requests-cache) (3.3.2)\r\n",
      "Requirement already satisfied: idna<4,>=2.5 in ./venv/lib/python3.10/site-packages (from requests>=2.22->requests-cache) (3.6)\r\n",
      "Requirement already satisfied: six in ./venv/lib/python3.10/site-packages (from url-normalize>=1.4->requests-cache) (1.16.0)\r\n",
      "Installing collected packages: url-normalize, cattrs, retry-requests, requests-cache\r\n",
      "Successfully installed cattrs-23.2.3 requests-cache-1.1.1 retry-requests-2.0.0 url-normalize-1.4.3\r\n",
      "\r\n",
      "\u001B[1m[\u001B[0m\u001B[34;49mnotice\u001B[0m\u001B[1;39;49m]\u001B[0m\u001B[39;49m A new release of pip available: \u001B[0m\u001B[31;49m22.3.1\u001B[0m\u001B[39;49m -> \u001B[0m\u001B[32;49m23.3.2\u001B[0m\r\n",
      "\u001B[1m[\u001B[0m\u001B[34;49mnotice\u001B[0m\u001B[1;39;49m]\u001B[0m\u001B[39;49m To update, run: \u001B[0m\u001B[32;49mpip install --upgrade pip\u001B[0m\r\n"
     ]
    }
   ],
   "source": [
    "!pip install openmeteo-requests\n",
    "!pip install requests-cache retry-requests"
   ],
   "metadata": {
    "collapsed": false
   }
  },
  {
   "cell_type": "code",
   "execution_count": 4,
   "outputs": [
    {
     "name": "stdout",
     "output_type": "stream",
     "text": [
      "Coordinates 50.43936538696289°E 30.476192474365234°N\n",
      "Elevation 188.0 m asl\n",
      "Timezone None None\n",
      "Timezone difference to GMT+0 0 s\n",
      "                     date  temperature_2m  relative_humidity_2m  \\\n",
      "0     2019-01-01 00:00:00         -2.2425             91.135132   \n",
      "1     2019-01-01 01:00:00         -2.2925             91.131615   \n",
      "2     2019-01-01 02:00:00         -2.3925             91.807915   \n",
      "3     2019-01-01 03:00:00         -2.0925             92.858681   \n",
      "4     2019-01-01 04:00:00         -1.6925             93.226448   \n",
      "...                   ...             ...                   ...   \n",
      "44515 2024-01-29 19:00:00             NaN                   NaN   \n",
      "44516 2024-01-29 20:00:00             NaN                   NaN   \n",
      "44517 2024-01-29 21:00:00             NaN                   NaN   \n",
      "44518 2024-01-29 22:00:00             NaN                   NaN   \n",
      "44519 2024-01-29 23:00:00             NaN                   NaN   \n",
      "\n",
      "       apparent_temperature  precipitation  rain  surface_pressure  \\\n",
      "0                 -6.811514            0.1   0.0       1002.210876   \n",
      "1                 -6.956277            0.0   0.0       1001.718140   \n",
      "2                 -7.015568            0.0   0.0       1001.220947   \n",
      "3                 -6.601203            0.1   0.0       1000.563599   \n",
      "4                 -6.070883            0.1   0.0       1000.012573   \n",
      "...                     ...            ...   ...               ...   \n",
      "44515                   NaN            NaN   NaN               NaN   \n",
      "44516                   NaN            NaN   NaN               NaN   \n",
      "44517                   NaN            NaN   NaN               NaN   \n",
      "44518                   NaN            NaN   NaN               NaN   \n",
      "44519                   NaN            NaN   NaN               NaN   \n",
      "\n",
      "       cloud_cover  wind_speed_100m  wind_direction_100m  \n",
      "0            100.0        24.675106           203.198608  \n",
      "1            100.0        25.537172           201.501495  \n",
      "2            100.0        25.759504           206.564987  \n",
      "3            100.0        24.464113           212.988525  \n",
      "4            100.0        23.400000           216.869980  \n",
      "...            ...              ...                  ...  \n",
      "44515          NaN              NaN                  NaN  \n",
      "44516          NaN              NaN                  NaN  \n",
      "44517          NaN              NaN                  NaN  \n",
      "44518          NaN              NaN                  NaN  \n",
      "44519          NaN              NaN                  NaN  \n",
      "\n",
      "[44520 rows x 10 columns]\n"
     ]
    }
   ],
   "source": [
    "import openmeteo_requests\n",
    "\n",
    "import requests_cache\n",
    "import pandas as pd\n",
    "from retry_requests import retry\n",
    "\n",
    "# Setup the Open-Meteo API client with cache and retry on error\n",
    "cache_session = requests_cache.CachedSession('.cache', expire_after = -1)\n",
    "retry_session = retry(cache_session, retries = 5, backoff_factor = 0.2)\n",
    "openmeteo = openmeteo_requests.Client(session = retry_session)\n",
    "\n",
    "# Make sure all required weather variables are listed here\n",
    "# The order of variables in hourly or daily is important to assign them correctly below\n",
    "url = \"https://archive-api.open-meteo.com/v1/archive\"\n",
    "params = {\n",
    "  \"latitude\": 50.4547,\n",
    "  \"longitude\": 30.5238,\n",
    "  \"start_date\": \"2019-01-01\",\n",
    "  \"end_date\": \"2024-01-29\",\n",
    "  \"hourly\": [\"temperature_2m\", \"relative_humidity_2m\", \"apparent_temperature\", \"precipitation\", \"rain\", \"surface_pressure\", \"cloud_cover\", \"wind_speed_100m\", \"wind_direction_100m\"]\n",
    "}\n",
    "responses = openmeteo.weather_api(url, params=params)\n",
    "\n",
    "# Process first location. Add a for-loop for multiple locations or weather models\n",
    "response = responses[0]\n",
    "print(f\"Coordinates {response.Latitude()}°E {response.Longitude()}°N\")\n",
    "print(f\"Elevation {response.Elevation()} m asl\")\n",
    "print(f\"Timezone {response.Timezone()} {response.TimezoneAbbreviation()}\")\n",
    "print(f\"Timezone difference to GMT+0 {response.UtcOffsetSeconds()} s\")\n",
    "\n",
    "# Process hourly data. The order of variables needs to be the same as requested.\n",
    "hourly = response.Hourly()\n",
    "hourly_temperature_2m = hourly.Variables(0).ValuesAsNumpy()\n",
    "hourly_relative_humidity_2m = hourly.Variables(1).ValuesAsNumpy()\n",
    "hourly_apparent_temperature = hourly.Variables(2).ValuesAsNumpy()\n",
    "hourly_precipitation = hourly.Variables(3).ValuesAsNumpy()\n",
    "hourly_rain = hourly.Variables(4).ValuesAsNumpy()\n",
    "hourly_surface_pressure = hourly.Variables(5).ValuesAsNumpy()\n",
    "hourly_cloud_cover = hourly.Variables(6).ValuesAsNumpy()\n",
    "hourly_wind_speed_100m = hourly.Variables(7).ValuesAsNumpy()\n",
    "hourly_wind_direction_100m = hourly.Variables(8).ValuesAsNumpy()\n",
    "\n",
    "hourly_data = {\"date\": pd.date_range(\n",
    "  start = pd.to_datetime(hourly.Time(), unit = \"s\"),\n",
    "  end = pd.to_datetime(hourly.TimeEnd(), unit = \"s\"),\n",
    "  freq = pd.Timedelta(seconds = hourly.Interval()),\n",
    "  inclusive = \"left\"\n",
    ")}\n",
    "hourly_data[\"temperature_2m\"] = hourly_temperature_2m\n",
    "hourly_data[\"relative_humidity_2m\"] = hourly_relative_humidity_2m\n",
    "hourly_data[\"apparent_temperature\"] = hourly_apparent_temperature\n",
    "hourly_data[\"precipitation\"] = hourly_precipitation\n",
    "hourly_data[\"rain\"] = hourly_rain\n",
    "hourly_data[\"surface_pressure\"] = hourly_surface_pressure\n",
    "hourly_data[\"cloud_cover\"] = hourly_cloud_cover\n",
    "hourly_data[\"wind_speed_100m\"] = hourly_wind_speed_100m\n",
    "hourly_data[\"wind_direction_100m\"] = hourly_wind_direction_100m\n",
    "\n",
    "hourly_dataframe = pd.DataFrame(data = hourly_data)\n",
    "print(hourly_dataframe)\n"
   ],
   "metadata": {
    "collapsed": false
   }
  },
  {
   "cell_type": "code",
   "execution_count": 5,
   "outputs": [
    {
     "data": {
      "text/plain": "                 date  temperature_2m  relative_humidity_2m  \\\n0 2019-01-01 00:00:00         -2.2425             91.135132   \n1 2019-01-01 01:00:00         -2.2925             91.131615   \n2 2019-01-01 02:00:00         -2.3925             91.807915   \n3 2019-01-01 03:00:00         -2.0925             92.858681   \n4 2019-01-01 04:00:00         -1.6925             93.226448   \n\n   apparent_temperature  precipitation  rain  surface_pressure  cloud_cover  \\\n0             -6.811514            0.1   0.0       1002.210876        100.0   \n1             -6.956277            0.0   0.0       1001.718140        100.0   \n2             -7.015568            0.0   0.0       1001.220947        100.0   \n3             -6.601203            0.1   0.0       1000.563599        100.0   \n4             -6.070883            0.1   0.0       1000.012573        100.0   \n\n   wind_speed_100m  wind_direction_100m  \n0        24.675106           203.198608  \n1        25.537172           201.501495  \n2        25.759504           206.564987  \n3        24.464113           212.988525  \n4        23.400000           216.869980  ",
      "text/html": "<div>\n<style scoped>\n    .dataframe tbody tr th:only-of-type {\n        vertical-align: middle;\n    }\n\n    .dataframe tbody tr th {\n        vertical-align: top;\n    }\n\n    .dataframe thead th {\n        text-align: right;\n    }\n</style>\n<table border=\"1\" class=\"dataframe\">\n  <thead>\n    <tr style=\"text-align: right;\">\n      <th></th>\n      <th>date</th>\n      <th>temperature_2m</th>\n      <th>relative_humidity_2m</th>\n      <th>apparent_temperature</th>\n      <th>precipitation</th>\n      <th>rain</th>\n      <th>surface_pressure</th>\n      <th>cloud_cover</th>\n      <th>wind_speed_100m</th>\n      <th>wind_direction_100m</th>\n    </tr>\n  </thead>\n  <tbody>\n    <tr>\n      <th>0</th>\n      <td>2019-01-01 00:00:00</td>\n      <td>-2.2425</td>\n      <td>91.135132</td>\n      <td>-6.811514</td>\n      <td>0.1</td>\n      <td>0.0</td>\n      <td>1002.210876</td>\n      <td>100.0</td>\n      <td>24.675106</td>\n      <td>203.198608</td>\n    </tr>\n    <tr>\n      <th>1</th>\n      <td>2019-01-01 01:00:00</td>\n      <td>-2.2925</td>\n      <td>91.131615</td>\n      <td>-6.956277</td>\n      <td>0.0</td>\n      <td>0.0</td>\n      <td>1001.718140</td>\n      <td>100.0</td>\n      <td>25.537172</td>\n      <td>201.501495</td>\n    </tr>\n    <tr>\n      <th>2</th>\n      <td>2019-01-01 02:00:00</td>\n      <td>-2.3925</td>\n      <td>91.807915</td>\n      <td>-7.015568</td>\n      <td>0.0</td>\n      <td>0.0</td>\n      <td>1001.220947</td>\n      <td>100.0</td>\n      <td>25.759504</td>\n      <td>206.564987</td>\n    </tr>\n    <tr>\n      <th>3</th>\n      <td>2019-01-01 03:00:00</td>\n      <td>-2.0925</td>\n      <td>92.858681</td>\n      <td>-6.601203</td>\n      <td>0.1</td>\n      <td>0.0</td>\n      <td>1000.563599</td>\n      <td>100.0</td>\n      <td>24.464113</td>\n      <td>212.988525</td>\n    </tr>\n    <tr>\n      <th>4</th>\n      <td>2019-01-01 04:00:00</td>\n      <td>-1.6925</td>\n      <td>93.226448</td>\n      <td>-6.070883</td>\n      <td>0.1</td>\n      <td>0.0</td>\n      <td>1000.012573</td>\n      <td>100.0</td>\n      <td>23.400000</td>\n      <td>216.869980</td>\n    </tr>\n  </tbody>\n</table>\n</div>"
     },
     "execution_count": 5,
     "metadata": {},
     "output_type": "execute_result"
    }
   ],
   "source": [
    "hourly_dataframe.head(5)"
   ],
   "metadata": {
    "collapsed": false
   }
  },
  {
   "cell_type": "code",
   "execution_count": 6,
   "outputs": [
    {
     "data": {
      "text/plain": "date                    44520\ntemperature_2m           1039\nrelative_humidity_2m    36549\napparent_temperature    44427\nprecipitation              68\nrain                       95\nsurface_pressure        37949\ncloud_cover               829\nwind_speed_100m          4515\nwind_direction_100m     14606\ndtype: int64"
     },
     "execution_count": 6,
     "metadata": {},
     "output_type": "execute_result"
    }
   ],
   "source": [
    "hourly_dataframe.nunique()"
   ],
   "metadata": {
    "collapsed": false
   }
  },
  {
   "cell_type": "code",
   "execution_count": 7,
   "outputs": [
    {
     "data": {
      "text/plain": "date                     0\ntemperature_2m          48\nrelative_humidity_2m    48\napparent_temperature    48\nprecipitation           48\nrain                    48\nsurface_pressure        48\ncloud_cover             48\nwind_speed_100m         48\nwind_direction_100m     48\ndtype: int64"
     },
     "execution_count": 7,
     "metadata": {},
     "output_type": "execute_result"
    }
   ],
   "source": [
    "hourly_dataframe.isna().sum()"
   ],
   "metadata": {
    "collapsed": false
   }
  },
  {
   "cell_type": "code",
   "execution_count": 11,
   "outputs": [
    {
     "data": {
      "text/plain": "                     date  temperature_2m  relative_humidity_2m  \\\n44472 2024-01-28 00:00:00             NaN                   NaN   \n44473 2024-01-28 01:00:00             NaN                   NaN   \n44474 2024-01-28 02:00:00             NaN                   NaN   \n44475 2024-01-28 03:00:00             NaN                   NaN   \n44476 2024-01-28 04:00:00             NaN                   NaN   \n44477 2024-01-28 05:00:00             NaN                   NaN   \n44478 2024-01-28 06:00:00             NaN                   NaN   \n44479 2024-01-28 07:00:00             NaN                   NaN   \n44480 2024-01-28 08:00:00             NaN                   NaN   \n44481 2024-01-28 09:00:00             NaN                   NaN   \n44482 2024-01-28 10:00:00             NaN                   NaN   \n44483 2024-01-28 11:00:00             NaN                   NaN   \n44484 2024-01-28 12:00:00             NaN                   NaN   \n44485 2024-01-28 13:00:00             NaN                   NaN   \n44486 2024-01-28 14:00:00             NaN                   NaN   \n44487 2024-01-28 15:00:00             NaN                   NaN   \n44488 2024-01-28 16:00:00             NaN                   NaN   \n44489 2024-01-28 17:00:00             NaN                   NaN   \n44490 2024-01-28 18:00:00             NaN                   NaN   \n44491 2024-01-28 19:00:00             NaN                   NaN   \n44492 2024-01-28 20:00:00             NaN                   NaN   \n44493 2024-01-28 21:00:00             NaN                   NaN   \n44494 2024-01-28 22:00:00             NaN                   NaN   \n44495 2024-01-28 23:00:00             NaN                   NaN   \n44496 2024-01-29 00:00:00             NaN                   NaN   \n44497 2024-01-29 01:00:00             NaN                   NaN   \n44498 2024-01-29 02:00:00             NaN                   NaN   \n44499 2024-01-29 03:00:00             NaN                   NaN   \n44500 2024-01-29 04:00:00             NaN                   NaN   \n44501 2024-01-29 05:00:00             NaN                   NaN   \n44502 2024-01-29 06:00:00             NaN                   NaN   \n44503 2024-01-29 07:00:00             NaN                   NaN   \n44504 2024-01-29 08:00:00             NaN                   NaN   \n44505 2024-01-29 09:00:00             NaN                   NaN   \n44506 2024-01-29 10:00:00             NaN                   NaN   \n44507 2024-01-29 11:00:00             NaN                   NaN   \n44508 2024-01-29 12:00:00             NaN                   NaN   \n44509 2024-01-29 13:00:00             NaN                   NaN   \n44510 2024-01-29 14:00:00             NaN                   NaN   \n44511 2024-01-29 15:00:00             NaN                   NaN   \n44512 2024-01-29 16:00:00             NaN                   NaN   \n44513 2024-01-29 17:00:00             NaN                   NaN   \n44514 2024-01-29 18:00:00             NaN                   NaN   \n44515 2024-01-29 19:00:00             NaN                   NaN   \n44516 2024-01-29 20:00:00             NaN                   NaN   \n44517 2024-01-29 21:00:00             NaN                   NaN   \n44518 2024-01-29 22:00:00             NaN                   NaN   \n44519 2024-01-29 23:00:00             NaN                   NaN   \n\n       apparent_temperature  precipitation  rain  surface_pressure  \\\n44472                   NaN            NaN   NaN               NaN   \n44473                   NaN            NaN   NaN               NaN   \n44474                   NaN            NaN   NaN               NaN   \n44475                   NaN            NaN   NaN               NaN   \n44476                   NaN            NaN   NaN               NaN   \n44477                   NaN            NaN   NaN               NaN   \n44478                   NaN            NaN   NaN               NaN   \n44479                   NaN            NaN   NaN               NaN   \n44480                   NaN            NaN   NaN               NaN   \n44481                   NaN            NaN   NaN               NaN   \n44482                   NaN            NaN   NaN               NaN   \n44483                   NaN            NaN   NaN               NaN   \n44484                   NaN            NaN   NaN               NaN   \n44485                   NaN            NaN   NaN               NaN   \n44486                   NaN            NaN   NaN               NaN   \n44487                   NaN            NaN   NaN               NaN   \n44488                   NaN            NaN   NaN               NaN   \n44489                   NaN            NaN   NaN               NaN   \n44490                   NaN            NaN   NaN               NaN   \n44491                   NaN            NaN   NaN               NaN   \n44492                   NaN            NaN   NaN               NaN   \n44493                   NaN            NaN   NaN               NaN   \n44494                   NaN            NaN   NaN               NaN   \n44495                   NaN            NaN   NaN               NaN   \n44496                   NaN            NaN   NaN               NaN   \n44497                   NaN            NaN   NaN               NaN   \n44498                   NaN            NaN   NaN               NaN   \n44499                   NaN            NaN   NaN               NaN   \n44500                   NaN            NaN   NaN               NaN   \n44501                   NaN            NaN   NaN               NaN   \n44502                   NaN            NaN   NaN               NaN   \n44503                   NaN            NaN   NaN               NaN   \n44504                   NaN            NaN   NaN               NaN   \n44505                   NaN            NaN   NaN               NaN   \n44506                   NaN            NaN   NaN               NaN   \n44507                   NaN            NaN   NaN               NaN   \n44508                   NaN            NaN   NaN               NaN   \n44509                   NaN            NaN   NaN               NaN   \n44510                   NaN            NaN   NaN               NaN   \n44511                   NaN            NaN   NaN               NaN   \n44512                   NaN            NaN   NaN               NaN   \n44513                   NaN            NaN   NaN               NaN   \n44514                   NaN            NaN   NaN               NaN   \n44515                   NaN            NaN   NaN               NaN   \n44516                   NaN            NaN   NaN               NaN   \n44517                   NaN            NaN   NaN               NaN   \n44518                   NaN            NaN   NaN               NaN   \n44519                   NaN            NaN   NaN               NaN   \n\n       cloud_cover  wind_speed_100m  wind_direction_100m  \n44472          NaN              NaN                  NaN  \n44473          NaN              NaN                  NaN  \n44474          NaN              NaN                  NaN  \n44475          NaN              NaN                  NaN  \n44476          NaN              NaN                  NaN  \n44477          NaN              NaN                  NaN  \n44478          NaN              NaN                  NaN  \n44479          NaN              NaN                  NaN  \n44480          NaN              NaN                  NaN  \n44481          NaN              NaN                  NaN  \n44482          NaN              NaN                  NaN  \n44483          NaN              NaN                  NaN  \n44484          NaN              NaN                  NaN  \n44485          NaN              NaN                  NaN  \n44486          NaN              NaN                  NaN  \n44487          NaN              NaN                  NaN  \n44488          NaN              NaN                  NaN  \n44489          NaN              NaN                  NaN  \n44490          NaN              NaN                  NaN  \n44491          NaN              NaN                  NaN  \n44492          NaN              NaN                  NaN  \n44493          NaN              NaN                  NaN  \n44494          NaN              NaN                  NaN  \n44495          NaN              NaN                  NaN  \n44496          NaN              NaN                  NaN  \n44497          NaN              NaN                  NaN  \n44498          NaN              NaN                  NaN  \n44499          NaN              NaN                  NaN  \n44500          NaN              NaN                  NaN  \n44501          NaN              NaN                  NaN  \n44502          NaN              NaN                  NaN  \n44503          NaN              NaN                  NaN  \n44504          NaN              NaN                  NaN  \n44505          NaN              NaN                  NaN  \n44506          NaN              NaN                  NaN  \n44507          NaN              NaN                  NaN  \n44508          NaN              NaN                  NaN  \n44509          NaN              NaN                  NaN  \n44510          NaN              NaN                  NaN  \n44511          NaN              NaN                  NaN  \n44512          NaN              NaN                  NaN  \n44513          NaN              NaN                  NaN  \n44514          NaN              NaN                  NaN  \n44515          NaN              NaN                  NaN  \n44516          NaN              NaN                  NaN  \n44517          NaN              NaN                  NaN  \n44518          NaN              NaN                  NaN  \n44519          NaN              NaN                  NaN  ",
      "text/html": "<div>\n<style scoped>\n    .dataframe tbody tr th:only-of-type {\n        vertical-align: middle;\n    }\n\n    .dataframe tbody tr th {\n        vertical-align: top;\n    }\n\n    .dataframe thead th {\n        text-align: right;\n    }\n</style>\n<table border=\"1\" class=\"dataframe\">\n  <thead>\n    <tr style=\"text-align: right;\">\n      <th></th>\n      <th>date</th>\n      <th>temperature_2m</th>\n      <th>relative_humidity_2m</th>\n      <th>apparent_temperature</th>\n      <th>precipitation</th>\n      <th>rain</th>\n      <th>surface_pressure</th>\n      <th>cloud_cover</th>\n      <th>wind_speed_100m</th>\n      <th>wind_direction_100m</th>\n    </tr>\n  </thead>\n  <tbody>\n    <tr>\n      <th>44472</th>\n      <td>2024-01-28 00:00:00</td>\n      <td>NaN</td>\n      <td>NaN</td>\n      <td>NaN</td>\n      <td>NaN</td>\n      <td>NaN</td>\n      <td>NaN</td>\n      <td>NaN</td>\n      <td>NaN</td>\n      <td>NaN</td>\n    </tr>\n    <tr>\n      <th>44473</th>\n      <td>2024-01-28 01:00:00</td>\n      <td>NaN</td>\n      <td>NaN</td>\n      <td>NaN</td>\n      <td>NaN</td>\n      <td>NaN</td>\n      <td>NaN</td>\n      <td>NaN</td>\n      <td>NaN</td>\n      <td>NaN</td>\n    </tr>\n    <tr>\n      <th>44474</th>\n      <td>2024-01-28 02:00:00</td>\n      <td>NaN</td>\n      <td>NaN</td>\n      <td>NaN</td>\n      <td>NaN</td>\n      <td>NaN</td>\n      <td>NaN</td>\n      <td>NaN</td>\n      <td>NaN</td>\n      <td>NaN</td>\n    </tr>\n    <tr>\n      <th>44475</th>\n      <td>2024-01-28 03:00:00</td>\n      <td>NaN</td>\n      <td>NaN</td>\n      <td>NaN</td>\n      <td>NaN</td>\n      <td>NaN</td>\n      <td>NaN</td>\n      <td>NaN</td>\n      <td>NaN</td>\n      <td>NaN</td>\n    </tr>\n    <tr>\n      <th>44476</th>\n      <td>2024-01-28 04:00:00</td>\n      <td>NaN</td>\n      <td>NaN</td>\n      <td>NaN</td>\n      <td>NaN</td>\n      <td>NaN</td>\n      <td>NaN</td>\n      <td>NaN</td>\n      <td>NaN</td>\n      <td>NaN</td>\n    </tr>\n    <tr>\n      <th>44477</th>\n      <td>2024-01-28 05:00:00</td>\n      <td>NaN</td>\n      <td>NaN</td>\n      <td>NaN</td>\n      <td>NaN</td>\n      <td>NaN</td>\n      <td>NaN</td>\n      <td>NaN</td>\n      <td>NaN</td>\n      <td>NaN</td>\n    </tr>\n    <tr>\n      <th>44478</th>\n      <td>2024-01-28 06:00:00</td>\n      <td>NaN</td>\n      <td>NaN</td>\n      <td>NaN</td>\n      <td>NaN</td>\n      <td>NaN</td>\n      <td>NaN</td>\n      <td>NaN</td>\n      <td>NaN</td>\n      <td>NaN</td>\n    </tr>\n    <tr>\n      <th>44479</th>\n      <td>2024-01-28 07:00:00</td>\n      <td>NaN</td>\n      <td>NaN</td>\n      <td>NaN</td>\n      <td>NaN</td>\n      <td>NaN</td>\n      <td>NaN</td>\n      <td>NaN</td>\n      <td>NaN</td>\n      <td>NaN</td>\n    </tr>\n    <tr>\n      <th>44480</th>\n      <td>2024-01-28 08:00:00</td>\n      <td>NaN</td>\n      <td>NaN</td>\n      <td>NaN</td>\n      <td>NaN</td>\n      <td>NaN</td>\n      <td>NaN</td>\n      <td>NaN</td>\n      <td>NaN</td>\n      <td>NaN</td>\n    </tr>\n    <tr>\n      <th>44481</th>\n      <td>2024-01-28 09:00:00</td>\n      <td>NaN</td>\n      <td>NaN</td>\n      <td>NaN</td>\n      <td>NaN</td>\n      <td>NaN</td>\n      <td>NaN</td>\n      <td>NaN</td>\n      <td>NaN</td>\n      <td>NaN</td>\n    </tr>\n    <tr>\n      <th>44482</th>\n      <td>2024-01-28 10:00:00</td>\n      <td>NaN</td>\n      <td>NaN</td>\n      <td>NaN</td>\n      <td>NaN</td>\n      <td>NaN</td>\n      <td>NaN</td>\n      <td>NaN</td>\n      <td>NaN</td>\n      <td>NaN</td>\n    </tr>\n    <tr>\n      <th>44483</th>\n      <td>2024-01-28 11:00:00</td>\n      <td>NaN</td>\n      <td>NaN</td>\n      <td>NaN</td>\n      <td>NaN</td>\n      <td>NaN</td>\n      <td>NaN</td>\n      <td>NaN</td>\n      <td>NaN</td>\n      <td>NaN</td>\n    </tr>\n    <tr>\n      <th>44484</th>\n      <td>2024-01-28 12:00:00</td>\n      <td>NaN</td>\n      <td>NaN</td>\n      <td>NaN</td>\n      <td>NaN</td>\n      <td>NaN</td>\n      <td>NaN</td>\n      <td>NaN</td>\n      <td>NaN</td>\n      <td>NaN</td>\n    </tr>\n    <tr>\n      <th>44485</th>\n      <td>2024-01-28 13:00:00</td>\n      <td>NaN</td>\n      <td>NaN</td>\n      <td>NaN</td>\n      <td>NaN</td>\n      <td>NaN</td>\n      <td>NaN</td>\n      <td>NaN</td>\n      <td>NaN</td>\n      <td>NaN</td>\n    </tr>\n    <tr>\n      <th>44486</th>\n      <td>2024-01-28 14:00:00</td>\n      <td>NaN</td>\n      <td>NaN</td>\n      <td>NaN</td>\n      <td>NaN</td>\n      <td>NaN</td>\n      <td>NaN</td>\n      <td>NaN</td>\n      <td>NaN</td>\n      <td>NaN</td>\n    </tr>\n    <tr>\n      <th>44487</th>\n      <td>2024-01-28 15:00:00</td>\n      <td>NaN</td>\n      <td>NaN</td>\n      <td>NaN</td>\n      <td>NaN</td>\n      <td>NaN</td>\n      <td>NaN</td>\n      <td>NaN</td>\n      <td>NaN</td>\n      <td>NaN</td>\n    </tr>\n    <tr>\n      <th>44488</th>\n      <td>2024-01-28 16:00:00</td>\n      <td>NaN</td>\n      <td>NaN</td>\n      <td>NaN</td>\n      <td>NaN</td>\n      <td>NaN</td>\n      <td>NaN</td>\n      <td>NaN</td>\n      <td>NaN</td>\n      <td>NaN</td>\n    </tr>\n    <tr>\n      <th>44489</th>\n      <td>2024-01-28 17:00:00</td>\n      <td>NaN</td>\n      <td>NaN</td>\n      <td>NaN</td>\n      <td>NaN</td>\n      <td>NaN</td>\n      <td>NaN</td>\n      <td>NaN</td>\n      <td>NaN</td>\n      <td>NaN</td>\n    </tr>\n    <tr>\n      <th>44490</th>\n      <td>2024-01-28 18:00:00</td>\n      <td>NaN</td>\n      <td>NaN</td>\n      <td>NaN</td>\n      <td>NaN</td>\n      <td>NaN</td>\n      <td>NaN</td>\n      <td>NaN</td>\n      <td>NaN</td>\n      <td>NaN</td>\n    </tr>\n    <tr>\n      <th>44491</th>\n      <td>2024-01-28 19:00:00</td>\n      <td>NaN</td>\n      <td>NaN</td>\n      <td>NaN</td>\n      <td>NaN</td>\n      <td>NaN</td>\n      <td>NaN</td>\n      <td>NaN</td>\n      <td>NaN</td>\n      <td>NaN</td>\n    </tr>\n    <tr>\n      <th>44492</th>\n      <td>2024-01-28 20:00:00</td>\n      <td>NaN</td>\n      <td>NaN</td>\n      <td>NaN</td>\n      <td>NaN</td>\n      <td>NaN</td>\n      <td>NaN</td>\n      <td>NaN</td>\n      <td>NaN</td>\n      <td>NaN</td>\n    </tr>\n    <tr>\n      <th>44493</th>\n      <td>2024-01-28 21:00:00</td>\n      <td>NaN</td>\n      <td>NaN</td>\n      <td>NaN</td>\n      <td>NaN</td>\n      <td>NaN</td>\n      <td>NaN</td>\n      <td>NaN</td>\n      <td>NaN</td>\n      <td>NaN</td>\n    </tr>\n    <tr>\n      <th>44494</th>\n      <td>2024-01-28 22:00:00</td>\n      <td>NaN</td>\n      <td>NaN</td>\n      <td>NaN</td>\n      <td>NaN</td>\n      <td>NaN</td>\n      <td>NaN</td>\n      <td>NaN</td>\n      <td>NaN</td>\n      <td>NaN</td>\n    </tr>\n    <tr>\n      <th>44495</th>\n      <td>2024-01-28 23:00:00</td>\n      <td>NaN</td>\n      <td>NaN</td>\n      <td>NaN</td>\n      <td>NaN</td>\n      <td>NaN</td>\n      <td>NaN</td>\n      <td>NaN</td>\n      <td>NaN</td>\n      <td>NaN</td>\n    </tr>\n    <tr>\n      <th>44496</th>\n      <td>2024-01-29 00:00:00</td>\n      <td>NaN</td>\n      <td>NaN</td>\n      <td>NaN</td>\n      <td>NaN</td>\n      <td>NaN</td>\n      <td>NaN</td>\n      <td>NaN</td>\n      <td>NaN</td>\n      <td>NaN</td>\n    </tr>\n    <tr>\n      <th>44497</th>\n      <td>2024-01-29 01:00:00</td>\n      <td>NaN</td>\n      <td>NaN</td>\n      <td>NaN</td>\n      <td>NaN</td>\n      <td>NaN</td>\n      <td>NaN</td>\n      <td>NaN</td>\n      <td>NaN</td>\n      <td>NaN</td>\n    </tr>\n    <tr>\n      <th>44498</th>\n      <td>2024-01-29 02:00:00</td>\n      <td>NaN</td>\n      <td>NaN</td>\n      <td>NaN</td>\n      <td>NaN</td>\n      <td>NaN</td>\n      <td>NaN</td>\n      <td>NaN</td>\n      <td>NaN</td>\n      <td>NaN</td>\n    </tr>\n    <tr>\n      <th>44499</th>\n      <td>2024-01-29 03:00:00</td>\n      <td>NaN</td>\n      <td>NaN</td>\n      <td>NaN</td>\n      <td>NaN</td>\n      <td>NaN</td>\n      <td>NaN</td>\n      <td>NaN</td>\n      <td>NaN</td>\n      <td>NaN</td>\n    </tr>\n    <tr>\n      <th>44500</th>\n      <td>2024-01-29 04:00:00</td>\n      <td>NaN</td>\n      <td>NaN</td>\n      <td>NaN</td>\n      <td>NaN</td>\n      <td>NaN</td>\n      <td>NaN</td>\n      <td>NaN</td>\n      <td>NaN</td>\n      <td>NaN</td>\n    </tr>\n    <tr>\n      <th>44501</th>\n      <td>2024-01-29 05:00:00</td>\n      <td>NaN</td>\n      <td>NaN</td>\n      <td>NaN</td>\n      <td>NaN</td>\n      <td>NaN</td>\n      <td>NaN</td>\n      <td>NaN</td>\n      <td>NaN</td>\n      <td>NaN</td>\n    </tr>\n    <tr>\n      <th>44502</th>\n      <td>2024-01-29 06:00:00</td>\n      <td>NaN</td>\n      <td>NaN</td>\n      <td>NaN</td>\n      <td>NaN</td>\n      <td>NaN</td>\n      <td>NaN</td>\n      <td>NaN</td>\n      <td>NaN</td>\n      <td>NaN</td>\n    </tr>\n    <tr>\n      <th>44503</th>\n      <td>2024-01-29 07:00:00</td>\n      <td>NaN</td>\n      <td>NaN</td>\n      <td>NaN</td>\n      <td>NaN</td>\n      <td>NaN</td>\n      <td>NaN</td>\n      <td>NaN</td>\n      <td>NaN</td>\n      <td>NaN</td>\n    </tr>\n    <tr>\n      <th>44504</th>\n      <td>2024-01-29 08:00:00</td>\n      <td>NaN</td>\n      <td>NaN</td>\n      <td>NaN</td>\n      <td>NaN</td>\n      <td>NaN</td>\n      <td>NaN</td>\n      <td>NaN</td>\n      <td>NaN</td>\n      <td>NaN</td>\n    </tr>\n    <tr>\n      <th>44505</th>\n      <td>2024-01-29 09:00:00</td>\n      <td>NaN</td>\n      <td>NaN</td>\n      <td>NaN</td>\n      <td>NaN</td>\n      <td>NaN</td>\n      <td>NaN</td>\n      <td>NaN</td>\n      <td>NaN</td>\n      <td>NaN</td>\n    </tr>\n    <tr>\n      <th>44506</th>\n      <td>2024-01-29 10:00:00</td>\n      <td>NaN</td>\n      <td>NaN</td>\n      <td>NaN</td>\n      <td>NaN</td>\n      <td>NaN</td>\n      <td>NaN</td>\n      <td>NaN</td>\n      <td>NaN</td>\n      <td>NaN</td>\n    </tr>\n    <tr>\n      <th>44507</th>\n      <td>2024-01-29 11:00:00</td>\n      <td>NaN</td>\n      <td>NaN</td>\n      <td>NaN</td>\n      <td>NaN</td>\n      <td>NaN</td>\n      <td>NaN</td>\n      <td>NaN</td>\n      <td>NaN</td>\n      <td>NaN</td>\n    </tr>\n    <tr>\n      <th>44508</th>\n      <td>2024-01-29 12:00:00</td>\n      <td>NaN</td>\n      <td>NaN</td>\n      <td>NaN</td>\n      <td>NaN</td>\n      <td>NaN</td>\n      <td>NaN</td>\n      <td>NaN</td>\n      <td>NaN</td>\n      <td>NaN</td>\n    </tr>\n    <tr>\n      <th>44509</th>\n      <td>2024-01-29 13:00:00</td>\n      <td>NaN</td>\n      <td>NaN</td>\n      <td>NaN</td>\n      <td>NaN</td>\n      <td>NaN</td>\n      <td>NaN</td>\n      <td>NaN</td>\n      <td>NaN</td>\n      <td>NaN</td>\n    </tr>\n    <tr>\n      <th>44510</th>\n      <td>2024-01-29 14:00:00</td>\n      <td>NaN</td>\n      <td>NaN</td>\n      <td>NaN</td>\n      <td>NaN</td>\n      <td>NaN</td>\n      <td>NaN</td>\n      <td>NaN</td>\n      <td>NaN</td>\n      <td>NaN</td>\n    </tr>\n    <tr>\n      <th>44511</th>\n      <td>2024-01-29 15:00:00</td>\n      <td>NaN</td>\n      <td>NaN</td>\n      <td>NaN</td>\n      <td>NaN</td>\n      <td>NaN</td>\n      <td>NaN</td>\n      <td>NaN</td>\n      <td>NaN</td>\n      <td>NaN</td>\n    </tr>\n    <tr>\n      <th>44512</th>\n      <td>2024-01-29 16:00:00</td>\n      <td>NaN</td>\n      <td>NaN</td>\n      <td>NaN</td>\n      <td>NaN</td>\n      <td>NaN</td>\n      <td>NaN</td>\n      <td>NaN</td>\n      <td>NaN</td>\n      <td>NaN</td>\n    </tr>\n    <tr>\n      <th>44513</th>\n      <td>2024-01-29 17:00:00</td>\n      <td>NaN</td>\n      <td>NaN</td>\n      <td>NaN</td>\n      <td>NaN</td>\n      <td>NaN</td>\n      <td>NaN</td>\n      <td>NaN</td>\n      <td>NaN</td>\n      <td>NaN</td>\n    </tr>\n    <tr>\n      <th>44514</th>\n      <td>2024-01-29 18:00:00</td>\n      <td>NaN</td>\n      <td>NaN</td>\n      <td>NaN</td>\n      <td>NaN</td>\n      <td>NaN</td>\n      <td>NaN</td>\n      <td>NaN</td>\n      <td>NaN</td>\n      <td>NaN</td>\n    </tr>\n    <tr>\n      <th>44515</th>\n      <td>2024-01-29 19:00:00</td>\n      <td>NaN</td>\n      <td>NaN</td>\n      <td>NaN</td>\n      <td>NaN</td>\n      <td>NaN</td>\n      <td>NaN</td>\n      <td>NaN</td>\n      <td>NaN</td>\n      <td>NaN</td>\n    </tr>\n    <tr>\n      <th>44516</th>\n      <td>2024-01-29 20:00:00</td>\n      <td>NaN</td>\n      <td>NaN</td>\n      <td>NaN</td>\n      <td>NaN</td>\n      <td>NaN</td>\n      <td>NaN</td>\n      <td>NaN</td>\n      <td>NaN</td>\n      <td>NaN</td>\n    </tr>\n    <tr>\n      <th>44517</th>\n      <td>2024-01-29 21:00:00</td>\n      <td>NaN</td>\n      <td>NaN</td>\n      <td>NaN</td>\n      <td>NaN</td>\n      <td>NaN</td>\n      <td>NaN</td>\n      <td>NaN</td>\n      <td>NaN</td>\n      <td>NaN</td>\n    </tr>\n    <tr>\n      <th>44518</th>\n      <td>2024-01-29 22:00:00</td>\n      <td>NaN</td>\n      <td>NaN</td>\n      <td>NaN</td>\n      <td>NaN</td>\n      <td>NaN</td>\n      <td>NaN</td>\n      <td>NaN</td>\n      <td>NaN</td>\n      <td>NaN</td>\n    </tr>\n    <tr>\n      <th>44519</th>\n      <td>2024-01-29 23:00:00</td>\n      <td>NaN</td>\n      <td>NaN</td>\n      <td>NaN</td>\n      <td>NaN</td>\n      <td>NaN</td>\n      <td>NaN</td>\n      <td>NaN</td>\n      <td>NaN</td>\n      <td>NaN</td>\n    </tr>\n  </tbody>\n</table>\n</div>"
     },
     "execution_count": 11,
     "metadata": {},
     "output_type": "execute_result"
    }
   ],
   "source": [
    "hourly_dataframe[hourly_dataframe['temperature_2m'].isnull()]"
   ],
   "metadata": {
    "collapsed": false
   }
  },
  {
   "cell_type": "code",
   "execution_count": 12,
   "outputs": [],
   "source": [
    "filtered_df = hourly_dataframe[hourly_dataframe['date'] < '2024-01-28 00:00:00']"
   ],
   "metadata": {
    "collapsed": false
   }
  },
  {
   "cell_type": "code",
   "execution_count": 13,
   "outputs": [
    {
     "data": {
      "text/plain": "date                    0\ntemperature_2m          0\nrelative_humidity_2m    0\napparent_temperature    0\nprecipitation           0\nrain                    0\nsurface_pressure        0\ncloud_cover             0\nwind_speed_100m         0\nwind_direction_100m     0\ndtype: int64"
     },
     "execution_count": 13,
     "metadata": {},
     "output_type": "execute_result"
    }
   ],
   "source": [
    "filtered_df.isna().sum()"
   ],
   "metadata": {
    "collapsed": false
   }
  },
  {
   "cell_type": "code",
   "execution_count": 14,
   "outputs": [
    {
     "data": {
      "text/plain": "                        count                 mean                  min  \\\ndate                    44472  2021-07-15 11:30:00  2019-01-01 00:00:00   \ntemperature_2m        44472.0             9.456667             -23.0425   \nrelative_humidity_2m  44472.0            73.570244             14.91567   \napparent_temperature  44472.0             6.688212               -28.68   \nprecipitation         44472.0             0.070822                  0.0   \nrain                  44472.0             0.059662                  0.0   \nsurface_pressure      44472.0           993.240417           961.857056   \ncloud_cover           44472.0            53.637917                  0.0   \nwind_speed_100m       44472.0            21.672243                  0.0   \nwind_direction_100m   44472.0           202.341827             0.572935   \n\n                                      25%                  50%  \\\ndate                  2020-04-08 05:45:00  2021-07-15 11:30:00   \ntemperature_2m                     1.3075             8.907499   \nrelative_humidity_2m            60.913239            77.097752   \napparent_temperature            -2.988262             5.744978   \nprecipitation                         0.0                  0.0   \nrain                                  0.0                  0.0   \nsurface_pressure               988.106506            993.33606   \ncloud_cover                          14.1            53.100002   \nwind_speed_100m                 15.379206            21.413191   \nwind_direction_100m            123.023878           214.676819   \n\n                                      75%                  max         std  \ndate                  2022-10-21 17:15:00  2024-01-27 23:00:00         NaN  \ntemperature_2m                    17.3575            34.307499     9.72684  \nrelative_humidity_2m            88.888327                100.0   18.094131  \napparent_temperature            16.118525            36.315945   11.499243  \nprecipitation                         0.0                 10.5      0.3184  \nrain                                  0.0                 10.5    0.305727  \nsurface_pressure               998.552612          1022.762573    8.196391  \ncloud_cover                          98.1                100.0   39.111752  \nwind_speed_100m                 27.534704            73.929832     9.00713  \nwind_direction_100m            291.644501                360.0  103.061142  ",
      "text/html": "<div>\n<style scoped>\n    .dataframe tbody tr th:only-of-type {\n        vertical-align: middle;\n    }\n\n    .dataframe tbody tr th {\n        vertical-align: top;\n    }\n\n    .dataframe thead th {\n        text-align: right;\n    }\n</style>\n<table border=\"1\" class=\"dataframe\">\n  <thead>\n    <tr style=\"text-align: right;\">\n      <th></th>\n      <th>count</th>\n      <th>mean</th>\n      <th>min</th>\n      <th>25%</th>\n      <th>50%</th>\n      <th>75%</th>\n      <th>max</th>\n      <th>std</th>\n    </tr>\n  </thead>\n  <tbody>\n    <tr>\n      <th>date</th>\n      <td>44472</td>\n      <td>2021-07-15 11:30:00</td>\n      <td>2019-01-01 00:00:00</td>\n      <td>2020-04-08 05:45:00</td>\n      <td>2021-07-15 11:30:00</td>\n      <td>2022-10-21 17:15:00</td>\n      <td>2024-01-27 23:00:00</td>\n      <td>NaN</td>\n    </tr>\n    <tr>\n      <th>temperature_2m</th>\n      <td>44472.0</td>\n      <td>9.456667</td>\n      <td>-23.0425</td>\n      <td>1.3075</td>\n      <td>8.907499</td>\n      <td>17.3575</td>\n      <td>34.307499</td>\n      <td>9.72684</td>\n    </tr>\n    <tr>\n      <th>relative_humidity_2m</th>\n      <td>44472.0</td>\n      <td>73.570244</td>\n      <td>14.91567</td>\n      <td>60.913239</td>\n      <td>77.097752</td>\n      <td>88.888327</td>\n      <td>100.0</td>\n      <td>18.094131</td>\n    </tr>\n    <tr>\n      <th>apparent_temperature</th>\n      <td>44472.0</td>\n      <td>6.688212</td>\n      <td>-28.68</td>\n      <td>-2.988262</td>\n      <td>5.744978</td>\n      <td>16.118525</td>\n      <td>36.315945</td>\n      <td>11.499243</td>\n    </tr>\n    <tr>\n      <th>precipitation</th>\n      <td>44472.0</td>\n      <td>0.070822</td>\n      <td>0.0</td>\n      <td>0.0</td>\n      <td>0.0</td>\n      <td>0.0</td>\n      <td>10.5</td>\n      <td>0.3184</td>\n    </tr>\n    <tr>\n      <th>rain</th>\n      <td>44472.0</td>\n      <td>0.059662</td>\n      <td>0.0</td>\n      <td>0.0</td>\n      <td>0.0</td>\n      <td>0.0</td>\n      <td>10.5</td>\n      <td>0.305727</td>\n    </tr>\n    <tr>\n      <th>surface_pressure</th>\n      <td>44472.0</td>\n      <td>993.240417</td>\n      <td>961.857056</td>\n      <td>988.106506</td>\n      <td>993.33606</td>\n      <td>998.552612</td>\n      <td>1022.762573</td>\n      <td>8.196391</td>\n    </tr>\n    <tr>\n      <th>cloud_cover</th>\n      <td>44472.0</td>\n      <td>53.637917</td>\n      <td>0.0</td>\n      <td>14.1</td>\n      <td>53.100002</td>\n      <td>98.1</td>\n      <td>100.0</td>\n      <td>39.111752</td>\n    </tr>\n    <tr>\n      <th>wind_speed_100m</th>\n      <td>44472.0</td>\n      <td>21.672243</td>\n      <td>0.0</td>\n      <td>15.379206</td>\n      <td>21.413191</td>\n      <td>27.534704</td>\n      <td>73.929832</td>\n      <td>9.00713</td>\n    </tr>\n    <tr>\n      <th>wind_direction_100m</th>\n      <td>44472.0</td>\n      <td>202.341827</td>\n      <td>0.572935</td>\n      <td>123.023878</td>\n      <td>214.676819</td>\n      <td>291.644501</td>\n      <td>360.0</td>\n      <td>103.061142</td>\n    </tr>\n  </tbody>\n</table>\n</div>"
     },
     "execution_count": 14,
     "metadata": {},
     "output_type": "execute_result"
    }
   ],
   "source": [
    "filtered_df.describe().T"
   ],
   "metadata": {
    "collapsed": false
   }
  },
  {
   "cell_type": "code",
   "execution_count": 15,
   "outputs": [],
   "source": [
    "filtered_df.to_csv('data/kyiv_hourly.csv', index=False)"
   ],
   "metadata": {
    "collapsed": false
   }
  }
 ],
 "metadata": {
  "kernelspec": {
   "display_name": "Python 3",
   "language": "python",
   "name": "python3"
  },
  "language_info": {
   "codemirror_mode": {
    "name": "ipython",
    "version": 2
   },
   "file_extension": ".py",
   "mimetype": "text/x-python",
   "name": "python",
   "nbconvert_exporter": "python",
   "pygments_lexer": "ipython2",
   "version": "2.7.6"
  }
 },
 "nbformat": 4,
 "nbformat_minor": 0
}
